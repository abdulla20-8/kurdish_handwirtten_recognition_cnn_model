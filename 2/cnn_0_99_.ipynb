{
 "cells": [
  {
   "cell_type": "code",
   "execution_count": null,
   "metadata": {
    "id": "_rUTmC8HpkOU"
   },
   "outputs": [],
   "source": [
    "# https://colab.research.google.com/drive/1CpV4osCtZdmtnDStA4qrYjIAlWnTjtVK?usp=sharing"
   ]
  },
  {
   "cell_type": "code",
   "execution_count": 1,
   "metadata": {
    "id": "HcT3ANdtXmjk"
   },
   "outputs": [],
   "source": [
    "import pandas as pd\n",
    "import numpy as np\n",
    "import matplotlib.pyplot as plt\n",
    "import matplotlib.image as mpimg\n",
    "import seaborn as sns\n",
    "%matplotlib inline\n",
    "\n",
    "np.random.seed(2)\n",
    "\n",
    "from sklearn.model_selection import train_test_split\n",
    "from sklearn.metrics import confusion_matrix\n",
    "import itertools\n",
    "\n",
    "from keras.utils.np_utils import to_categorical # convert to one-hot-encoding\n",
    "from keras.models import Sequential\n",
    "from keras.layers import Dense, Dropout, Flatten, Conv2D, MaxPool2D\n",
    "from keras.optimizers import RMSprop\n",
    "from keras.preprocessing.image import ImageDataGenerator\n",
    "from keras.callbacks import ReduceLROnPlateau"
   ]
  },
  {
   "cell_type": "code",
   "execution_count": 2,
   "metadata": {
    "colab": {
     "base_uri": "https://localhost:8080/"
    },
    "id": "GSboKOp-VO7n",
    "outputId": "73276950-9543-4fd4-b6f5-3d88169eabcc"
   },
   "outputs": [
    {
     "name": "stdout",
     "output_type": "stream",
     "text": [
      "Mounted at /content/drive\n"
     ]
    }
   ],
   "source": [
    "from google.colab import drive\n",
    "\n",
    "drive.mount('/content/drive')\n",
    "\n",
    "!cp /content/drive/MyDrive/Abdulla_OCR/Character/anotation_28x28/Test.csv .\n",
    "!cp /content/drive/MyDrive/Abdulla_OCR/Character/anotation_28x28/Train.csv .\n",
    "\n",
    "!rm -rf sample_data"
   ]
  },
  {
   "cell_type": "code",
   "execution_count": 3,
   "metadata": {
    "id": "enMBFPZLVRMM"
   },
   "outputs": [],
   "source": [
    "import pandas as pd \n",
    "import seaborn as sns\n",
    "\n",
    "train = pd.read_csv(\"Train.csv\")\n",
    "test = pd.read_csv(\"Test.csv\")"
   ]
  },
  {
   "cell_type": "code",
   "execution_count": 4,
   "metadata": {
    "colab": {
     "base_uri": "https://localhost:8080/",
     "height": 1000
    },
    "id": "1pmGo6loWRIe",
    "outputId": "35287df4-d028-4305-b728-d58b68994e61"
   },
   "outputs": [
    {
     "data": {
      "text/plain": [
       "0     6000\n",
       "26    5999\n",
       "20    5999\n",
       "21    5999\n",
       "22    5999\n",
       "23    5999\n",
       "24    5999\n",
       "25    5999\n",
       "27    5999\n",
       "18    5999\n",
       "28    5999\n",
       "29    5999\n",
       "30    5999\n",
       "31    5999\n",
       "32    5999\n",
       "33    5999\n",
       "19    5999\n",
       "17    5999\n",
       "1     5999\n",
       "8     5999\n",
       "2     5999\n",
       "3     5999\n",
       "4     5999\n",
       "5     5999\n",
       "6     5999\n",
       "7     5999\n",
       "9     5999\n",
       "16    5999\n",
       "10    5999\n",
       "11    5999\n",
       "12    5999\n",
       "13    5999\n",
       "14    5999\n",
       "15    5999\n",
       "34    5999\n",
       "Name: label, dtype: int64"
      ]
     },
     "execution_count": 4,
     "metadata": {},
     "output_type": "execute_result"
    },
    {
     "data": {
      "image/png": "[encoded data removed]",
      "text/plain": [
       "<Figure size 640x480 with 1 Axes>"
      ]
     },
     "metadata": {},
     "output_type": "display_data"
    }
   ],
   "source": [
    "Y_train = train[\"label\"]\n",
    "\n",
    "# Drop 'label' column\n",
    "X_train = train.drop(labels = [\"label\"],axis = 1) \n",
    "\n",
    "# free some space\n",
    "del train \n",
    "\n",
    "g = sns.countplot(Y_train)\n",
    "\n",
    "Y_train.value_counts()"
   ]
  },
  {
   "cell_type": "code",
   "execution_count": 5,
   "metadata": {
    "colab": {
     "base_uri": "https://localhost:8080/"
    },
    "id": "6Xj_yM6YWOUM",
    "outputId": "7b3dc3d4-1311-43cd-f0ef-5a7680182f35"
   },
   "outputs": [
    {
     "data": {
      "text/plain": [
       "count       784\n",
       "unique        1\n",
       "top       False\n",
       "freq        784\n",
       "dtype: object"
      ]
     },
     "execution_count": 5,
     "metadata": {},
     "output_type": "execute_result"
    }
   ],
   "source": [
    "# Check the data\n",
    "X_train.isnull().any().describe()"
   ]
  },
  {
   "cell_type": "code",
   "execution_count": 6,
   "metadata": {
    "colab": {
     "base_uri": "https://localhost:8080/"
    },
    "id": "sliD4w8nWM0P",
    "outputId": "8a518393-f269-4023-f41f-3632256084c9"
   },
   "outputs": [
    {
     "data": {
      "text/plain": [
       "count       784\n",
       "unique        1\n",
       "top       False\n",
       "freq        784\n",
       "dtype: object"
      ]
     },
     "execution_count": 6,
     "metadata": {},
     "output_type": "execute_result"
    }
   ],
   "source": [
    "test.isnull().any().describe()"
   ]
  },
  {
   "cell_type": "code",
   "execution_count": 7,
   "metadata": {
    "id": "XUcDWzR8WLM9"
   },
   "outputs": [],
   "source": [
    "# Normalize the data\n",
    "X_train = X_train / 255.0\n",
    "test = test / 255.0"
   ]
  },
  {
   "cell_type": "code",
   "execution_count": 8,
   "metadata": {
    "id": "CDME31IbWJhk"
   },
   "outputs": [],
   "source": [
    "# Reshape image in 3 dimensions (height = 28px, width = 28px , canal = 1)\n",
    "X_train = X_train.values.reshape(-1,28,28,1)\n",
    "test = test.values.reshape(-1,28,28,1)"
   ]
  },
  {
   "cell_type": "code",
   "execution_count": 9,
   "metadata": {
    "id": "LQiqgLHoWIoG"
   },
   "outputs": [],
   "source": [
    "from keras.utils import to_categorical\n",
    "\n",
    "# Encode labels to one hot vectors (ex : 2 -> [0,0,1,0,0,0,0,0,0,0])\n",
    "Y_train = to_categorical(Y_train, num_classes = 35)"
   ]
  },
  {
   "cell_type": "code",
   "execution_count": 10,
   "metadata": {
    "id": "VRDDgdpQWD8f"
   },
   "outputs": [],
   "source": [
    "from sklearn.model_selection import train_test_split\n",
    "\n",
    "# Split the train and the validation set for the fitting\n",
    "X_train, X_val, Y_train, Y_val = train_test_split(X_train, Y_train, test_size = 0.1)"
   ]
  },
  {
   "cell_type": "code",
   "execution_count": 11,
   "metadata": {
    "id": "nGY-GLhYVbYP"
   },
   "outputs": [],
   "source": [
    "from keras.utils import to_categorical\n",
    "\n",
    "y_train = to_categorical(Y_train, num_classes = 35, dtype = 'float32')\n",
    "y_test = to_categorical(Y_val, num_classes = 35, dtype = 'float32')"
   ]
  },
  {
   "cell_type": "code",
   "execution_count": 12,
   "metadata": {
    "colab": {
     "base_uri": "https://localhost:8080/"
    },
    "id": "4M6qt1zIVfLL",
    "outputId": "8d0597d2-b4a4-49a6-8331-ee5e8c7d061e"
   },
   "outputs": [
    {
     "data": {
      "text/plain": [
       "(188969, 35, 35)"
      ]
     },
     "execution_count": 12,
     "metadata": {},
     "output_type": "execute_result"
    }
   ],
   "source": [
    "y_train.shape"
   ]
  },
  {
   "cell_type": "code",
   "execution_count": 14,
   "metadata": {
    "id": "caVVu9RgVh5-"
   },
   "outputs": [],
   "source": [
    "# Converting the arrays to float so that we can get decimal points after division\n",
    "x_train = X_train.astype('float32')\n",
    "x_test = X_val.astype('float32')"
   ]
  },
  {
   "cell_type": "code",
   "execution_count": 15,
   "metadata": {
    "id": "WVRBSoPZV0XP"
   },
   "outputs": [],
   "source": [
    "# Normalizing the RGB codes by dividing it to the maximum RGB value.\n",
    "x_train /= 255\n",
    "x_test /= 255"
   ]
  },
  {
   "cell_type": "code",
   "execution_count": 16,
   "metadata": {
    "colab": {
     "base_uri": "https://localhost:8080/"
    },
    "id": "L_NjSAOXV18y",
    "outputId": "8012bb7c-9e69-4248-abd7-f459ac66452a"
   },
   "outputs": [
    {
     "name": "stdout",
     "output_type": "stream",
     "text": [
      "x_train shape: (188969, 28, 28, 1)\n",
      "y_train shape: (188969, 35, 35)\n",
      "Number of images in x_train 188969\n",
      "Number of images in x_test 20997\n"
     ]
    }
   ],
   "source": [
    "#Checking the shapes of x_train and y_train \n",
    "print('x_train shape:', x_train.shape)\n",
    "print('y_train shape:', y_train.shape)\n",
    "print('Number of images in x_train', x_train.shape[0])\n",
    "print('Number of images in x_test', x_test.shape[0])"
   ]
  },
  {
   "cell_type": "code",
   "execution_count": 17,
   "metadata": {
    "id": "lUGM8CYEV32s"
   },
   "outputs": [],
   "source": [
    "#Initializing the input shape\n",
    "input_shape = (28, 28, 1)"
   ]
  },
  {
   "cell_type": "code",
   "execution_count": 18,
   "metadata": {
    "colab": {
     "base_uri": "https://localhost:8080/"
    },
    "id": "HU0hRCWXUWb-",
    "outputId": "a2cb3526-6c3b-43e5-d88d-3f877c40388c"
   },
   "outputs": [
    {
     "name": "stdout",
     "output_type": "stream",
     "text": [
      "Epoch 1/30\n",
      "5906/5906 [==============================] - 44s 5ms/step - loss: 0.4242 - accuracy: 0.8636\n",
      "Epoch 2/30\n",
      "5906/5906 [==============================] - 27s 5ms/step - loss: 0.1967 - accuracy: 0.9376\n",
      "Epoch 3/30\n",
      "5906/5906 [==============================] - 25s 4ms/step - loss: 0.1547 - accuracy: 0.9517\n",
      "Epoch 4/30\n",
      "5906/5906 [==============================] - 26s 4ms/step - loss: 0.1343 - accuracy: 0.9590\n",
      "Epoch 5/30\n",
      "5906/5906 [==============================] - 25s 4ms/step - loss: 0.1201 - accuracy: 0.9640\n",
      "Epoch 6/30\n",
      "5906/5906 [==============================] - 25s 4ms/step - loss: 0.1108 - accuracy: 0.9672\n",
      "Epoch 7/30\n",
      "5906/5906 [==============================] - 25s 4ms/step - loss: 0.1112 - accuracy: 0.9693\n",
      "Epoch 8/30\n",
      "5906/5906 [==============================] - 26s 4ms/step - loss: 0.1086 - accuracy: 0.9705\n",
      "Epoch 9/30\n",
      "5906/5906 [==============================] - 26s 4ms/step - loss: 0.1068 - accuracy: 0.9722\n",
      "Epoch 10/30\n",
      "5906/5906 [==============================] - 26s 4ms/step - loss: 0.1084 - accuracy: 0.9735\n",
      "Epoch 11/30\n",
      "5906/5906 [==============================] - 25s 4ms/step - loss: 0.1074 - accuracy: 0.9749\n",
      "Epoch 12/30\n",
      "5906/5906 [==============================] - 25s 4ms/step - loss: 0.1146 - accuracy: 0.9747\n",
      "Epoch 13/30\n",
      "5906/5906 [==============================] - 25s 4ms/step - loss: 0.1130 - accuracy: 0.9761\n",
      "Epoch 14/30\n",
      "5906/5906 [==============================] - 25s 4ms/step - loss: 0.1109 - accuracy: 0.9775\n",
      "Epoch 15/30\n",
      "5906/5906 [==============================] - 26s 4ms/step - loss: 0.1213 - accuracy: 0.9770\n",
      "Epoch 16/30\n",
      "5906/5906 [==============================] - 25s 4ms/step - loss: 0.1140 - accuracy: 0.9788\n",
      "Epoch 17/30\n",
      "5906/5906 [==============================] - 25s 4ms/step - loss: 0.1194 - accuracy: 0.9786\n",
      "Epoch 18/30\n",
      "5906/5906 [==============================] - 25s 4ms/step - loss: 0.1280 - accuracy: 0.9788\n",
      "Epoch 19/30\n",
      "5906/5906 [==============================] - 25s 4ms/step - loss: 0.1239 - accuracy: 0.9799\n",
      "Epoch 20/30\n",
      "5906/5906 [==============================] - 25s 4ms/step - loss: 0.1333 - accuracy: 0.9801\n",
      "Epoch 21/30\n",
      "5906/5906 [==============================] - 25s 4ms/step - loss: 0.1326 - accuracy: 0.9808\n",
      "Epoch 22/30\n",
      "5906/5906 [==============================] - 25s 4ms/step - loss: 0.1365 - accuracy: 0.9815\n",
      "Epoch 23/30\n",
      "5906/5906 [==============================] - 25s 4ms/step - loss: 0.1371 - accuracy: 0.9818\n",
      "Epoch 24/30\n",
      "5906/5906 [==============================] - 26s 4ms/step - loss: 0.1404 - accuracy: 0.9823\n",
      "Epoch 25/30\n",
      "5906/5906 [==============================] - 25s 4ms/step - loss: 0.1418 - accuracy: 0.9831\n",
      "Epoch 26/30\n",
      "5906/5906 [==============================] - 25s 4ms/step - loss: 0.1536 - accuracy: 0.9829\n",
      "Epoch 27/30\n",
      "5906/5906 [==============================] - 25s 4ms/step - loss: 0.1553 - accuracy: 0.9833\n",
      "Epoch 28/30\n",
      "5906/5906 [==============================] - 24s 4ms/step - loss: 0.1502 - accuracy: 0.9840\n",
      "Epoch 29/30\n",
      "5906/5906 [==============================] - 24s 4ms/step - loss: 0.1556 - accuracy: 0.9844\n",
      "Epoch 30/30\n",
      "5906/5906 [==============================] - 25s 4ms/step - loss: 0.1586 - accuracy: 0.9849\n",
      "657/657 [==============================] - 3s 4ms/step - loss: 0.8927 - accuracy: 0.9602\n",
      "5906/5906 [==============================] - 19s 3ms/step - loss: 0.0464 - accuracy: 0.9942\n"
     ]
    },
    {
     "data": {
      "text/plain": [
       "[0.046373460441827774, 0.9941948056221008]"
      ]
     },
     "execution_count": 18,
     "metadata": {},
     "output_type": "execute_result"
    }
   ],
   "source": [
    "import tensorflow as tf\n",
    "from tensorflow import keras\n",
    "\n",
    "# load the data\n",
    "X_train, X_val, Y_train, Y_val\n",
    "\n",
    "# define the model architecture\n",
    "model = keras.Sequential([\n",
    "    keras.layers.Conv2D(32, (5, 5), padding=\"same\", input_shape=[28, 28, 1]),\n",
    "    keras.layers.MaxPool2D((2,2)),\n",
    "    keras.layers.Conv2D(64, (5, 5), padding=\"same\"),\n",
    "    keras.layers.MaxPool2D((2,2)),\n",
    "    keras.layers.Flatten(),\n",
    "    keras.layers.Dense(1024, activation='relu'),\n",
    "    keras.layers.Dropout(0.2),\n",
    "    keras.layers.Dense(35, activation='softmax')\n",
    "])\n",
    "model.compile(optimizer='adam', loss='categorical_crossentropy', metrics=['accuracy'])\n",
    "\n",
    "# train the model\n",
    "model.fit(x=X_train,y=Y_train, epochs=30)\n",
    "model.evaluate(X_val, Y_val)\n",
    "model.evaluate(X_train, Y_train)"
   ]
  },
  {
   "cell_type": "code",
   "execution_count": 19,
   "metadata": {
    "id": "lDmeKhy1UzMQ"
   },
   "outputs": [],
   "source": [
    "model.save(\"model.h5\")"
   ]
  },
  {
   "cell_type": "code",
   "execution_count": 20,
   "metadata": {
    "colab": {
     "base_uri": "https://localhost:8080/"
    },
    "id": "3yqQQEC7whya",
    "outputId": "7da6545e-bd8c-4bb5-f0d2-63201111d023"
   },
   "outputs": [
    {
     "name": "stdout",
     "output_type": "stream",
     "text": [
      "Model: \"sequential\"\n",
      "_________________________________________________________________\n",
      " Layer (type)                Output Shape              Param #   \n",
      "=================================================================\n",
      " conv2d (Conv2D)             (None, 28, 28, 32)        832       \n",
      "                                                                 \n",
      " max_pooling2d (MaxPooling2D  (None, 14, 14, 32)       0         \n",
      " )                                                               \n",
      "                                                                 \n",
      " conv2d_1 (Conv2D)           (None, 14, 14, 64)        51264     \n",
      "                                                                 \n",
      " max_pooling2d_1 (MaxPooling  (None, 7, 7, 64)         0         \n",
      " 2D)                                                             \n",
      "                                                                 \n",
      " flatten (Flatten)           (None, 3136)              0         \n",
      "                                                                 \n",
      " dense (Dense)               (None, 1024)              3212288   \n",
      "                                                                 \n",
      " dropout (Dropout)           (None, 1024)              0         \n",
      "                                                                 \n",
      " dense_1 (Dense)             (None, 35)                35875     \n",
      "                                                                 \n",
      "=================================================================\n",
      "Total params: 3,300,259\n",
      "Trainable params: 3,300,259\n",
      "Non-trainable params: 0\n",
      "_________________________________________________________________\n"
     ]
    }
   ],
   "source": [
    "model.summary()"
   ]
  },
  {
   "cell_type": "code",
   "execution_count": 25,
   "metadata": {
    "colab": {
     "base_uri": "https://localhost:8080/"
    },
    "id": "Om38rRpj4U34",
    "outputId": "1c95c301-f52e-4478-e2c8-d46ab08c35a6"
   },
   "outputs": [
    {
     "name": "stdout",
     "output_type": "stream",
     "text": [
      "5906/5906 [==============================] - 20s 3ms/step - loss: 0.0464 - accuracy: 0.9942\n"
     ]
    },
    {
     "data": {
      "text/plain": [
       "[0.046373460441827774, 0.9941948056221008]"
      ]
     },
     "execution_count": 25,
     "metadata": {},
     "output_type": "execute_result"
    }
   ],
   "source": [
    "model.evaluate(X_train, Y_train)"
   ]
  },
  {
   "cell_type": "code",
   "execution_count": 23,
   "metadata": {
    "id": "R8Ncx-PcZE56"
   },
   "outputs": [],
   "source": [
    "!cp -r model.h5 /content/drive/MyDrive/Model/"
   ]
  }
 ],
 "metadata": {
  "accelerator": "GPU",
  "colab": {
   "provenance": []
  },
  "gpuClass": "standard",
  "kernelspec": {
   "display_name": "Python 3 (ipykernel)",
   "language": "python",
   "name": "python3"
  },
  "language_info": {
   "codemirror_mode": {
    "name": "ipython",
    "version": 3
   },
   "file_extension": ".py",
   "mimetype": "text/x-python",
   "name": "python",
   "nbconvert_exporter": "python",
   "pygments_lexer": "ipython3",
   "version": "3.9.13"
  }
 },
 "nbformat": 4,
 "nbformat_minor": 1
}
