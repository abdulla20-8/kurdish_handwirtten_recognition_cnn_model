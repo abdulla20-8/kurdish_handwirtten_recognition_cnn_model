{
 "cells": [
  {
   "cell_type": "markdown",
   "metadata": {
    "id": "2DtA0B2J-PpW"
   },
   "source": [
    "# Introduction:"
   ]
  },
  {
   "cell_type": "markdown",
   "metadata": {
    "id": "VEGXl-ob-PpY"
   },
   "source": [
    "In this project, we will be working on a digit recognition problem using the popular MNIST dataset. The MNIST dataset consists of a large number of images of handwritten digits ranging from 0 to 9. Our goal is to develop a machine learning model that can accurately classify these images and correctly identify the digit that is being represented.\n",
    "\n",
    "To accomplish this, we will be using a convolutional neural network (CNN), which is a type of deep learning algorithm that is particularly well-suited for image recognition tasks. We will be implementing our CNN using the Keras library in Python, which provides an easy-to-use interface for building and training deep learning models.\n",
    "\n",
    "The accuracy of our model will be evaluated using a test set of images that the model has never seen before. Our ultimate goal is to develop a model that can achieve high accuracy on the test set, demonstrating its ability to generalize well to new, unseen data."
   ]
  },
  {
   "cell_type": "markdown",
   "metadata": {
    "id": "UoUBjQJy-PpZ"
   },
   "source": [
    "<img src=\"https://www.upgrad.com/blog/wp-content/uploads/2020/12/1-4.png\">"
   ]
  },
  {
   "cell_type": "markdown",
   "metadata": {
    "id": "kQ4OV_2e-PpZ"
   },
   "source": [
    "# Table of Contents\n",
    "\n",
    "* &nbsp; **[Introduction](#Introduction)**\n",
    "    \n",
    "* &nbsp; **[Import](#Import)**\n",
    "\n",
    "* &nbsp; **[Load and Check Data](#Load-and-Check-Data)**\n",
    "   \n",
    "* &nbsp; **[Data Preparation](#Data-Preparation)**\n",
    "\n",
    "    * &nbsp; **[Normalization](#Normalization)**\n",
    "    \n",
    "    * &nbsp; **[Reshape](#Reshape)**\n",
    "    \n",
    "    * &nbsp; **[Label Encoding](#Label-Encoding)**\n",
    "    \n",
    "    * &nbsp; **[Train Test Split](#Train-Test-Split)**\n",
    "       \n",
    "\n",
    "* &nbsp; **[Data Augmentation](#Data-Augmentation)**\n",
    "    \n",
    "* &nbsp; **[CNN Building](#CNN-Building)**\n",
    "\n",
    "    * &nbsp; **[CNN Architecture](#CNN-Architecture)**\n",
    "    \n",
    "    * &nbsp; **[Set up Optimizer and Annealer](#Set-up-Optimizer-and-Annealer)**\n",
    "    \n",
    "    * &nbsp; **[Fit the Model](#Fit-the-Model)**\n",
    "\n",
    "* &nbsp; **[Prediction](#Prediction)**\n"
   ]
  },
  {
   "cell_type": "markdown",
   "metadata": {
    "id": "jwoTf1_J-PpZ"
   },
   "source": [
    "# Import:"
   ]
  },
  {
   "cell_type": "code",
   "execution_count": 1,
   "metadata": {
    "_cell_guid": "b1076dfc-b9ad-4769-8c92-a6c4dae69d19",
    "_uuid": "8f2839f25d086af736a60e9eeb907d3b93b6e0e5",
    "execution": {
     "iopub.execute_input": "2023-03-24T22:46:51.290405Z",
     "iopub.status.busy": "2023-03-24T22:46:51.289266Z",
     "iopub.status.idle": "2023-03-24T22:46:51.299621Z",
     "shell.execute_reply": "2023-03-24T22:46:51.298325Z",
     "shell.execute_reply.started": "2023-03-24T22:46:51.290362Z"
    },
    "id": "bsZbXD-s-Ppa"
   },
   "outputs": [],
   "source": [
    "import numpy as np\n",
    "import pandas as pd\n",
    "\n",
    "import plotly.express as px\n",
    "import matplotlib.pyplot as plt\n",
    "import seaborn as sns\n",
    "\n",
    "from keras.models import Sequential\n",
    "from keras.layers import Dense , Dropout, Flatten, Conv2D, MaxPool2D, BatchNormalization\n",
    "from keras.optimizers import Adam ,RMSprop\n",
    "from sklearn.model_selection import train_test_split\n",
    "from keras.utils.np_utils import to_categorical\n",
    "from keras.preprocessing.image import ImageDataGenerator\n",
    "from keras.callbacks import LearningRateScheduler\n",
    "\n",
    "import warnings\n",
    "# filter warnings\n",
    "warnings.filterwarnings('ignore')\n",
    "\n",
    "# Input data files are available in the \"../input/\" directory."
   ]
  },
  {
   "cell_type": "markdown",
   "metadata": {
    "id": "yuPebwDK-Ppb"
   },
   "source": [
    "# Load and Check Data"
   ]
  },
  {
   "cell_type": "code",
   "execution_count": 2,
   "metadata": {
    "colab": {
     "base_uri": "https://localhost:8080/"
    },
    "id": "Ep0hSvNW-vQ6",
    "outputId": "8a103f1e-14b5-437d-b375-6c02dafa5abc"
   },
   "outputs": [
    {
     "name": "stdout",
     "output_type": "stream",
     "text": [
      "Mounted at /content/drive\n"
     ]
    }
   ],
   "source": [
    "from google.colab import drive\n",
    "\n",
    "drive.mount('/content/drive')\n",
    "\n",
    "!cp /content/drive/MyDrive/Abdulla_OCR/Character/anotation_28x28/Test.csv .\n",
    "!cp /content/drive/MyDrive/Abdulla_OCR/Character/anotation_28x28/Train.csv .\n",
    "\n",
    "!rm -rf sample_data"
   ]
  },
  {
   "cell_type": "code",
   "execution_count": 3,
   "metadata": {
    "colab": {
     "base_uri": "https://localhost:8080/",
     "height": 317
    },
    "execution": {
     "iopub.execute_input": "2023-03-24T22:14:40.545094Z",
     "iopub.status.busy": "2023-03-24T22:14:40.542295Z",
     "iopub.status.idle": "2023-03-24T22:14:43.963586Z",
     "shell.execute_reply": "2023-03-24T22:14:43.962394Z",
     "shell.execute_reply.started": "2023-03-24T22:14:40.545048Z"
    },
    "id": "T9B-JNQ0-Ppb",
    "outputId": "437d6fad-3949-455e-ea18-d2ffe6f2212b"
   },
   "outputs": [
    {
     "data": {
      "text/html": [
       "\n",
       "  <div id=\"df-d6926c82-3bd9-4e30-aed4-9e0f66b27b9c\">\n",
       "    <div class=\"colab-df-container\">\n",
       "      <div>\n",
       "<style scoped>\n",
       "    .dataframe tbody tr th:only-of-type {\n",
       "        vertical-align: middle;\n",
       "    }\n",
       "\n",
       "    .dataframe tbody tr th {\n",
       "        vertical-align: top;\n",
       "    }\n",
       "\n",
       "    .dataframe thead th {\n",
       "        text-align: right;\n",
       "    }\n",
       "</style>\n",
       "<table border=\"1\" class=\"dataframe\">\n",
       "  <thead>\n",
       "    <tr style=\"text-align: right;\">\n",
       "      <th></th>\n",
       "      <th>label</th>\n",
       "      <th>pixel0</th>\n",
       "      <th>pixel1</th>\n",
       "      <th>pixel2</th>\n",
       "      <th>pixel3</th>\n",
       "      <th>pixel4</th>\n",
       "      <th>pixel5</th>\n",
       "      <th>pixel6</th>\n",
       "      <th>pixel7</th>\n",
       "      <th>pixel8</th>\n",
       "      <th>...</th>\n",
       "      <th>pixel774</th>\n",
       "      <th>pixel775</th>\n",
       "      <th>pixel776</th>\n",
       "      <th>pixel777</th>\n",
       "      <th>pixel778</th>\n",
       "      <th>pixel779</th>\n",
       "      <th>pixel780</th>\n",
       "      <th>pixel781</th>\n",
       "      <th>pixel782</th>\n",
       "      <th>pixel783</th>\n",
       "    </tr>\n",
       "  </thead>\n",
       "  <tbody>\n",
       "    <tr>\n",
       "      <th>0</th>\n",
       "      <td>0</td>\n",
       "      <td>0</td>\n",
       "      <td>0</td>\n",
       "      <td>0</td>\n",
       "      <td>0</td>\n",
       "      <td>0</td>\n",
       "      <td>0</td>\n",
       "      <td>0</td>\n",
       "      <td>0</td>\n",
       "      <td>0</td>\n",
       "      <td>...</td>\n",
       "      <td>0</td>\n",
       "      <td>0</td>\n",
       "      <td>0</td>\n",
       "      <td>0</td>\n",
       "      <td>0</td>\n",
       "      <td>0</td>\n",
       "      <td>0</td>\n",
       "      <td>0</td>\n",
       "      <td>0</td>\n",
       "      <td>0</td>\n",
       "    </tr>\n",
       "    <tr>\n",
       "      <th>1</th>\n",
       "      <td>0</td>\n",
       "      <td>0</td>\n",
       "      <td>0</td>\n",
       "      <td>0</td>\n",
       "      <td>0</td>\n",
       "      <td>0</td>\n",
       "      <td>0</td>\n",
       "      <td>0</td>\n",
       "      <td>0</td>\n",
       "      <td>0</td>\n",
       "      <td>...</td>\n",
       "      <td>0</td>\n",
       "      <td>0</td>\n",
       "      <td>0</td>\n",
       "      <td>0</td>\n",
       "      <td>0</td>\n",
       "      <td>0</td>\n",
       "      <td>0</td>\n",
       "      <td>0</td>\n",
       "      <td>0</td>\n",
       "      <td>0</td>\n",
       "    </tr>\n",
       "    <tr>\n",
       "      <th>2</th>\n",
       "      <td>0</td>\n",
       "      <td>0</td>\n",
       "      <td>0</td>\n",
       "      <td>0</td>\n",
       "      <td>0</td>\n",
       "      <td>0</td>\n",
       "      <td>0</td>\n",
       "      <td>0</td>\n",
       "      <td>0</td>\n",
       "      <td>0</td>\n",
       "      <td>...</td>\n",
       "      <td>0</td>\n",
       "      <td>0</td>\n",
       "      <td>0</td>\n",
       "      <td>0</td>\n",
       "      <td>0</td>\n",
       "      <td>0</td>\n",
       "      <td>0</td>\n",
       "      <td>0</td>\n",
       "      <td>0</td>\n",
       "      <td>0</td>\n",
       "    </tr>\n",
       "    <tr>\n",
       "      <th>3</th>\n",
       "      <td>0</td>\n",
       "      <td>0</td>\n",
       "      <td>0</td>\n",
       "      <td>0</td>\n",
       "      <td>0</td>\n",
       "      <td>0</td>\n",
       "      <td>0</td>\n",
       "      <td>0</td>\n",
       "      <td>0</td>\n",
       "      <td>0</td>\n",
       "      <td>...</td>\n",
       "      <td>0</td>\n",
       "      <td>0</td>\n",
       "      <td>0</td>\n",
       "      <td>0</td>\n",
       "      <td>0</td>\n",
       "      <td>0</td>\n",
       "      <td>0</td>\n",
       "      <td>0</td>\n",
       "      <td>4</td>\n",
       "      <td>0</td>\n",
       "    </tr>\n",
       "    <tr>\n",
       "      <th>4</th>\n",
       "      <td>0</td>\n",
       "      <td>0</td>\n",
       "      <td>0</td>\n",
       "      <td>0</td>\n",
       "      <td>0</td>\n",
       "      <td>0</td>\n",
       "      <td>0</td>\n",
       "      <td>0</td>\n",
       "      <td>0</td>\n",
       "      <td>0</td>\n",
       "      <td>...</td>\n",
       "      <td>0</td>\n",
       "      <td>0</td>\n",
       "      <td>0</td>\n",
       "      <td>0</td>\n",
       "      <td>0</td>\n",
       "      <td>0</td>\n",
       "      <td>0</td>\n",
       "      <td>0</td>\n",
       "      <td>0</td>\n",
       "      <td>0</td>\n",
       "    </tr>\n",
       "  </tbody>\n",
       "</table>\n",
       "<p>5 rows × 785 columns</p>\n",
       "</div>\n",
       "      <button class=\"colab-df-convert\" onclick=\"convertToInteractive('df-d6926c82-3bd9-4e30-aed4-9e0f66b27b9c')\"\n",
       "              title=\"Convert this dataframe to an interactive table.\"\n",
       "              style=\"display:none;\">\n",
       "        \n",
       "  <svg xmlns=\"http://www.w3.org/2000/svg\" height=\"24px\"viewBox=\"0 0 24 24\"\n",
       "       width=\"24px\">\n",
       "    <path d=\"M0 0h24v24H0V0z\" fill=\"none\"/>\n",
       "    <path d=\"M18.56 5.44l.94 2.06.94-2.06 2.06-.94-2.06-.94-.94-2.06-.94 2.06-2.06.94zm-11 1L8.5 8.5l.94-2.06 2.06-.94-2.06-.94L8.5 2.5l-.94 2.06-2.06.94zm10 10l.94 2.06.94-2.06 2.06-.94-2.06-.94-.94-2.06-.94 2.06-2.06.94z\"/><path d=\"M17.41 7.96l-1.37-1.37c-.4-.4-.92-.59-1.43-.59-.52 0-1.04.2-1.43.59L10.3 9.45l-7.72 7.72c-.78.78-.78 2.05 0 2.83L4 21.41c.39.39.9.59 1.41.59.51 0 1.02-.2 1.41-.59l7.78-7.78 2.81-2.81c.8-.78.8-2.07 0-2.86zM5.41 20L4 18.59l7.72-7.72 1.47 1.35L5.41 20z\"/>\n",
       "  </svg>\n",
       "      </button>\n",
       "      \n",
       "  <style>\n",
       "    .colab-df-container {\n",
       "      display:flex;\n",
       "      flex-wrap:wrap;\n",
       "      gap: 12px;\n",
       "    }\n",
       "\n",
       "    .colab-df-convert {\n",
       "      background-color: #E8F0FE;\n",
       "      border: none;\n",
       "      border-radius: 50%;\n",
       "      cursor: pointer;\n",
       "      display: none;\n",
       "      fill: #1967D2;\n",
       "      height: 32px;\n",
       "      padding: 0 0 0 0;\n",
       "      width: 32px;\n",
       "    }\n",
       "\n",
       "    .colab-df-convert:hover {\n",
       "      background-color: #E2EBFA;\n",
       "      box-shadow: 0px 1px 2px rgba(60, 64, 67, 0.3), 0px 1px 3px 1px rgba(60, 64, 67, 0.15);\n",
       "      fill: #174EA6;\n",
       "    }\n",
       "\n",
       "    [theme=dark] .colab-df-convert {\n",
       "      background-color: #3B4455;\n",
       "      fill: #D2E3FC;\n",
       "    }\n",
       "\n",
       "    [theme=dark] .colab-df-convert:hover {\n",
       "      background-color: #434B5C;\n",
       "      box-shadow: 0px 1px 3px 1px rgba(0, 0, 0, 0.15);\n",
       "      filter: drop-shadow(0px 1px 2px rgba(0, 0, 0, 0.3));\n",
       "      fill: #FFFFFF;\n",
       "    }\n",
       "  </style>\n",
       "\n",
       "      <script>\n",
       "        const buttonEl =\n",
       "          document.querySelector('#df-d6926c82-3bd9-4e30-aed4-9e0f66b27b9c button.colab-df-convert');\n",
       "        buttonEl.style.display =\n",
       "          google.colab.kernel.accessAllowed ? 'block' : 'none';\n",
       "\n",
       "        async function convertToInteractive(key) {\n",
       "          const element = document.querySelector('#df-d6926c82-3bd9-4e30-aed4-9e0f66b27b9c');\n",
       "          const dataTable =\n",
       "            await google.colab.kernel.invokeFunction('convertToInteractive',\n",
       "                                                     [key], {});\n",
       "          if (!dataTable) return;\n",
       "\n",
       "          const docLinkHtml = 'Like what you see? Visit the ' +\n",
       "            '<a target=\"_blank\" href=https://colab.research.google.com/notebooks/data_table.ipynb>data table notebook</a>'\n",
       "            + ' to learn more about interactive tables.';\n",
       "          element.innerHTML = '';\n",
       "          dataTable['output_type'] = 'display_data';\n",
       "          await google.colab.output.renderOutput(dataTable, element);\n",
       "          const docLink = document.createElement('div');\n",
       "          docLink.innerHTML = docLinkHtml;\n",
       "          element.appendChild(docLink);\n",
       "        }\n",
       "      </script>\n",
       "    </div>\n",
       "  </div>\n",
       "  "
      ],
      "text/plain": [
       "   label  pixel0  pixel1  pixel2  pixel3  pixel4  pixel5  pixel6  pixel7  \\\n",
       "0      0       0       0       0       0       0       0       0       0   \n",
       "1      0       0       0       0       0       0       0       0       0   \n",
       "2      0       0       0       0       0       0       0       0       0   \n",
       "3      0       0       0       0       0       0       0       0       0   \n",
       "4      0       0       0       0       0       0       0       0       0   \n",
       "\n",
       "   pixel8  ...  pixel774  pixel775  pixel776  pixel777  pixel778  pixel779  \\\n",
       "0       0  ...         0         0         0         0         0         0   \n",
       "1       0  ...         0         0         0         0         0         0   \n",
       "2       0  ...         0         0         0         0         0         0   \n",
       "3       0  ...         0         0         0         0         0         0   \n",
       "4       0  ...         0         0         0         0         0         0   \n",
       "\n",
       "   pixel780  pixel781  pixel782  pixel783  \n",
       "0         0         0         0         0  \n",
       "1         0         0         0         0  \n",
       "2         0         0         0         0  \n",
       "3         0         0         4         0  \n",
       "4         0         0         0         0  \n",
       "\n",
       "[5 rows x 785 columns]"
      ]
     },
     "metadata": {},
     "output_type": "display_data"
    },
    {
     "name": "stdout",
     "output_type": "stream",
     "text": [
      "train shape: (209966, 785)\n"
     ]
    }
   ],
   "source": [
    "# Load train data\n",
    "train = pd.read_csv(\"Train.csv\")\n",
    "display(train.head())\n",
    "print(f\"train shape: {train.shape}\")"
   ]
  },
  {
   "cell_type": "code",
   "execution_count": 4,
   "metadata": {
    "colab": {
     "base_uri": "https://localhost:8080/",
     "height": 317
    },
    "execution": {
     "iopub.execute_input": "2023-03-24T22:14:43.965823Z",
     "iopub.status.busy": "2023-03-24T22:14:43.96512Z",
     "iopub.status.idle": "2023-03-24T22:14:46.057273Z",
     "shell.execute_reply": "2023-03-24T22:14:46.05609Z",
     "shell.execute_reply.started": "2023-03-24T22:14:43.965782Z"
    },
    "id": "XJXH2u2H-Ppb",
    "outputId": "176534fa-da21-431d-e5f6-3736d2f9f339"
   },
   "outputs": [
    {
     "data": {
      "text/html": [
       "\n",
       "  <div id=\"df-65b2f838-d6e1-4abc-bf1a-83ea39bb7705\">\n",
       "    <div class=\"colab-df-container\">\n",
       "      <div>\n",
       "<style scoped>\n",
       "    .dataframe tbody tr th:only-of-type {\n",
       "        vertical-align: middle;\n",
       "    }\n",
       "\n",
       "    .dataframe tbody tr th {\n",
       "        vertical-align: top;\n",
       "    }\n",
       "\n",
       "    .dataframe thead th {\n",
       "        text-align: right;\n",
       "    }\n",
       "</style>\n",
       "<table border=\"1\" class=\"dataframe\">\n",
       "  <thead>\n",
       "    <tr style=\"text-align: right;\">\n",
       "      <th></th>\n",
       "      <th>pixel0</th>\n",
       "      <th>pixel1</th>\n",
       "      <th>pixel2</th>\n",
       "      <th>pixel3</th>\n",
       "      <th>pixel4</th>\n",
       "      <th>pixel5</th>\n",
       "      <th>pixel6</th>\n",
       "      <th>pixel7</th>\n",
       "      <th>pixel8</th>\n",
       "      <th>pixel9</th>\n",
       "      <th>...</th>\n",
       "      <th>pixel774</th>\n",
       "      <th>pixel775</th>\n",
       "      <th>pixel776</th>\n",
       "      <th>pixel777</th>\n",
       "      <th>pixel778</th>\n",
       "      <th>pixel779</th>\n",
       "      <th>pixel780</th>\n",
       "      <th>pixel781</th>\n",
       "      <th>pixel782</th>\n",
       "      <th>pixel783</th>\n",
       "    </tr>\n",
       "  </thead>\n",
       "  <tbody>\n",
       "    <tr>\n",
       "      <th>0</th>\n",
       "      <td>0</td>\n",
       "      <td>0</td>\n",
       "      <td>0</td>\n",
       "      <td>0</td>\n",
       "      <td>0</td>\n",
       "      <td>0</td>\n",
       "      <td>0</td>\n",
       "      <td>0</td>\n",
       "      <td>0</td>\n",
       "      <td>0</td>\n",
       "      <td>...</td>\n",
       "      <td>0</td>\n",
       "      <td>0</td>\n",
       "      <td>0</td>\n",
       "      <td>0</td>\n",
       "      <td>0</td>\n",
       "      <td>0</td>\n",
       "      <td>0</td>\n",
       "      <td>0</td>\n",
       "      <td>0</td>\n",
       "      <td>0</td>\n",
       "    </tr>\n",
       "    <tr>\n",
       "      <th>1</th>\n",
       "      <td>0</td>\n",
       "      <td>0</td>\n",
       "      <td>0</td>\n",
       "      <td>0</td>\n",
       "      <td>0</td>\n",
       "      <td>0</td>\n",
       "      <td>0</td>\n",
       "      <td>0</td>\n",
       "      <td>0</td>\n",
       "      <td>0</td>\n",
       "      <td>...</td>\n",
       "      <td>0</td>\n",
       "      <td>0</td>\n",
       "      <td>0</td>\n",
       "      <td>0</td>\n",
       "      <td>0</td>\n",
       "      <td>0</td>\n",
       "      <td>0</td>\n",
       "      <td>0</td>\n",
       "      <td>0</td>\n",
       "      <td>0</td>\n",
       "    </tr>\n",
       "    <tr>\n",
       "      <th>2</th>\n",
       "      <td>0</td>\n",
       "      <td>0</td>\n",
       "      <td>0</td>\n",
       "      <td>0</td>\n",
       "      <td>0</td>\n",
       "      <td>0</td>\n",
       "      <td>0</td>\n",
       "      <td>0</td>\n",
       "      <td>0</td>\n",
       "      <td>0</td>\n",
       "      <td>...</td>\n",
       "      <td>0</td>\n",
       "      <td>0</td>\n",
       "      <td>0</td>\n",
       "      <td>0</td>\n",
       "      <td>0</td>\n",
       "      <td>0</td>\n",
       "      <td>0</td>\n",
       "      <td>0</td>\n",
       "      <td>0</td>\n",
       "      <td>0</td>\n",
       "    </tr>\n",
       "    <tr>\n",
       "      <th>3</th>\n",
       "      <td>0</td>\n",
       "      <td>0</td>\n",
       "      <td>0</td>\n",
       "      <td>0</td>\n",
       "      <td>0</td>\n",
       "      <td>0</td>\n",
       "      <td>0</td>\n",
       "      <td>0</td>\n",
       "      <td>0</td>\n",
       "      <td>0</td>\n",
       "      <td>...</td>\n",
       "      <td>0</td>\n",
       "      <td>0</td>\n",
       "      <td>0</td>\n",
       "      <td>0</td>\n",
       "      <td>0</td>\n",
       "      <td>0</td>\n",
       "      <td>0</td>\n",
       "      <td>0</td>\n",
       "      <td>0</td>\n",
       "      <td>0</td>\n",
       "    </tr>\n",
       "    <tr>\n",
       "      <th>4</th>\n",
       "      <td>0</td>\n",
       "      <td>0</td>\n",
       "      <td>0</td>\n",
       "      <td>0</td>\n",
       "      <td>0</td>\n",
       "      <td>0</td>\n",
       "      <td>0</td>\n",
       "      <td>0</td>\n",
       "      <td>0</td>\n",
       "      <td>0</td>\n",
       "      <td>...</td>\n",
       "      <td>0</td>\n",
       "      <td>0</td>\n",
       "      <td>0</td>\n",
       "      <td>0</td>\n",
       "      <td>0</td>\n",
       "      <td>0</td>\n",
       "      <td>0</td>\n",
       "      <td>0</td>\n",
       "      <td>0</td>\n",
       "      <td>0</td>\n",
       "    </tr>\n",
       "  </tbody>\n",
       "</table>\n",
       "<p>5 rows × 784 columns</p>\n",
       "</div>\n",
       "      <button class=\"colab-df-convert\" onclick=\"convertToInteractive('df-65b2f838-d6e1-4abc-bf1a-83ea39bb7705')\"\n",
       "              title=\"Convert this dataframe to an interactive table.\"\n",
       "              style=\"display:none;\">\n",
       "        \n",
       "  <svg xmlns=\"http://www.w3.org/2000/svg\" height=\"24px\"viewBox=\"0 0 24 24\"\n",
       "       width=\"24px\">\n",
       "    <path d=\"M0 0h24v24H0V0z\" fill=\"none\"/>\n",
       "    <path d=\"M18.56 5.44l.94 2.06.94-2.06 2.06-.94-2.06-.94-.94-2.06-.94 2.06-2.06.94zm-11 1L8.5 8.5l.94-2.06 2.06-.94-2.06-.94L8.5 2.5l-.94 2.06-2.06.94zm10 10l.94 2.06.94-2.06 2.06-.94-2.06-.94-.94-2.06-.94 2.06-2.06.94z\"/><path d=\"M17.41 7.96l-1.37-1.37c-.4-.4-.92-.59-1.43-.59-.52 0-1.04.2-1.43.59L10.3 9.45l-7.72 7.72c-.78.78-.78 2.05 0 2.83L4 21.41c.39.39.9.59 1.41.59.51 0 1.02-.2 1.41-.59l7.78-7.78 2.81-2.81c.8-.78.8-2.07 0-2.86zM5.41 20L4 18.59l7.72-7.72 1.47 1.35L5.41 20z\"/>\n",
       "  </svg>\n",
       "      </button>\n",
       "      \n",
       "  <style>\n",
       "    .colab-df-container {\n",
       "      display:flex;\n",
       "      flex-wrap:wrap;\n",
       "      gap: 12px;\n",
       "    }\n",
       "\n",
       "    .colab-df-convert {\n",
       "      background-color: #E8F0FE;\n",
       "      border: none;\n",
       "      border-radius: 50%;\n",
       "      cursor: pointer;\n",
       "      display: none;\n",
       "      fill: #1967D2;\n",
       "      height: 32px;\n",
       "      padding: 0 0 0 0;\n",
       "      width: 32px;\n",
       "    }\n",
       "\n",
       "    .colab-df-convert:hover {\n",
       "      background-color: #E2EBFA;\n",
       "      box-shadow: 0px 1px 2px rgba(60, 64, 67, 0.3), 0px 1px 3px 1px rgba(60, 64, 67, 0.15);\n",
       "      fill: #174EA6;\n",
       "    }\n",
       "\n",
       "    [theme=dark] .colab-df-convert {\n",
       "      background-color: #3B4455;\n",
       "      fill: #D2E3FC;\n",
       "    }\n",
       "\n",
       "    [theme=dark] .colab-df-convert:hover {\n",
       "      background-color: #434B5C;\n",
       "      box-shadow: 0px 1px 3px 1px rgba(0, 0, 0, 0.15);\n",
       "      filter: drop-shadow(0px 1px 2px rgba(0, 0, 0, 0.3));\n",
       "      fill: #FFFFFF;\n",
       "    }\n",
       "  </style>\n",
       "\n",
       "      <script>\n",
       "        const buttonEl =\n",
       "          document.querySelector('#df-65b2f838-d6e1-4abc-bf1a-83ea39bb7705 button.colab-df-convert');\n",
       "        buttonEl.style.display =\n",
       "          google.colab.kernel.accessAllowed ? 'block' : 'none';\n",
       "\n",
       "        async function convertToInteractive(key) {\n",
       "          const element = document.querySelector('#df-65b2f838-d6e1-4abc-bf1a-83ea39bb7705');\n",
       "          const dataTable =\n",
       "            await google.colab.kernel.invokeFunction('convertToInteractive',\n",
       "                                                     [key], {});\n",
       "          if (!dataTable) return;\n",
       "\n",
       "          const docLinkHtml = 'Like what you see? Visit the ' +\n",
       "            '<a target=\"_blank\" href=https://colab.research.google.com/notebooks/data_table.ipynb>data table notebook</a>'\n",
       "            + ' to learn more about interactive tables.';\n",
       "          element.innerHTML = '';\n",
       "          dataTable['output_type'] = 'display_data';\n",
       "          await google.colab.output.renderOutput(dataTable, element);\n",
       "          const docLink = document.createElement('div');\n",
       "          docLink.innerHTML = docLinkHtml;\n",
       "          element.appendChild(docLink);\n",
       "        }\n",
       "      </script>\n",
       "    </div>\n",
       "  </div>\n",
       "  "
      ],
      "text/plain": [
       "   pixel0  pixel1  pixel2  pixel3  pixel4  pixel5  pixel6  pixel7  pixel8  \\\n",
       "0       0       0       0       0       0       0       0       0       0   \n",
       "1       0       0       0       0       0       0       0       0       0   \n",
       "2       0       0       0       0       0       0       0       0       0   \n",
       "3       0       0       0       0       0       0       0       0       0   \n",
       "4       0       0       0       0       0       0       0       0       0   \n",
       "\n",
       "   pixel9  ...  pixel774  pixel775  pixel776  pixel777  pixel778  pixel779  \\\n",
       "0       0  ...         0         0         0         0         0         0   \n",
       "1       0  ...         0         0         0         0         0         0   \n",
       "2       0  ...         0         0         0         0         0         0   \n",
       "3       0  ...         0         0         0         0         0         0   \n",
       "4       0  ...         0         0         0         0         0         0   \n",
       "\n",
       "   pixel780  pixel781  pixel782  pixel783  \n",
       "0         0         0         0         0  \n",
       "1         0         0         0         0  \n",
       "2         0         0         0         0  \n",
       "3         0         0         0         0  \n",
       "4         0         0         0         0  \n",
       "\n",
       "[5 rows x 784 columns]"
      ]
     },
     "metadata": {},
     "output_type": "display_data"
    },
    {
     "name": "stdout",
     "output_type": "stream",
     "text": [
      "test shape: (34966, 784)\n"
     ]
    }
   ],
   "source": [
    "# Load test data\n",
    "test = pd.read_csv(\"Test.csv\")\n",
    "display(test.head())\n",
    "print(f\"test shape: {test.shape}\")"
   ]
  },
  {
   "cell_type": "markdown",
   "metadata": {
    "id": "2nbvpANk-Ppc"
   },
   "source": [
    "Get target:"
   ]
  },
  {
   "cell_type": "code",
   "execution_count": 5,
   "metadata": {
    "execution": {
     "iopub.execute_input": "2023-03-24T22:14:46.061301Z",
     "iopub.status.busy": "2023-03-24T22:14:46.060445Z",
     "iopub.status.idle": "2023-03-24T22:14:46.149852Z",
     "shell.execute_reply": "2023-03-24T22:14:46.148357Z",
     "shell.execute_reply.started": "2023-03-24T22:14:46.061253Z"
    },
    "id": "v1tl9oq3-Ppc"
   },
   "outputs": [],
   "source": [
    "# Put labels into y_train variable\n",
    "y_train = train[\"label\"]\n",
    "\n",
    "# Drop \"label\" column\n",
    "X_train = train.drop(labels = [\"label\"],axis = 1) "
   ]
  },
  {
   "cell_type": "markdown",
   "metadata": {
    "id": "E0YDE-D8-Ppc"
   },
   "source": [
    "Plot some samples:"
   ]
  },
  {
   "cell_type": "code",
   "execution_count": 6,
   "metadata": {
    "execution": {
     "iopub.execute_input": "2023-03-24T22:14:46.154163Z",
     "iopub.status.busy": "2023-03-24T22:14:46.152675Z",
     "iopub.status.idle": "2023-03-24T22:14:46.161981Z",
     "shell.execute_reply": "2023-03-24T22:14:46.160839Z",
     "shell.execute_reply.started": "2023-03-24T22:14:46.154117Z"
    },
    "id": "QR3CyWa8-Ppc"
   },
   "outputs": [],
   "source": [
    "def plot_img(index):\n",
    "    # Reshape vector to 28x28 matrix\n",
    "    img = X_train.iloc[index].to_numpy()\n",
    "    img = img.reshape((28,28))\n",
    "\n",
    "    # Create figure\n",
    "    fig = px.imshow(img, color_continuous_scale='gray')\n",
    "\n",
    "    # Set Title and x/y axis labels\n",
    "    fig.update_layout(\n",
    "        showlegend = False,\n",
    "        #coloraxis_showscale=False,\n",
    "        title={\n",
    "            'text': f\"Visualization of Image No.{index}\",\n",
    "            'y':0.95,\n",
    "            'x':0.5\n",
    "        }\n",
    "    )\n",
    "    # Display\n",
    "    fig.show() # for Kaggle version\n",
    "    #fig.show(\"svg\") # for GitHub version"
   ]
  },
  {
   "cell_type": "code",
   "execution_count": 7,
   "metadata": {
    "colab": {
     "base_uri": "https://localhost:8080/",
     "height": 1000
    },
    "execution": {
     "iopub.execute_input": "2023-03-24T22:14:46.166104Z",
     "iopub.status.busy": "2023-03-24T22:14:46.165825Z",
     "iopub.status.idle": "2023-03-24T22:14:47.550178Z",
     "shell.execute_reply": "2023-03-24T22:14:47.548892Z",
     "shell.execute_reply.started": "2023-03-24T22:14:46.166078Z"
    },
    "id": "WpLke4Ag-Ppd",
    "outputId": "a9b854b4-7350-480f-bdff-585d2946cdba"
   },
   "outputs": [
    {
     "data": {
      "text/html": [
       "<html>\n",
       "<head><meta charset=\"utf-8\" /></head>\n",
       "<body>\n",
       "    <div>            <script src=\"https://cdnjs.cloudflare.com/ajax/libs/mathjax/2.7.5/MathJax.js?config=TeX-AMS-MML_SVG\"></script><script type=\"text/javascript\">if (window.MathJax && window.MathJax.Hub && window.MathJax.Hub.Config) {window.MathJax.Hub.Config({SVG: {font: \"STIX-Web\"}});}</script>                <script type=\"text/javascript\">window.PlotlyConfig = {MathJaxConfig: 'local'};</script>\n",
       "        <script src=\"https://cdn.plot.ly/plotly-2.18.2.min.js\"></script>                <div id=\"3c2519ca-2ff9-4ff6-9a7c-ff174222be33\" class=\"plotly-graph-div\" style=\"height:525px; width:100%;\"></div>            <script type=\"text/javascript\">                                    window.PLOTLYENV=window.PLOTLYENV || {};                                    if (document.getElementById(\"3c2519ca-2ff9-4ff6-9a7c-ff174222be33\")) {                    Plotly.newPlot(                        \"3c2519ca-2ff9-4ff6-9a7c-ff174222be33\",                        [{\"coloraxis\":\"coloraxis\",\"name\":\"0\",\"z\":[[0,0,0,0,0,0,0,0,0,0,0,0,0,0,0,0,0,0,0,0,0,0,0,0,0,0,0,0],[0,0,0,0,0,0,0,0,0,0,0,0,0,0,0,0,0,0,0,0,0,0,0,0,0,0,0,0],[0,0,0,0,0,0,0,0,0,0,0,0,0,0,0,0,0,0,0,0,0,0,0,0,0,0,0,0],[0,0,0,0,0,0,0,0,0,0,0,0,0,0,0,0,0,0,0,0,0,0,0,0,0,0,0,0],[0,0,0,0,0,0,0,0,0,0,0,0,0,0,0,0,0,0,0,0,0,0,0,0,0,0,0,0],[0,0,0,0,0,0,0,0,0,0,0,0,0,0,0,0,0,0,0,0,0,0,0,0,0,0,0,0],[0,0,0,0,0,0,0,0,0,0,0,0,0,0,0,0,0,0,0,0,0,0,0,0,0,0,0,0],[0,0,0,0,0,0,0,0,0,0,0,0,0,0,0,0,0,0,0,0,0,0,0,0,0,0,0,0],[0,0,0,0,0,0,0,0,0,0,0,0,42,142,49,1,2,0,0,0,0,1,0,3,0,0,0,0],[0,0,0,0,0,0,0,0,0,1,1,7,173,16,0,1,0,0,0,1,0,0,3,0,0,0,0,0],[0,0,0,0,0,0,0,0,3,0,0,12,175,32,2,0,0,5,0,3,0,1,0,0,0,0,0,0],[0,0,0,0,0,0,0,0,0,0,1,2,58,178,22,2,1,0,1,0,0,0,0,3,0,0,0,0],[0,0,0,0,0,0,0,0,0,1,2,0,1,93,148,1,0,0,47,4,1,0,5,0,0,0,0,0],[0,0,0,0,0,0,0,0,2,0,0,5,0,107,135,1,3,0,2,173,31,0,0,3,0,0,0,0],[0,0,0,0,0,0,0,0,0,2,0,39,156,111,2,3,0,1,1,42,173,1,2,0,0,0,0,0],[0,0,0,0,0,0,0,0,0,0,31,121,2,2,0,0,0,1,0,0,134,65,0,0,0,0,0,0],[1,0,2,0,0,0,1,0,0,0,3,2,0,0,0,2,0,1,0,0,75,123,0,3,0,0,0,0],[0,1,1,2,0,0,0,3,0,0,0,0,6,0,1,2,2,4,3,63,151,95,1,0,0,0,0,0],[2,0,0,2,1,0,4,0,1,1,4,7,48,78,100,131,154,165,154,115,59,0,3,0,0,0,0,0],[0,1,4,0,0,0,37,56,129,188,179,167,144,125,64,37,4,2,2,0,0,1,0,1,0,0,0,0],[0,1,0,5,0,2,83,89,37,2,1,1,1,0,0,0,0,0,1,0,2,2,0,1,0,0,0,0],[0,1,0,0,1,0,0,3,2,2,0,1,0,1,4,0,1,1,0,0,1,0,0,0,0,0,0,0],[0,0,1,0,2,6,0,1,0,0,3,0,1,0,0,1,0,0,2,2,0,2,0,1,0,0,0,0],[1,0,1,1,0,0,5,0,0,1,1,0,2,1,0,1,1,0,2,0,2,0,2,0,0,0,0,0],[0,0,0,0,0,0,0,0,0,0,0,0,0,0,0,0,0,0,0,0,0,0,0,0,0,0,2,0],[0,0,0,0,0,0,0,0,0,0,0,0,0,0,0,0,0,0,0,0,0,0,0,0,0,2,7,2],[0,0,0,0,0,0,0,0,0,0,0,0,0,0,0,0,0,0,0,0,0,0,0,0,0,2,8,2],[0,0,0,0,0,0,0,0,0,0,0,0,0,0,0,0,0,0,0,0,0,0,0,0,0,0,4,0]],\"type\":\"heatmap\",\"xaxis\":\"x\",\"yaxis\":\"y\",\"hovertemplate\":\"x: %{x}<br>y: %{y}<br>color: %{z}<extra></extra>\"}],                        {\"template\":{\"data\":{\"histogram2dcontour\":[{\"type\":\"histogram2dcontour\",\"colorbar\":{\"outlinewidth\":0,\"ticks\":\"\"},\"colorscale\":[[0.0,\"#0d0887\"],[0.1111111111111111,\"#46039f\"],[0.2222222222222222,\"#7201a8\"],[0.3333333333333333,\"#9c179e\"],[0.4444444444444444,\"#bd3786\"],[0.5555555555555556,\"#d8576b\"],[0.6666666666666666,\"#ed7953\"],[0.7777777777777778,\"#fb9f3a\"],[0.8888888888888888,\"#fdca26\"],[1.0,\"#f0f921\"]]}],\"choropleth\":[{\"type\":\"choropleth\",\"colorbar\":{\"outlinewidth\":0,\"ticks\":\"\"}}],\"histogram2d\":[{\"type\":\"histogram2d\",\"colorbar\":{\"outlinewidth\":0,\"ticks\":\"\"},\"colorscale\":[[0.0,\"#0d0887\"],[0.1111111111111111,\"#46039f\"],[0.2222222222222222,\"#7201a8\"],[0.3333333333333333,\"#9c179e\"],[0.4444444444444444,\"#bd3786\"],[0.5555555555555556,\"#d8576b\"],[0.6666666666666666,\"#ed7953\"],[0.7777777777777778,\"#fb9f3a\"],[0.8888888888888888,\"#fdca26\"],[1.0,\"#f0f921\"]]}],\"heatmap\":[{\"type\":\"heatmap\",\"colorbar\":{\"outlinewidth\":0,\"ticks\":\"\"},\"colorscale\":[[0.0,\"#0d0887\"],[0.1111111111111111,\"#46039f\"],[0.2222222222222222,\"#7201a8\"],[0.3333333333333333,\"#9c179e\"],[0.4444444444444444,\"#bd3786\"],[0.5555555555555556,\"#d8576b\"],[0.6666666666666666,\"#ed7953\"],[0.7777777777777778,\"#fb9f3a\"],[0.8888888888888888,\"#fdca26\"],[1.0,\"#f0f921\"]]}],\"heatmapgl\":[{\"type\":\"heatmapgl\",\"colorbar\":{\"outlinewidth\":0,\"ticks\":\"\"},\"colorscale\":[[0.0,\"#0d0887\"],[0.1111111111111111,\"#46039f\"],[0.2222222222222222,\"#7201a8\"],[0.3333333333333333,\"#9c179e\"],[0.4444444444444444,\"#bd3786\"],[0.5555555555555556,\"#d8576b\"],[0.6666666666666666,\"#ed7953\"],[0.7777777777777778,\"#fb9f3a\"],[0.8888888888888888,\"#fdca26\"],[1.0,\"#f0f921\"]]}],\"contourcarpet\":[{\"type\":\"contourcarpet\",\"colorbar\":{\"outlinewidth\":0,\"ticks\":\"\"}}],\"contour\":[{\"type\":\"contour\",\"colorbar\":{\"outlinewidth\":0,\"ticks\":\"\"},\"colorscale\":[[0.0,\"#0d0887\"],[0.1111111111111111,\"#46039f\"],[0.2222222222222222,\"#7201a8\"],[0.3333333333333333,\"#9c179e\"],[0.4444444444444444,\"#bd3786\"],[0.5555555555555556,\"#d8576b\"],[0.6666666666666666,\"#ed7953\"],[0.7777777777777778,\"#fb9f3a\"],[0.8888888888888888,\"#fdca26\"],[1.0,\"#f0f921\"]]}],\"surface\":[{\"type\":\"surface\",\"colorbar\":{\"outlinewidth\":0,\"ticks\":\"\"},\"colorscale\":[[0.0,\"#0d0887\"],[0.1111111111111111,\"#46039f\"],[0.2222222222222222,\"#7201a8\"],[0.3333333333333333,\"#9c179e\"],[0.4444444444444444,\"#bd3786\"],[0.5555555555555556,\"#d8576b\"],[0.6666666666666666,\"#ed7953\"],[0.7777777777777778,\"#fb9f3a\"],[0.8888888888888888,\"#fdca26\"],[1.0,\"#f0f921\"]]}],\"mesh3d\":[{\"type\":\"mesh3d\",\"colorbar\":{\"outlinewidth\":0,\"ticks\":\"\"}}],\"scatter\":[{\"fillpattern\":{\"fillmode\":\"overlay\",\"size\":10,\"solidity\":0.2},\"type\":\"scatter\"}],\"parcoords\":[{\"type\":\"parcoords\",\"line\":{\"colorbar\":{\"outlinewidth\":0,\"ticks\":\"\"}}}],\"scatterpolargl\":[{\"type\":\"scatterpolargl\",\"marker\":{\"colorbar\":{\"outlinewidth\":0,\"ticks\":\"\"}}}],\"bar\":[{\"error_x\":{\"color\":\"#2a3f5f\"},\"error_y\":{\"color\":\"#2a3f5f\"},\"marker\":{\"line\":{\"color\":\"#E5ECF6\",\"width\":0.5},\"pattern\":{\"fillmode\":\"overlay\",\"size\":10,\"solidity\":0.2}},\"type\":\"bar\"}],\"scattergeo\":[{\"type\":\"scattergeo\",\"marker\":{\"colorbar\":{\"outlinewidth\":0,\"ticks\":\"\"}}}],\"scatterpolar\":[{\"type\":\"scatterpolar\",\"marker\":{\"colorbar\":{\"outlinewidth\":0,\"ticks\":\"\"}}}],\"histogram\":[{\"marker\":{\"pattern\":{\"fillmode\":\"overlay\",\"size\":10,\"solidity\":0.2}},\"type\":\"histogram\"}],\"scattergl\":[{\"type\":\"scattergl\",\"marker\":{\"colorbar\":{\"outlinewidth\":0,\"ticks\":\"\"}}}],\"scatter3d\":[{\"type\":\"scatter3d\",\"line\":{\"colorbar\":{\"outlinewidth\":0,\"ticks\":\"\"}},\"marker\":{\"colorbar\":{\"outlinewidth\":0,\"ticks\":\"\"}}}],\"scattermapbox\":[{\"type\":\"scattermapbox\",\"marker\":{\"colorbar\":{\"outlinewidth\":0,\"ticks\":\"\"}}}],\"scatterternary\":[{\"type\":\"scatterternary\",\"marker\":{\"colorbar\":{\"outlinewidth\":0,\"ticks\":\"\"}}}],\"scattercarpet\":[{\"type\":\"scattercarpet\",\"marker\":{\"colorbar\":{\"outlinewidth\":0,\"ticks\":\"\"}}}],\"carpet\":[{\"aaxis\":{\"endlinecolor\":\"#2a3f5f\",\"gridcolor\":\"white\",\"linecolor\":\"white\",\"minorgridcolor\":\"white\",\"startlinecolor\":\"#2a3f5f\"},\"baxis\":{\"endlinecolor\":\"#2a3f5f\",\"gridcolor\":\"white\",\"linecolor\":\"white\",\"minorgridcolor\":\"white\",\"startlinecolor\":\"#2a3f5f\"},\"type\":\"carpet\"}],\"table\":[{\"cells\":{\"fill\":{\"color\":\"#EBF0F8\"},\"line\":{\"color\":\"white\"}},\"header\":{\"fill\":{\"color\":\"#C8D4E3\"},\"line\":{\"color\":\"white\"}},\"type\":\"table\"}],\"barpolar\":[{\"marker\":{\"line\":{\"color\":\"#E5ECF6\",\"width\":0.5},\"pattern\":{\"fillmode\":\"overlay\",\"size\":10,\"solidity\":0.2}},\"type\":\"barpolar\"}],\"pie\":[{\"automargin\":true,\"type\":\"pie\"}]},\"layout\":{\"autotypenumbers\":\"strict\",\"colorway\":[\"#636efa\",\"#EF553B\",\"#00cc96\",\"#ab63fa\",\"#FFA15A\",\"#19d3f3\",\"#FF6692\",\"#B6E880\",\"#FF97FF\",\"#FECB52\"],\"font\":{\"color\":\"#2a3f5f\"},\"hovermode\":\"closest\",\"hoverlabel\":{\"align\":\"left\"},\"paper_bgcolor\":\"white\",\"plot_bgcolor\":\"#E5ECF6\",\"polar\":{\"bgcolor\":\"#E5ECF6\",\"angularaxis\":{\"gridcolor\":\"white\",\"linecolor\":\"white\",\"ticks\":\"\"},\"radialaxis\":{\"gridcolor\":\"white\",\"linecolor\":\"white\",\"ticks\":\"\"}},\"ternary\":{\"bgcolor\":\"#E5ECF6\",\"aaxis\":{\"gridcolor\":\"white\",\"linecolor\":\"white\",\"ticks\":\"\"},\"baxis\":{\"gridcolor\":\"white\",\"linecolor\":\"white\",\"ticks\":\"\"},\"caxis\":{\"gridcolor\":\"white\",\"linecolor\":\"white\",\"ticks\":\"\"}},\"coloraxis\":{\"colorbar\":{\"outlinewidth\":0,\"ticks\":\"\"}},\"colorscale\":{\"sequential\":[[0.0,\"#0d0887\"],[0.1111111111111111,\"#46039f\"],[0.2222222222222222,\"#7201a8\"],[0.3333333333333333,\"#9c179e\"],[0.4444444444444444,\"#bd3786\"],[0.5555555555555556,\"#d8576b\"],[0.6666666666666666,\"#ed7953\"],[0.7777777777777778,\"#fb9f3a\"],[0.8888888888888888,\"#fdca26\"],[1.0,\"#f0f921\"]],\"sequentialminus\":[[0.0,\"#0d0887\"],[0.1111111111111111,\"#46039f\"],[0.2222222222222222,\"#7201a8\"],[0.3333333333333333,\"#9c179e\"],[0.4444444444444444,\"#bd3786\"],[0.5555555555555556,\"#d8576b\"],[0.6666666666666666,\"#ed7953\"],[0.7777777777777778,\"#fb9f3a\"],[0.8888888888888888,\"#fdca26\"],[1.0,\"#f0f921\"]],\"diverging\":[[0,\"#8e0152\"],[0.1,\"#c51b7d\"],[0.2,\"#de77ae\"],[0.3,\"#f1b6da\"],[0.4,\"#fde0ef\"],[0.5,\"#f7f7f7\"],[0.6,\"#e6f5d0\"],[0.7,\"#b8e186\"],[0.8,\"#7fbc41\"],[0.9,\"#4d9221\"],[1,\"#276419\"]]},\"xaxis\":{\"gridcolor\":\"white\",\"linecolor\":\"white\",\"ticks\":\"\",\"title\":{\"standoff\":15},\"zerolinecolor\":\"white\",\"automargin\":true,\"zerolinewidth\":2},\"yaxis\":{\"gridcolor\":\"white\",\"linecolor\":\"white\",\"ticks\":\"\",\"title\":{\"standoff\":15},\"zerolinecolor\":\"white\",\"automargin\":true,\"zerolinewidth\":2},\"scene\":{\"xaxis\":{\"backgroundcolor\":\"#E5ECF6\",\"gridcolor\":\"white\",\"linecolor\":\"white\",\"showbackground\":true,\"ticks\":\"\",\"zerolinecolor\":\"white\",\"gridwidth\":2},\"yaxis\":{\"backgroundcolor\":\"#E5ECF6\",\"gridcolor\":\"white\",\"linecolor\":\"white\",\"showbackground\":true,\"ticks\":\"\",\"zerolinecolor\":\"white\",\"gridwidth\":2},\"zaxis\":{\"backgroundcolor\":\"#E5ECF6\",\"gridcolor\":\"white\",\"linecolor\":\"white\",\"showbackground\":true,\"ticks\":\"\",\"zerolinecolor\":\"white\",\"gridwidth\":2}},\"shapedefaults\":{\"line\":{\"color\":\"#2a3f5f\"}},\"annotationdefaults\":{\"arrowcolor\":\"#2a3f5f\",\"arrowhead\":0,\"arrowwidth\":1},\"geo\":{\"bgcolor\":\"white\",\"landcolor\":\"#E5ECF6\",\"subunitcolor\":\"white\",\"showland\":true,\"showlakes\":true,\"lakecolor\":\"white\"},\"title\":{\"x\":0.05},\"mapbox\":{\"style\":\"light\"}}},\"xaxis\":{\"anchor\":\"y\",\"domain\":[0.0,1.0],\"scaleanchor\":\"y\",\"constrain\":\"domain\"},\"yaxis\":{\"anchor\":\"x\",\"domain\":[0.0,1.0],\"autorange\":\"reversed\",\"constrain\":\"domain\"},\"coloraxis\":{\"colorscale\":[[0.0,\"rgb(0, 0, 0)\"],[0.09090909090909091,\"rgb(16, 16, 16)\"],[0.18181818181818182,\"rgb(38, 38, 38)\"],[0.2727272727272727,\"rgb(59, 59, 59)\"],[0.36363636363636365,\"rgb(81, 80, 80)\"],[0.45454545454545453,\"rgb(102, 101, 101)\"],[0.5454545454545454,\"rgb(124, 123, 122)\"],[0.6363636363636364,\"rgb(146, 146, 145)\"],[0.7272727272727273,\"rgb(171, 171, 170)\"],[0.8181818181818182,\"rgb(197, 197, 195)\"],[0.9090909090909091,\"rgb(224, 224, 223)\"],[1.0,\"rgb(254, 254, 253)\"]]},\"margin\":{\"t\":60},\"title\":{\"text\":\"Visualization of Image No.3\",\"y\":0.95,\"x\":0.5},\"showlegend\":false},                        {\"responsive\": true}                    ).then(function(){\n",
       "                            \n",
       "var gd = document.getElementById('3c2519ca-2ff9-4ff6-9a7c-ff174222be33');\n",
       "var x = new MutationObserver(function (mutations, observer) {{\n",
       "        var display = window.getComputedStyle(gd).display;\n",
       "        if (!display || display === 'none') {{\n",
       "            console.log([gd, 'removed!']);\n",
       "            Plotly.purge(gd);\n",
       "            observer.disconnect();\n",
       "        }}\n",
       "}});\n",
       "\n",
       "// Listen for the removal of the full notebook cells\n",
       "var notebookContainer = gd.closest('#notebook-container');\n",
       "if (notebookContainer) {{\n",
       "    x.observe(notebookContainer, {childList: true});\n",
       "}}\n",
       "\n",
       "// Listen for the clearing of the current output cell\n",
       "var outputEl = gd.closest('.output');\n",
       "if (outputEl) {{\n",
       "    x.observe(outputEl, {childList: true});\n",
       "}}\n",
       "\n",
       "                        })                };                            </script>        </div>\n",
       "</body>\n",
       "</html>"
      ]
     },
     "metadata": {},
     "output_type": "display_data"
    },
    {
     "data": {
      "text/html": [
       "<html>\n",
       "<head><meta charset=\"utf-8\" /></head>\n",
       "<body>\n",
       "    <div>            <script src=\"https://cdnjs.cloudflare.com/ajax/libs/mathjax/2.7.5/MathJax.js?config=TeX-AMS-MML_SVG\"></script><script type=\"text/javascript\">if (window.MathJax && window.MathJax.Hub && window.MathJax.Hub.Config) {window.MathJax.Hub.Config({SVG: {font: \"STIX-Web\"}});}</script>                <script type=\"text/javascript\">window.PlotlyConfig = {MathJaxConfig: 'local'};</script>\n",
       "        <script src=\"https://cdn.plot.ly/plotly-2.18.2.min.js\"></script>                <div id=\"35d37f74-8198-4c99-b0bc-8a2ec5016290\" class=\"plotly-graph-div\" style=\"height:525px; width:100%;\"></div>            <script type=\"text/javascript\">                                    window.PLOTLYENV=window.PLOTLYENV || {};                                    if (document.getElementById(\"35d37f74-8198-4c99-b0bc-8a2ec5016290\")) {                    Plotly.newPlot(                        \"35d37f74-8198-4c99-b0bc-8a2ec5016290\",                        [{\"coloraxis\":\"coloraxis\",\"name\":\"0\",\"z\":[[0,0,0,0,0,0,0,0,0,0,0,0,0,0,0,0,0,0,0,0,0,0,0,0,0,0,0,0],[0,0,0,0,0,0,0,0,0,0,0,0,0,0,0,0,0,0,0,0,0,0,0,0,0,0,0,0],[0,0,0,0,0,0,0,0,0,0,0,0,0,0,0,0,0,0,0,0,0,0,0,0,0,0,0,0],[0,0,0,0,0,0,0,0,0,0,0,0,0,0,0,0,0,0,0,0,0,0,0,0,0,0,0,0],[0,0,0,0,0,0,0,0,0,0,0,0,0,0,0,0,0,0,0,0,0,0,0,0,0,0,0,0],[0,0,0,0,0,0,0,0,0,0,0,0,0,0,0,0,0,0,0,0,0,0,0,0,0,0,0,0],[0,0,0,0,0,0,0,0,0,0,0,0,0,0,0,0,0,0,0,0,0,0,0,0,0,0,0,0],[0,0,0,0,0,0,0,0,0,0,0,0,0,0,0,0,0,0,0,0,0,0,0,0,0,0,0,0],[0,0,0,0,0,0,0,0,2,0,0,1,1,0,4,0,0,1,0,1,0,3,0,2,0,0,0,3],[0,0,0,0,0,0,0,0,0,2,2,0,0,5,0,1,0,0,2,0,1,3,1,0,0,4,0,0],[0,0,0,0,0,0,0,0,1,0,2,0,1,1,2,0,1,0,2,0,0,0,65,42,0,0,0,2],[0,0,0,0,0,0,0,0,0,0,1,1,0,92,125,67,0,1,0,3,1,34,137,94,71,2,1,1],[0,0,0,0,0,0,0,0,0,0,1,0,20,171,159,95,2,3,0,0,2,20,144,0,0,1,0,0],[0,0,0,0,0,0,0,0,0,2,0,1,54,128,3,1,0,0,0,1,0,2,119,1,2,0,5,1],[0,0,0,0,0,0,0,0,2,0,1,1,0,143,115,26,0,2,4,0,0,1,110,8,0,0,1,0],[0,0,0,0,0,0,0,0,0,0,3,90,114,118,107,12,2,0,0,2,0,0,84,51,2,0,0,4],[0,3,0,0,2,0,0,0,2,0,0,2,2,1,1,1,1,0,0,3,0,0,117,61,0,0,0,0],[0,1,5,5,0,2,1,1,0,0,0,0,0,3,0,0,0,0,1,0,41,122,118,5,0,0,0,0],[0,2,1,54,5,1,0,0,3,2,0,1,0,2,3,18,59,95,155,125,101,30,0,2,0,0,0,0],[3,0,72,60,34,23,30,69,60,102,92,152,170,147,164,138,78,36,3,1,0,0,3,0,0,0,0,0],[0,0,14,81,102,136,133,104,87,83,35,19,4,0,3,0,0,2,0,2,0,0,1,0,0,0,0,0],[1,2,0,2,2,0,0,1,0,1,2,0,0,3,0,2,0,0,0,1,0,0,0,2,0,0,0,0],[0,0,1,0,0,1,3,0,2,0,0,1,2,0,0,0,0,0,1,0,2,0,3,0,0,0,0,0],[0,1,0,0,1,1,0,1,0,1,1,1,0,0,2,0,0,0,0,0,1,0,0,0,0,0,0,0],[0,0,0,0,0,0,0,0,0,0,0,0,0,0,0,0,0,0,0,0,0,0,0,0,0,0,0,0],[0,0,0,0,0,0,0,0,0,0,0,0,0,0,0,0,0,0,0,0,0,0,0,0,0,0,0,0],[0,0,0,0,0,0,0,0,0,0,0,0,0,0,0,0,0,0,0,0,0,0,0,0,0,0,0,0],[0,0,0,0,0,0,0,0,0,0,0,0,0,0,0,0,0,0,0,0,0,0,0,0,0,0,0,0]],\"type\":\"heatmap\",\"xaxis\":\"x\",\"yaxis\":\"y\",\"hovertemplate\":\"x: %{x}<br>y: %{y}<br>color: %{z}<extra></extra>\"}],                        {\"template\":{\"data\":{\"histogram2dcontour\":[{\"type\":\"histogram2dcontour\",\"colorbar\":{\"outlinewidth\":0,\"ticks\":\"\"},\"colorscale\":[[0.0,\"#0d0887\"],[0.1111111111111111,\"#46039f\"],[0.2222222222222222,\"#7201a8\"],[0.3333333333333333,\"#9c179e\"],[0.4444444444444444,\"#bd3786\"],[0.5555555555555556,\"#d8576b\"],[0.6666666666666666,\"#ed7953\"],[0.7777777777777778,\"#fb9f3a\"],[0.8888888888888888,\"#fdca26\"],[1.0,\"#f0f921\"]]}],\"choropleth\":[{\"type\":\"choropleth\",\"colorbar\":{\"outlinewidth\":0,\"ticks\":\"\"}}],\"histogram2d\":[{\"type\":\"histogram2d\",\"colorbar\":{\"outlinewidth\":0,\"ticks\":\"\"},\"colorscale\":[[0.0,\"#0d0887\"],[0.1111111111111111,\"#46039f\"],[0.2222222222222222,\"#7201a8\"],[0.3333333333333333,\"#9c179e\"],[0.4444444444444444,\"#bd3786\"],[0.5555555555555556,\"#d8576b\"],[0.6666666666666666,\"#ed7953\"],[0.7777777777777778,\"#fb9f3a\"],[0.8888888888888888,\"#fdca26\"],[1.0,\"#f0f921\"]]}],\"heatmap\":[{\"type\":\"heatmap\",\"colorbar\":{\"outlinewidth\":0,\"ticks\":\"\"},\"colorscale\":[[0.0,\"#0d0887\"],[0.1111111111111111,\"#46039f\"],[0.2222222222222222,\"#7201a8\"],[0.3333333333333333,\"#9c179e\"],[0.4444444444444444,\"#bd3786\"],[0.5555555555555556,\"#d8576b\"],[0.6666666666666666,\"#ed7953\"],[0.7777777777777778,\"#fb9f3a\"],[0.8888888888888888,\"#fdca26\"],[1.0,\"#f0f921\"]]}],\"heatmapgl\":[{\"type\":\"heatmapgl\",\"colorbar\":{\"outlinewidth\":0,\"ticks\":\"\"},\"colorscale\":[[0.0,\"#0d0887\"],[0.1111111111111111,\"#46039f\"],[0.2222222222222222,\"#7201a8\"],[0.3333333333333333,\"#9c179e\"],[0.4444444444444444,\"#bd3786\"],[0.5555555555555556,\"#d8576b\"],[0.6666666666666666,\"#ed7953\"],[0.7777777777777778,\"#fb9f3a\"],[0.8888888888888888,\"#fdca26\"],[1.0,\"#f0f921\"]]}],\"contourcarpet\":[{\"type\":\"contourcarpet\",\"colorbar\":{\"outlinewidth\":0,\"ticks\":\"\"}}],\"contour\":[{\"type\":\"contour\",\"colorbar\":{\"outlinewidth\":0,\"ticks\":\"\"},\"colorscale\":[[0.0,\"#0d0887\"],[0.1111111111111111,\"#46039f\"],[0.2222222222222222,\"#7201a8\"],[0.3333333333333333,\"#9c179e\"],[0.4444444444444444,\"#bd3786\"],[0.5555555555555556,\"#d8576b\"],[0.6666666666666666,\"#ed7953\"],[0.7777777777777778,\"#fb9f3a\"],[0.8888888888888888,\"#fdca26\"],[1.0,\"#f0f921\"]]}],\"surface\":[{\"type\":\"surface\",\"colorbar\":{\"outlinewidth\":0,\"ticks\":\"\"},\"colorscale\":[[0.0,\"#0d0887\"],[0.1111111111111111,\"#46039f\"],[0.2222222222222222,\"#7201a8\"],[0.3333333333333333,\"#9c179e\"],[0.4444444444444444,\"#bd3786\"],[0.5555555555555556,\"#d8576b\"],[0.6666666666666666,\"#ed7953\"],[0.7777777777777778,\"#fb9f3a\"],[0.8888888888888888,\"#fdca26\"],[1.0,\"#f0f921\"]]}],\"mesh3d\":[{\"type\":\"mesh3d\",\"colorbar\":{\"outlinewidth\":0,\"ticks\":\"\"}}],\"scatter\":[{\"fillpattern\":{\"fillmode\":\"overlay\",\"size\":10,\"solidity\":0.2},\"type\":\"scatter\"}],\"parcoords\":[{\"type\":\"parcoords\",\"line\":{\"colorbar\":{\"outlinewidth\":0,\"ticks\":\"\"}}}],\"scatterpolargl\":[{\"type\":\"scatterpolargl\",\"marker\":{\"colorbar\":{\"outlinewidth\":0,\"ticks\":\"\"}}}],\"bar\":[{\"error_x\":{\"color\":\"#2a3f5f\"},\"error_y\":{\"color\":\"#2a3f5f\"},\"marker\":{\"line\":{\"color\":\"#E5ECF6\",\"width\":0.5},\"pattern\":{\"fillmode\":\"overlay\",\"size\":10,\"solidity\":0.2}},\"type\":\"bar\"}],\"scattergeo\":[{\"type\":\"scattergeo\",\"marker\":{\"colorbar\":{\"outlinewidth\":0,\"ticks\":\"\"}}}],\"scatterpolar\":[{\"type\":\"scatterpolar\",\"marker\":{\"colorbar\":{\"outlinewidth\":0,\"ticks\":\"\"}}}],\"histogram\":[{\"marker\":{\"pattern\":{\"fillmode\":\"overlay\",\"size\":10,\"solidity\":0.2}},\"type\":\"histogram\"}],\"scattergl\":[{\"type\":\"scattergl\",\"marker\":{\"colorbar\":{\"outlinewidth\":0,\"ticks\":\"\"}}}],\"scatter3d\":[{\"type\":\"scatter3d\",\"line\":{\"colorbar\":{\"outlinewidth\":0,\"ticks\":\"\"}},\"marker\":{\"colorbar\":{\"outlinewidth\":0,\"ticks\":\"\"}}}],\"scattermapbox\":[{\"type\":\"scattermapbox\",\"marker\":{\"colorbar\":{\"outlinewidth\":0,\"ticks\":\"\"}}}],\"scatterternary\":[{\"type\":\"scatterternary\",\"marker\":{\"colorbar\":{\"outlinewidth\":0,\"ticks\":\"\"}}}],\"scattercarpet\":[{\"type\":\"scattercarpet\",\"marker\":{\"colorbar\":{\"outlinewidth\":0,\"ticks\":\"\"}}}],\"carpet\":[{\"aaxis\":{\"endlinecolor\":\"#2a3f5f\",\"gridcolor\":\"white\",\"linecolor\":\"white\",\"minorgridcolor\":\"white\",\"startlinecolor\":\"#2a3f5f\"},\"baxis\":{\"endlinecolor\":\"#2a3f5f\",\"gridcolor\":\"white\",\"linecolor\":\"white\",\"minorgridcolor\":\"white\",\"startlinecolor\":\"#2a3f5f\"},\"type\":\"carpet\"}],\"table\":[{\"cells\":{\"fill\":{\"color\":\"#EBF0F8\"},\"line\":{\"color\":\"white\"}},\"header\":{\"fill\":{\"color\":\"#C8D4E3\"},\"line\":{\"color\":\"white\"}},\"type\":\"table\"}],\"barpolar\":[{\"marker\":{\"line\":{\"color\":\"#E5ECF6\",\"width\":0.5},\"pattern\":{\"fillmode\":\"overlay\",\"size\":10,\"solidity\":0.2}},\"type\":\"barpolar\"}],\"pie\":[{\"automargin\":true,\"type\":\"pie\"}]},\"layout\":{\"autotypenumbers\":\"strict\",\"colorway\":[\"#636efa\",\"#EF553B\",\"#00cc96\",\"#ab63fa\",\"#FFA15A\",\"#19d3f3\",\"#FF6692\",\"#B6E880\",\"#FF97FF\",\"#FECB52\"],\"font\":{\"color\":\"#2a3f5f\"},\"hovermode\":\"closest\",\"hoverlabel\":{\"align\":\"left\"},\"paper_bgcolor\":\"white\",\"plot_bgcolor\":\"#E5ECF6\",\"polar\":{\"bgcolor\":\"#E5ECF6\",\"angularaxis\":{\"gridcolor\":\"white\",\"linecolor\":\"white\",\"ticks\":\"\"},\"radialaxis\":{\"gridcolor\":\"white\",\"linecolor\":\"white\",\"ticks\":\"\"}},\"ternary\":{\"bgcolor\":\"#E5ECF6\",\"aaxis\":{\"gridcolor\":\"white\",\"linecolor\":\"white\",\"ticks\":\"\"},\"baxis\":{\"gridcolor\":\"white\",\"linecolor\":\"white\",\"ticks\":\"\"},\"caxis\":{\"gridcolor\":\"white\",\"linecolor\":\"white\",\"ticks\":\"\"}},\"coloraxis\":{\"colorbar\":{\"outlinewidth\":0,\"ticks\":\"\"}},\"colorscale\":{\"sequential\":[[0.0,\"#0d0887\"],[0.1111111111111111,\"#46039f\"],[0.2222222222222222,\"#7201a8\"],[0.3333333333333333,\"#9c179e\"],[0.4444444444444444,\"#bd3786\"],[0.5555555555555556,\"#d8576b\"],[0.6666666666666666,\"#ed7953\"],[0.7777777777777778,\"#fb9f3a\"],[0.8888888888888888,\"#fdca26\"],[1.0,\"#f0f921\"]],\"sequentialminus\":[[0.0,\"#0d0887\"],[0.1111111111111111,\"#46039f\"],[0.2222222222222222,\"#7201a8\"],[0.3333333333333333,\"#9c179e\"],[0.4444444444444444,\"#bd3786\"],[0.5555555555555556,\"#d8576b\"],[0.6666666666666666,\"#ed7953\"],[0.7777777777777778,\"#fb9f3a\"],[0.8888888888888888,\"#fdca26\"],[1.0,\"#f0f921\"]],\"diverging\":[[0,\"#8e0152\"],[0.1,\"#c51b7d\"],[0.2,\"#de77ae\"],[0.3,\"#f1b6da\"],[0.4,\"#fde0ef\"],[0.5,\"#f7f7f7\"],[0.6,\"#e6f5d0\"],[0.7,\"#b8e186\"],[0.8,\"#7fbc41\"],[0.9,\"#4d9221\"],[1,\"#276419\"]]},\"xaxis\":{\"gridcolor\":\"white\",\"linecolor\":\"white\",\"ticks\":\"\",\"title\":{\"standoff\":15},\"zerolinecolor\":\"white\",\"automargin\":true,\"zerolinewidth\":2},\"yaxis\":{\"gridcolor\":\"white\",\"linecolor\":\"white\",\"ticks\":\"\",\"title\":{\"standoff\":15},\"zerolinecolor\":\"white\",\"automargin\":true,\"zerolinewidth\":2},\"scene\":{\"xaxis\":{\"backgroundcolor\":\"#E5ECF6\",\"gridcolor\":\"white\",\"linecolor\":\"white\",\"showbackground\":true,\"ticks\":\"\",\"zerolinecolor\":\"white\",\"gridwidth\":2},\"yaxis\":{\"backgroundcolor\":\"#E5ECF6\",\"gridcolor\":\"white\",\"linecolor\":\"white\",\"showbackground\":true,\"ticks\":\"\",\"zerolinecolor\":\"white\",\"gridwidth\":2},\"zaxis\":{\"backgroundcolor\":\"#E5ECF6\",\"gridcolor\":\"white\",\"linecolor\":\"white\",\"showbackground\":true,\"ticks\":\"\",\"zerolinecolor\":\"white\",\"gridwidth\":2}},\"shapedefaults\":{\"line\":{\"color\":\"#2a3f5f\"}},\"annotationdefaults\":{\"arrowcolor\":\"#2a3f5f\",\"arrowhead\":0,\"arrowwidth\":1},\"geo\":{\"bgcolor\":\"white\",\"landcolor\":\"#E5ECF6\",\"subunitcolor\":\"white\",\"showland\":true,\"showlakes\":true,\"lakecolor\":\"white\"},\"title\":{\"x\":0.05},\"mapbox\":{\"style\":\"light\"}}},\"xaxis\":{\"anchor\":\"y\",\"domain\":[0.0,1.0],\"scaleanchor\":\"y\",\"constrain\":\"domain\"},\"yaxis\":{\"anchor\":\"x\",\"domain\":[0.0,1.0],\"autorange\":\"reversed\",\"constrain\":\"domain\"},\"coloraxis\":{\"colorscale\":[[0.0,\"rgb(0, 0, 0)\"],[0.09090909090909091,\"rgb(16, 16, 16)\"],[0.18181818181818182,\"rgb(38, 38, 38)\"],[0.2727272727272727,\"rgb(59, 59, 59)\"],[0.36363636363636365,\"rgb(81, 80, 80)\"],[0.45454545454545453,\"rgb(102, 101, 101)\"],[0.5454545454545454,\"rgb(124, 123, 122)\"],[0.6363636363636364,\"rgb(146, 146, 145)\"],[0.7272727272727273,\"rgb(171, 171, 170)\"],[0.8181818181818182,\"rgb(197, 197, 195)\"],[0.9090909090909091,\"rgb(224, 224, 223)\"],[1.0,\"rgb(254, 254, 253)\"]]},\"margin\":{\"t\":60},\"title\":{\"text\":\"Visualization of Image No.5\",\"y\":0.95,\"x\":0.5},\"showlegend\":false},                        {\"responsive\": true}                    ).then(function(){\n",
       "                            \n",
       "var gd = document.getElementById('35d37f74-8198-4c99-b0bc-8a2ec5016290');\n",
       "var x = new MutationObserver(function (mutations, observer) {{\n",
       "        var display = window.getComputedStyle(gd).display;\n",
       "        if (!display || display === 'none') {{\n",
       "            console.log([gd, 'removed!']);\n",
       "            Plotly.purge(gd);\n",
       "            observer.disconnect();\n",
       "        }}\n",
       "}});\n",
       "\n",
       "// Listen for the removal of the full notebook cells\n",
       "var notebookContainer = gd.closest('#notebook-container');\n",
       "if (notebookContainer) {{\n",
       "    x.observe(notebookContainer, {childList: true});\n",
       "}}\n",
       "\n",
       "// Listen for the clearing of the current output cell\n",
       "var outputEl = gd.closest('.output');\n",
       "if (outputEl) {{\n",
       "    x.observe(outputEl, {childList: true});\n",
       "}}\n",
       "\n",
       "                        })                };                            </script>        </div>\n",
       "</body>\n",
       "</html>"
      ]
     },
     "metadata": {},
     "output_type": "display_data"
    },
    {
     "data": {
      "text/html": [
       "<html>\n",
       "<head><meta charset=\"utf-8\" /></head>\n",
       "<body>\n",
       "    <div>            <script src=\"https://cdnjs.cloudflare.com/ajax/libs/mathjax/2.7.5/MathJax.js?config=TeX-AMS-MML_SVG\"></script><script type=\"text/javascript\">if (window.MathJax && window.MathJax.Hub && window.MathJax.Hub.Config) {window.MathJax.Hub.Config({SVG: {font: \"STIX-Web\"}});}</script>                <script type=\"text/javascript\">window.PlotlyConfig = {MathJaxConfig: 'local'};</script>\n",
       "        <script src=\"https://cdn.plot.ly/plotly-2.18.2.min.js\"></script>                <div id=\"edff916d-5f7c-4835-be68-2025ebd38d1c\" class=\"plotly-graph-div\" style=\"height:525px; width:100%;\"></div>            <script type=\"text/javascript\">                                    window.PLOTLYENV=window.PLOTLYENV || {};                                    if (document.getElementById(\"edff916d-5f7c-4835-be68-2025ebd38d1c\")) {                    Plotly.newPlot(                        \"edff916d-5f7c-4835-be68-2025ebd38d1c\",                        [{\"coloraxis\":\"coloraxis\",\"name\":\"0\",\"z\":[[0,0,0,0,0,0,0,0,0,0,0,0,0,0,0,0,0,0,0,0,0,0,0,0,0,0,0,0],[0,0,0,0,0,0,0,0,0,0,0,0,0,0,0,0,0,0,0,0,0,0,0,0,0,0,0,0],[0,0,0,0,0,0,0,0,0,0,0,0,0,0,0,0,0,0,0,0,0,0,0,0,0,0,0,0],[0,0,0,0,0,0,0,0,0,0,0,0,0,0,0,0,0,0,0,0,0,0,0,0,0,0,0,0],[0,0,0,0,0,0,0,0,0,0,0,0,0,0,0,0,0,0,0,0,0,0,0,0,0,0,0,0],[0,0,0,0,0,0,0,0,0,0,0,0,0,0,0,0,0,0,0,0,0,0,0,0,0,0,0,0],[0,0,0,0,0,0,0,0,0,0,0,0,0,0,0,0,0,0,0,0,0,0,0,0,0,0,0,0],[0,0,0,0,0,0,0,0,0,0,0,0,0,0,0,0,0,0,0,0,0,0,0,0,0,0,0,0],[0,0,0,0,0,0,0,0,0,5,0,0,4,1,0,0,1,1,0,0,2,0,2,0,0,0,0,0],[0,0,0,0,0,0,0,0,0,0,8,0,0,0,2,0,0,0,0,0,2,0,0,4,0,0,0,0],[0,0,0,0,0,0,0,0,2,0,0,3,0,2,1,0,0,1,0,3,0,2,1,0,0,0,0,0],[0,0,0,0,0,0,0,0,0,2,0,0,19,111,94,0,0,0,80,96,3,0,0,2,0,0,0,0],[0,0,0,0,0,0,0,0,0,0,0,0,169,62,11,1,0,2,86,152,0,0,3,0,0,0,0,0],[0,0,0,0,0,0,0,0,3,0,0,1,117,158,54,17,1,0,13,218,9,0,0,0,0,0,0,0],[0,0,0,0,0,0,0,0,0,1,2,0,3,58,148,182,2,0,2,148,98,3,0,4,0,0,0,0],[0,0,0,0,0,0,0,0,3,0,0,27,104,180,185,45,0,0,0,26,201,6,4,0,0,0,0,0],[1,0,1,0,3,0,0,1,0,0,0,41,70,22,3,0,0,0,2,0,158,49,0,1,0,0,0,0],[2,0,0,3,0,0,4,0,0,4,1,0,1,0,0,2,0,3,5,97,203,24,3,0,0,0,0,0],[0,4,0,0,0,2,0,2,3,0,0,3,0,4,3,2,42,120,197,142,16,0,2,0,0,0,0,0],[0,0,2,0,0,3,0,23,24,15,14,44,63,108,171,212,157,99,20,0,4,3,0,3,0,0,0,0],[1,0,0,1,4,0,1,62,172,181,180,181,146,89,43,0,1,0,0,0,1,1,0,0,0,0,0,0],[0,0,0,0,0,4,4,0,1,3,1,0,1,0,2,0,0,0,0,1,0,1,1,0,0,0,0,0],[0,1,0,0,0,0,2,1,1,0,0,0,2,0,0,3,0,1,0,1,0,1,0,3,0,0,0,0],[0,0,2,0,1,0,0,0,0,1,0,0,0,1,2,0,0,2,0,1,0,1,2,0,0,0,0,0],[0,0,0,0,0,0,0,0,0,0,0,0,0,0,0,0,0,0,0,0,0,0,0,0,0,0,0,0],[0,0,0,0,0,0,0,0,0,0,0,0,0,0,0,0,0,0,0,0,0,0,0,0,0,0,0,0],[0,0,0,0,0,0,0,0,0,0,0,0,0,0,0,0,0,0,0,0,0,0,0,0,0,0,0,0],[0,0,0,0,0,0,0,0,0,0,0,0,0,0,0,0,0,0,0,0,0,0,0,0,0,0,0,0]],\"type\":\"heatmap\",\"xaxis\":\"x\",\"yaxis\":\"y\",\"hovertemplate\":\"x: %{x}<br>y: %{y}<br>color: %{z}<extra></extra>\"}],                        {\"template\":{\"data\":{\"histogram2dcontour\":[{\"type\":\"histogram2dcontour\",\"colorbar\":{\"outlinewidth\":0,\"ticks\":\"\"},\"colorscale\":[[0.0,\"#0d0887\"],[0.1111111111111111,\"#46039f\"],[0.2222222222222222,\"#7201a8\"],[0.3333333333333333,\"#9c179e\"],[0.4444444444444444,\"#bd3786\"],[0.5555555555555556,\"#d8576b\"],[0.6666666666666666,\"#ed7953\"],[0.7777777777777778,\"#fb9f3a\"],[0.8888888888888888,\"#fdca26\"],[1.0,\"#f0f921\"]]}],\"choropleth\":[{\"type\":\"choropleth\",\"colorbar\":{\"outlinewidth\":0,\"ticks\":\"\"}}],\"histogram2d\":[{\"type\":\"histogram2d\",\"colorbar\":{\"outlinewidth\":0,\"ticks\":\"\"},\"colorscale\":[[0.0,\"#0d0887\"],[0.1111111111111111,\"#46039f\"],[0.2222222222222222,\"#7201a8\"],[0.3333333333333333,\"#9c179e\"],[0.4444444444444444,\"#bd3786\"],[0.5555555555555556,\"#d8576b\"],[0.6666666666666666,\"#ed7953\"],[0.7777777777777778,\"#fb9f3a\"],[0.8888888888888888,\"#fdca26\"],[1.0,\"#f0f921\"]]}],\"heatmap\":[{\"type\":\"heatmap\",\"colorbar\":{\"outlinewidth\":0,\"ticks\":\"\"},\"colorscale\":[[0.0,\"#0d0887\"],[0.1111111111111111,\"#46039f\"],[0.2222222222222222,\"#7201a8\"],[0.3333333333333333,\"#9c179e\"],[0.4444444444444444,\"#bd3786\"],[0.5555555555555556,\"#d8576b\"],[0.6666666666666666,\"#ed7953\"],[0.7777777777777778,\"#fb9f3a\"],[0.8888888888888888,\"#fdca26\"],[1.0,\"#f0f921\"]]}],\"heatmapgl\":[{\"type\":\"heatmapgl\",\"colorbar\":{\"outlinewidth\":0,\"ticks\":\"\"},\"colorscale\":[[0.0,\"#0d0887\"],[0.1111111111111111,\"#46039f\"],[0.2222222222222222,\"#7201a8\"],[0.3333333333333333,\"#9c179e\"],[0.4444444444444444,\"#bd3786\"],[0.5555555555555556,\"#d8576b\"],[0.6666666666666666,\"#ed7953\"],[0.7777777777777778,\"#fb9f3a\"],[0.8888888888888888,\"#fdca26\"],[1.0,\"#f0f921\"]]}],\"contourcarpet\":[{\"type\":\"contourcarpet\",\"colorbar\":{\"outlinewidth\":0,\"ticks\":\"\"}}],\"contour\":[{\"type\":\"contour\",\"colorbar\":{\"outlinewidth\":0,\"ticks\":\"\"},\"colorscale\":[[0.0,\"#0d0887\"],[0.1111111111111111,\"#46039f\"],[0.2222222222222222,\"#7201a8\"],[0.3333333333333333,\"#9c179e\"],[0.4444444444444444,\"#bd3786\"],[0.5555555555555556,\"#d8576b\"],[0.6666666666666666,\"#ed7953\"],[0.7777777777777778,\"#fb9f3a\"],[0.8888888888888888,\"#fdca26\"],[1.0,\"#f0f921\"]]}],\"surface\":[{\"type\":\"surface\",\"colorbar\":{\"outlinewidth\":0,\"ticks\":\"\"},\"colorscale\":[[0.0,\"#0d0887\"],[0.1111111111111111,\"#46039f\"],[0.2222222222222222,\"#7201a8\"],[0.3333333333333333,\"#9c179e\"],[0.4444444444444444,\"#bd3786\"],[0.5555555555555556,\"#d8576b\"],[0.6666666666666666,\"#ed7953\"],[0.7777777777777778,\"#fb9f3a\"],[0.8888888888888888,\"#fdca26\"],[1.0,\"#f0f921\"]]}],\"mesh3d\":[{\"type\":\"mesh3d\",\"colorbar\":{\"outlinewidth\":0,\"ticks\":\"\"}}],\"scatter\":[{\"fillpattern\":{\"fillmode\":\"overlay\",\"size\":10,\"solidity\":0.2},\"type\":\"scatter\"}],\"parcoords\":[{\"type\":\"parcoords\",\"line\":{\"colorbar\":{\"outlinewidth\":0,\"ticks\":\"\"}}}],\"scatterpolargl\":[{\"type\":\"scatterpolargl\",\"marker\":{\"colorbar\":{\"outlinewidth\":0,\"ticks\":\"\"}}}],\"bar\":[{\"error_x\":{\"color\":\"#2a3f5f\"},\"error_y\":{\"color\":\"#2a3f5f\"},\"marker\":{\"line\":{\"color\":\"#E5ECF6\",\"width\":0.5},\"pattern\":{\"fillmode\":\"overlay\",\"size\":10,\"solidity\":0.2}},\"type\":\"bar\"}],\"scattergeo\":[{\"type\":\"scattergeo\",\"marker\":{\"colorbar\":{\"outlinewidth\":0,\"ticks\":\"\"}}}],\"scatterpolar\":[{\"type\":\"scatterpolar\",\"marker\":{\"colorbar\":{\"outlinewidth\":0,\"ticks\":\"\"}}}],\"histogram\":[{\"marker\":{\"pattern\":{\"fillmode\":\"overlay\",\"size\":10,\"solidity\":0.2}},\"type\":\"histogram\"}],\"scattergl\":[{\"type\":\"scattergl\",\"marker\":{\"colorbar\":{\"outlinewidth\":0,\"ticks\":\"\"}}}],\"scatter3d\":[{\"type\":\"scatter3d\",\"line\":{\"colorbar\":{\"outlinewidth\":0,\"ticks\":\"\"}},\"marker\":{\"colorbar\":{\"outlinewidth\":0,\"ticks\":\"\"}}}],\"scattermapbox\":[{\"type\":\"scattermapbox\",\"marker\":{\"colorbar\":{\"outlinewidth\":0,\"ticks\":\"\"}}}],\"scatterternary\":[{\"type\":\"scatterternary\",\"marker\":{\"colorbar\":{\"outlinewidth\":0,\"ticks\":\"\"}}}],\"scattercarpet\":[{\"type\":\"scattercarpet\",\"marker\":{\"colorbar\":{\"outlinewidth\":0,\"ticks\":\"\"}}}],\"carpet\":[{\"aaxis\":{\"endlinecolor\":\"#2a3f5f\",\"gridcolor\":\"white\",\"linecolor\":\"white\",\"minorgridcolor\":\"white\",\"startlinecolor\":\"#2a3f5f\"},\"baxis\":{\"endlinecolor\":\"#2a3f5f\",\"gridcolor\":\"white\",\"linecolor\":\"white\",\"minorgridcolor\":\"white\",\"startlinecolor\":\"#2a3f5f\"},\"type\":\"carpet\"}],\"table\":[{\"cells\":{\"fill\":{\"color\":\"#EBF0F8\"},\"line\":{\"color\":\"white\"}},\"header\":{\"fill\":{\"color\":\"#C8D4E3\"},\"line\":{\"color\":\"white\"}},\"type\":\"table\"}],\"barpolar\":[{\"marker\":{\"line\":{\"color\":\"#E5ECF6\",\"width\":0.5},\"pattern\":{\"fillmode\":\"overlay\",\"size\":10,\"solidity\":0.2}},\"type\":\"barpolar\"}],\"pie\":[{\"automargin\":true,\"type\":\"pie\"}]},\"layout\":{\"autotypenumbers\":\"strict\",\"colorway\":[\"#636efa\",\"#EF553B\",\"#00cc96\",\"#ab63fa\",\"#FFA15A\",\"#19d3f3\",\"#FF6692\",\"#B6E880\",\"#FF97FF\",\"#FECB52\"],\"font\":{\"color\":\"#2a3f5f\"},\"hovermode\":\"closest\",\"hoverlabel\":{\"align\":\"left\"},\"paper_bgcolor\":\"white\",\"plot_bgcolor\":\"#E5ECF6\",\"polar\":{\"bgcolor\":\"#E5ECF6\",\"angularaxis\":{\"gridcolor\":\"white\",\"linecolor\":\"white\",\"ticks\":\"\"},\"radialaxis\":{\"gridcolor\":\"white\",\"linecolor\":\"white\",\"ticks\":\"\"}},\"ternary\":{\"bgcolor\":\"#E5ECF6\",\"aaxis\":{\"gridcolor\":\"white\",\"linecolor\":\"white\",\"ticks\":\"\"},\"baxis\":{\"gridcolor\":\"white\",\"linecolor\":\"white\",\"ticks\":\"\"},\"caxis\":{\"gridcolor\":\"white\",\"linecolor\":\"white\",\"ticks\":\"\"}},\"coloraxis\":{\"colorbar\":{\"outlinewidth\":0,\"ticks\":\"\"}},\"colorscale\":{\"sequential\":[[0.0,\"#0d0887\"],[0.1111111111111111,\"#46039f\"],[0.2222222222222222,\"#7201a8\"],[0.3333333333333333,\"#9c179e\"],[0.4444444444444444,\"#bd3786\"],[0.5555555555555556,\"#d8576b\"],[0.6666666666666666,\"#ed7953\"],[0.7777777777777778,\"#fb9f3a\"],[0.8888888888888888,\"#fdca26\"],[1.0,\"#f0f921\"]],\"sequentialminus\":[[0.0,\"#0d0887\"],[0.1111111111111111,\"#46039f\"],[0.2222222222222222,\"#7201a8\"],[0.3333333333333333,\"#9c179e\"],[0.4444444444444444,\"#bd3786\"],[0.5555555555555556,\"#d8576b\"],[0.6666666666666666,\"#ed7953\"],[0.7777777777777778,\"#fb9f3a\"],[0.8888888888888888,\"#fdca26\"],[1.0,\"#f0f921\"]],\"diverging\":[[0,\"#8e0152\"],[0.1,\"#c51b7d\"],[0.2,\"#de77ae\"],[0.3,\"#f1b6da\"],[0.4,\"#fde0ef\"],[0.5,\"#f7f7f7\"],[0.6,\"#e6f5d0\"],[0.7,\"#b8e186\"],[0.8,\"#7fbc41\"],[0.9,\"#4d9221\"],[1,\"#276419\"]]},\"xaxis\":{\"gridcolor\":\"white\",\"linecolor\":\"white\",\"ticks\":\"\",\"title\":{\"standoff\":15},\"zerolinecolor\":\"white\",\"automargin\":true,\"zerolinewidth\":2},\"yaxis\":{\"gridcolor\":\"white\",\"linecolor\":\"white\",\"ticks\":\"\",\"title\":{\"standoff\":15},\"zerolinecolor\":\"white\",\"automargin\":true,\"zerolinewidth\":2},\"scene\":{\"xaxis\":{\"backgroundcolor\":\"#E5ECF6\",\"gridcolor\":\"white\",\"linecolor\":\"white\",\"showbackground\":true,\"ticks\":\"\",\"zerolinecolor\":\"white\",\"gridwidth\":2},\"yaxis\":{\"backgroundcolor\":\"#E5ECF6\",\"gridcolor\":\"white\",\"linecolor\":\"white\",\"showbackground\":true,\"ticks\":\"\",\"zerolinecolor\":\"white\",\"gridwidth\":2},\"zaxis\":{\"backgroundcolor\":\"#E5ECF6\",\"gridcolor\":\"white\",\"linecolor\":\"white\",\"showbackground\":true,\"ticks\":\"\",\"zerolinecolor\":\"white\",\"gridwidth\":2}},\"shapedefaults\":{\"line\":{\"color\":\"#2a3f5f\"}},\"annotationdefaults\":{\"arrowcolor\":\"#2a3f5f\",\"arrowhead\":0,\"arrowwidth\":1},\"geo\":{\"bgcolor\":\"white\",\"landcolor\":\"#E5ECF6\",\"subunitcolor\":\"white\",\"showland\":true,\"showlakes\":true,\"lakecolor\":\"white\"},\"title\":{\"x\":0.05},\"mapbox\":{\"style\":\"light\"}}},\"xaxis\":{\"anchor\":\"y\",\"domain\":[0.0,1.0],\"scaleanchor\":\"y\",\"constrain\":\"domain\"},\"yaxis\":{\"anchor\":\"x\",\"domain\":[0.0,1.0],\"autorange\":\"reversed\",\"constrain\":\"domain\"},\"coloraxis\":{\"colorscale\":[[0.0,\"rgb(0, 0, 0)\"],[0.09090909090909091,\"rgb(16, 16, 16)\"],[0.18181818181818182,\"rgb(38, 38, 38)\"],[0.2727272727272727,\"rgb(59, 59, 59)\"],[0.36363636363636365,\"rgb(81, 80, 80)\"],[0.45454545454545453,\"rgb(102, 101, 101)\"],[0.5454545454545454,\"rgb(124, 123, 122)\"],[0.6363636363636364,\"rgb(146, 146, 145)\"],[0.7272727272727273,\"rgb(171, 171, 170)\"],[0.8181818181818182,\"rgb(197, 197, 195)\"],[0.9090909090909091,\"rgb(224, 224, 223)\"],[1.0,\"rgb(254, 254, 253)\"]]},\"margin\":{\"t\":60},\"title\":{\"text\":\"Visualization of Image No.700\",\"y\":0.95,\"x\":0.5},\"showlegend\":false},                        {\"responsive\": true}                    ).then(function(){\n",
       "                            \n",
       "var gd = document.getElementById('edff916d-5f7c-4835-be68-2025ebd38d1c');\n",
       "var x = new MutationObserver(function (mutations, observer) {{\n",
       "        var display = window.getComputedStyle(gd).display;\n",
       "        if (!display || display === 'none') {{\n",
       "            console.log([gd, 'removed!']);\n",
       "            Plotly.purge(gd);\n",
       "            observer.disconnect();\n",
       "        }}\n",
       "}});\n",
       "\n",
       "// Listen for the removal of the full notebook cells\n",
       "var notebookContainer = gd.closest('#notebook-container');\n",
       "if (notebookContainer) {{\n",
       "    x.observe(notebookContainer, {childList: true});\n",
       "}}\n",
       "\n",
       "// Listen for the clearing of the current output cell\n",
       "var outputEl = gd.closest('.output');\n",
       "if (outputEl) {{\n",
       "    x.observe(outputEl, {childList: true});\n",
       "}}\n",
       "\n",
       "                        })                };                            </script>        </div>\n",
       "</body>\n",
       "</html>"
      ]
     },
     "metadata": {},
     "output_type": "display_data"
    }
   ],
   "source": [
    "# Check some random values from train data\n",
    "for index in (3, 5, 700):\n",
    "    plot_img(index)"
   ]
  },
  {
   "cell_type": "markdown",
   "metadata": {
    "id": "YfLGZEBo-Ppd"
   },
   "source": [
    "Check target distribution:"
   ]
  },
  {
   "cell_type": "code",
   "execution_count": 8,
   "metadata": {
    "colab": {
     "base_uri": "https://localhost:8080/",
     "height": 542
    },
    "execution": {
     "iopub.execute_input": "2023-03-24T22:14:47.552951Z",
     "iopub.status.busy": "2023-03-24T22:14:47.551592Z",
     "iopub.status.idle": "2023-03-24T22:14:47.747411Z",
     "shell.execute_reply": "2023-03-24T22:14:47.746357Z",
     "shell.execute_reply.started": "2023-03-24T22:14:47.552908Z"
    },
    "id": "rbhamX9p-Ppd",
    "outputId": "2adeb607-c190-4462-fc0e-8332ddeda42b"
   },
   "outputs": [
    {
     "data": {
      "text/html": [
       "<html>\n",
       "<head><meta charset=\"utf-8\" /></head>\n",
       "<body>\n",
       "    <div>            <script src=\"https://cdnjs.cloudflare.com/ajax/libs/mathjax/2.7.5/MathJax.js?config=TeX-AMS-MML_SVG\"></script><script type=\"text/javascript\">if (window.MathJax && window.MathJax.Hub && window.MathJax.Hub.Config) {window.MathJax.Hub.Config({SVG: {font: \"STIX-Web\"}});}</script>                <script type=\"text/javascript\">window.PlotlyConfig = {MathJaxConfig: 'local'};</script>\n",
       "        <script src=\"https://cdn.plot.ly/plotly-2.18.2.min.js\"></script>                <div id=\"39f7b806-804b-4da8-a125-b7aa491bc90f\" class=\"plotly-graph-div\" style=\"height:525px; width:100%;\"></div>            <script type=\"text/javascript\">                                    window.PLOTLYENV=window.PLOTLYENV || {};                                    if (document.getElementById(\"39f7b806-804b-4da8-a125-b7aa491bc90f\")) {                    Plotly.newPlot(                        \"39f7b806-804b-4da8-a125-b7aa491bc90f\",                        [{\"alignmentgroup\":\"True\",\"hovertemplate\":\"variable=label<br>index=%{x}<br>value=%{y}<extra></extra>\",\"legendgroup\":\"label\",\"marker\":{\"color\":\"grey\",\"pattern\":{\"shape\":\"\"}},\"name\":\"label\",\"offsetgroup\":\"label\",\"orientation\":\"v\",\"showlegend\":true,\"textposition\":\"auto\",\"x\":[0,26,20,21,22,23,24,25,27,18,28,29,30,31,32,33,19,17,1,8,2,3,4,5,6,7,9,16,10,11,12,13,14,15,34],\"xaxis\":\"x\",\"y\":[6000,5999,5999,5999,5999,5999,5999,5999,5999,5999,5999,5999,5999,5999,5999,5999,5999,5999,5999,5999,5999,5999,5999,5999,5999,5999,5999,5999,5999,5999,5999,5999,5999,5999,5999],\"yaxis\":\"y\",\"type\":\"bar\"}],                        {\"template\":{\"data\":{\"barpolar\":[{\"marker\":{\"line\":{\"color\":\"white\",\"width\":0.5},\"pattern\":{\"fillmode\":\"overlay\",\"size\":10,\"solidity\":0.2}},\"type\":\"barpolar\"}],\"bar\":[{\"error_x\":{\"color\":\"rgb(36,36,36)\"},\"error_y\":{\"color\":\"rgb(36,36,36)\"},\"marker\":{\"line\":{\"color\":\"white\",\"width\":0.5},\"pattern\":{\"fillmode\":\"overlay\",\"size\":10,\"solidity\":0.2}},\"type\":\"bar\"}],\"carpet\":[{\"aaxis\":{\"endlinecolor\":\"rgb(36,36,36)\",\"gridcolor\":\"white\",\"linecolor\":\"white\",\"minorgridcolor\":\"white\",\"startlinecolor\":\"rgb(36,36,36)\"},\"baxis\":{\"endlinecolor\":\"rgb(36,36,36)\",\"gridcolor\":\"white\",\"linecolor\":\"white\",\"minorgridcolor\":\"white\",\"startlinecolor\":\"rgb(36,36,36)\"},\"type\":\"carpet\"}],\"choropleth\":[{\"colorbar\":{\"outlinewidth\":1,\"tickcolor\":\"rgb(36,36,36)\",\"ticks\":\"outside\"},\"type\":\"choropleth\"}],\"contourcarpet\":[{\"colorbar\":{\"outlinewidth\":1,\"tickcolor\":\"rgb(36,36,36)\",\"ticks\":\"outside\"},\"type\":\"contourcarpet\"}],\"contour\":[{\"colorbar\":{\"outlinewidth\":1,\"tickcolor\":\"rgb(36,36,36)\",\"ticks\":\"outside\"},\"colorscale\":[[0.0,\"#440154\"],[0.1111111111111111,\"#482878\"],[0.2222222222222222,\"#3e4989\"],[0.3333333333333333,\"#31688e\"],[0.4444444444444444,\"#26828e\"],[0.5555555555555556,\"#1f9e89\"],[0.6666666666666666,\"#35b779\"],[0.7777777777777778,\"#6ece58\"],[0.8888888888888888,\"#b5de2b\"],[1.0,\"#fde725\"]],\"type\":\"contour\"}],\"heatmapgl\":[{\"colorbar\":{\"outlinewidth\":1,\"tickcolor\":\"rgb(36,36,36)\",\"ticks\":\"outside\"},\"colorscale\":[[0.0,\"#440154\"],[0.1111111111111111,\"#482878\"],[0.2222222222222222,\"#3e4989\"],[0.3333333333333333,\"#31688e\"],[0.4444444444444444,\"#26828e\"],[0.5555555555555556,\"#1f9e89\"],[0.6666666666666666,\"#35b779\"],[0.7777777777777778,\"#6ece58\"],[0.8888888888888888,\"#b5de2b\"],[1.0,\"#fde725\"]],\"type\":\"heatmapgl\"}],\"heatmap\":[{\"colorbar\":{\"outlinewidth\":1,\"tickcolor\":\"rgb(36,36,36)\",\"ticks\":\"outside\"},\"colorscale\":[[0.0,\"#440154\"],[0.1111111111111111,\"#482878\"],[0.2222222222222222,\"#3e4989\"],[0.3333333333333333,\"#31688e\"],[0.4444444444444444,\"#26828e\"],[0.5555555555555556,\"#1f9e89\"],[0.6666666666666666,\"#35b779\"],[0.7777777777777778,\"#6ece58\"],[0.8888888888888888,\"#b5de2b\"],[1.0,\"#fde725\"]],\"type\":\"heatmap\"}],\"histogram2dcontour\":[{\"colorbar\":{\"outlinewidth\":1,\"tickcolor\":\"rgb(36,36,36)\",\"ticks\":\"outside\"},\"colorscale\":[[0.0,\"#440154\"],[0.1111111111111111,\"#482878\"],[0.2222222222222222,\"#3e4989\"],[0.3333333333333333,\"#31688e\"],[0.4444444444444444,\"#26828e\"],[0.5555555555555556,\"#1f9e89\"],[0.6666666666666666,\"#35b779\"],[0.7777777777777778,\"#6ece58\"],[0.8888888888888888,\"#b5de2b\"],[1.0,\"#fde725\"]],\"type\":\"histogram2dcontour\"}],\"histogram2d\":[{\"colorbar\":{\"outlinewidth\":1,\"tickcolor\":\"rgb(36,36,36)\",\"ticks\":\"outside\"},\"colorscale\":[[0.0,\"#440154\"],[0.1111111111111111,\"#482878\"],[0.2222222222222222,\"#3e4989\"],[0.3333333333333333,\"#31688e\"],[0.4444444444444444,\"#26828e\"],[0.5555555555555556,\"#1f9e89\"],[0.6666666666666666,\"#35b779\"],[0.7777777777777778,\"#6ece58\"],[0.8888888888888888,\"#b5de2b\"],[1.0,\"#fde725\"]],\"type\":\"histogram2d\"}],\"histogram\":[{\"marker\":{\"line\":{\"color\":\"white\",\"width\":0.6}},\"type\":\"histogram\"}],\"mesh3d\":[{\"colorbar\":{\"outlinewidth\":1,\"tickcolor\":\"rgb(36,36,36)\",\"ticks\":\"outside\"},\"type\":\"mesh3d\"}],\"parcoords\":[{\"line\":{\"colorbar\":{\"outlinewidth\":1,\"tickcolor\":\"rgb(36,36,36)\",\"ticks\":\"outside\"}},\"type\":\"parcoords\"}],\"pie\":[{\"automargin\":true,\"type\":\"pie\"}],\"scatter3d\":[{\"line\":{\"colorbar\":{\"outlinewidth\":1,\"tickcolor\":\"rgb(36,36,36)\",\"ticks\":\"outside\"}},\"marker\":{\"colorbar\":{\"outlinewidth\":1,\"tickcolor\":\"rgb(36,36,36)\",\"ticks\":\"outside\"}},\"type\":\"scatter3d\"}],\"scattercarpet\":[{\"marker\":{\"colorbar\":{\"outlinewidth\":1,\"tickcolor\":\"rgb(36,36,36)\",\"ticks\":\"outside\"}},\"type\":\"scattercarpet\"}],\"scattergeo\":[{\"marker\":{\"colorbar\":{\"outlinewidth\":1,\"tickcolor\":\"rgb(36,36,36)\",\"ticks\":\"outside\"}},\"type\":\"scattergeo\"}],\"scattergl\":[{\"marker\":{\"colorbar\":{\"outlinewidth\":1,\"tickcolor\":\"rgb(36,36,36)\",\"ticks\":\"outside\"}},\"type\":\"scattergl\"}],\"scattermapbox\":[{\"marker\":{\"colorbar\":{\"outlinewidth\":1,\"tickcolor\":\"rgb(36,36,36)\",\"ticks\":\"outside\"}},\"type\":\"scattermapbox\"}],\"scatterpolargl\":[{\"marker\":{\"colorbar\":{\"outlinewidth\":1,\"tickcolor\":\"rgb(36,36,36)\",\"ticks\":\"outside\"}},\"type\":\"scatterpolargl\"}],\"scatterpolar\":[{\"marker\":{\"colorbar\":{\"outlinewidth\":1,\"tickcolor\":\"rgb(36,36,36)\",\"ticks\":\"outside\"}},\"type\":\"scatterpolar\"}],\"scatter\":[{\"fillpattern\":{\"fillmode\":\"overlay\",\"size\":10,\"solidity\":0.2},\"type\":\"scatter\"}],\"scatterternary\":[{\"marker\":{\"colorbar\":{\"outlinewidth\":1,\"tickcolor\":\"rgb(36,36,36)\",\"ticks\":\"outside\"}},\"type\":\"scatterternary\"}],\"surface\":[{\"colorbar\":{\"outlinewidth\":1,\"tickcolor\":\"rgb(36,36,36)\",\"ticks\":\"outside\"},\"colorscale\":[[0.0,\"#440154\"],[0.1111111111111111,\"#482878\"],[0.2222222222222222,\"#3e4989\"],[0.3333333333333333,\"#31688e\"],[0.4444444444444444,\"#26828e\"],[0.5555555555555556,\"#1f9e89\"],[0.6666666666666666,\"#35b779\"],[0.7777777777777778,\"#6ece58\"],[0.8888888888888888,\"#b5de2b\"],[1.0,\"#fde725\"]],\"type\":\"surface\"}],\"table\":[{\"cells\":{\"fill\":{\"color\":\"rgb(237,237,237)\"},\"line\":{\"color\":\"white\"}},\"header\":{\"fill\":{\"color\":\"rgb(217,217,217)\"},\"line\":{\"color\":\"white\"}},\"type\":\"table\"}]},\"layout\":{\"annotationdefaults\":{\"arrowhead\":0,\"arrowwidth\":1},\"autotypenumbers\":\"strict\",\"coloraxis\":{\"colorbar\":{\"outlinewidth\":1,\"tickcolor\":\"rgb(36,36,36)\",\"ticks\":\"outside\"}},\"colorscale\":{\"diverging\":[[0.0,\"rgb(103,0,31)\"],[0.1,\"rgb(178,24,43)\"],[0.2,\"rgb(214,96,77)\"],[0.3,\"rgb(244,165,130)\"],[0.4,\"rgb(253,219,199)\"],[0.5,\"rgb(247,247,247)\"],[0.6,\"rgb(209,229,240)\"],[0.7,\"rgb(146,197,222)\"],[0.8,\"rgb(67,147,195)\"],[0.9,\"rgb(33,102,172)\"],[1.0,\"rgb(5,48,97)\"]],\"sequential\":[[0.0,\"#440154\"],[0.1111111111111111,\"#482878\"],[0.2222222222222222,\"#3e4989\"],[0.3333333333333333,\"#31688e\"],[0.4444444444444444,\"#26828e\"],[0.5555555555555556,\"#1f9e89\"],[0.6666666666666666,\"#35b779\"],[0.7777777777777778,\"#6ece58\"],[0.8888888888888888,\"#b5de2b\"],[1.0,\"#fde725\"]],\"sequentialminus\":[[0.0,\"#440154\"],[0.1111111111111111,\"#482878\"],[0.2222222222222222,\"#3e4989\"],[0.3333333333333333,\"#31688e\"],[0.4444444444444444,\"#26828e\"],[0.5555555555555556,\"#1f9e89\"],[0.6666666666666666,\"#35b779\"],[0.7777777777777778,\"#6ece58\"],[0.8888888888888888,\"#b5de2b\"],[1.0,\"#fde725\"]]},\"colorway\":[\"#1F77B4\",\"#FF7F0E\",\"#2CA02C\",\"#D62728\",\"#9467BD\",\"#8C564B\",\"#E377C2\",\"#7F7F7F\",\"#BCBD22\",\"#17BECF\"],\"font\":{\"color\":\"rgb(36,36,36)\"},\"geo\":{\"bgcolor\":\"white\",\"lakecolor\":\"white\",\"landcolor\":\"white\",\"showlakes\":true,\"showland\":true,\"subunitcolor\":\"white\"},\"hoverlabel\":{\"align\":\"left\"},\"hovermode\":\"closest\",\"mapbox\":{\"style\":\"light\"},\"paper_bgcolor\":\"white\",\"plot_bgcolor\":\"white\",\"polar\":{\"angularaxis\":{\"gridcolor\":\"rgb(232,232,232)\",\"linecolor\":\"rgb(36,36,36)\",\"showgrid\":false,\"showline\":true,\"ticks\":\"outside\"},\"bgcolor\":\"white\",\"radialaxis\":{\"gridcolor\":\"rgb(232,232,232)\",\"linecolor\":\"rgb(36,36,36)\",\"showgrid\":false,\"showline\":true,\"ticks\":\"outside\"}},\"scene\":{\"xaxis\":{\"backgroundcolor\":\"white\",\"gridcolor\":\"rgb(232,232,232)\",\"gridwidth\":2,\"linecolor\":\"rgb(36,36,36)\",\"showbackground\":true,\"showgrid\":false,\"showline\":true,\"ticks\":\"outside\",\"zeroline\":false,\"zerolinecolor\":\"rgb(36,36,36)\"},\"yaxis\":{\"backgroundcolor\":\"white\",\"gridcolor\":\"rgb(232,232,232)\",\"gridwidth\":2,\"linecolor\":\"rgb(36,36,36)\",\"showbackground\":true,\"showgrid\":false,\"showline\":true,\"ticks\":\"outside\",\"zeroline\":false,\"zerolinecolor\":\"rgb(36,36,36)\"},\"zaxis\":{\"backgroundcolor\":\"white\",\"gridcolor\":\"rgb(232,232,232)\",\"gridwidth\":2,\"linecolor\":\"rgb(36,36,36)\",\"showbackground\":true,\"showgrid\":false,\"showline\":true,\"ticks\":\"outside\",\"zeroline\":false,\"zerolinecolor\":\"rgb(36,36,36)\"}},\"shapedefaults\":{\"fillcolor\":\"black\",\"line\":{\"width\":0},\"opacity\":0.3},\"ternary\":{\"aaxis\":{\"gridcolor\":\"rgb(232,232,232)\",\"linecolor\":\"rgb(36,36,36)\",\"showgrid\":false,\"showline\":true,\"ticks\":\"outside\"},\"baxis\":{\"gridcolor\":\"rgb(232,232,232)\",\"linecolor\":\"rgb(36,36,36)\",\"showgrid\":false,\"showline\":true,\"ticks\":\"outside\"},\"bgcolor\":\"white\",\"caxis\":{\"gridcolor\":\"rgb(232,232,232)\",\"linecolor\":\"rgb(36,36,36)\",\"showgrid\":false,\"showline\":true,\"ticks\":\"outside\"}},\"title\":{\"x\":0.05},\"xaxis\":{\"automargin\":true,\"gridcolor\":\"rgb(232,232,232)\",\"linecolor\":\"rgb(36,36,36)\",\"showgrid\":false,\"showline\":true,\"ticks\":\"outside\",\"title\":{\"standoff\":15},\"zeroline\":false,\"zerolinecolor\":\"rgb(36,36,36)\"},\"yaxis\":{\"automargin\":true,\"gridcolor\":\"rgb(232,232,232)\",\"linecolor\":\"rgb(36,36,36)\",\"showgrid\":false,\"showline\":true,\"ticks\":\"outside\",\"title\":{\"standoff\":15},\"zeroline\":false,\"zerolinecolor\":\"rgb(36,36,36)\"}}},\"xaxis\":{\"anchor\":\"y\",\"domain\":[0.0,1.0],\"title\":{\"text\":\"Digit\"},\"tickvals\":[0,1,2,3,4,5,6,7,8,9,10,11,12,13,14,15,16,17,18,19,20,21,22,23,24,25,26,27,28,29,30,31,32,33,34]},\"yaxis\":{\"anchor\":\"x\",\"domain\":[0.0,1.0],\"title\":{\"text\":\"Frequency\"}},\"legend\":{\"title\":{\"text\":\"variable\"},\"tracegroupgap\":0},\"margin\":{\"t\":60},\"barmode\":\"relative\",\"font\":{\"size\":14},\"title\":{\"text\":\"Target Distribution\",\"y\":0.95,\"x\":0.5},\"showlegend\":false},                        {\"responsive\": true}                    ).then(function(){\n",
       "                            \n",
       "var gd = document.getElementById('39f7b806-804b-4da8-a125-b7aa491bc90f');\n",
       "var x = new MutationObserver(function (mutations, observer) {{\n",
       "        var display = window.getComputedStyle(gd).display;\n",
       "        if (!display || display === 'none') {{\n",
       "            console.log([gd, 'removed!']);\n",
       "            Plotly.purge(gd);\n",
       "            observer.disconnect();\n",
       "        }}\n",
       "}});\n",
       "\n",
       "// Listen for the removal of the full notebook cells\n",
       "var notebookContainer = gd.closest('#notebook-container');\n",
       "if (notebookContainer) {{\n",
       "    x.observe(notebookContainer, {childList: true});\n",
       "}}\n",
       "\n",
       "// Listen for the clearing of the current output cell\n",
       "var outputEl = gd.closest('.output');\n",
       "if (outputEl) {{\n",
       "    x.observe(outputEl, {childList: true});\n",
       "}}\n",
       "\n",
       "                        })                };                            </script>        </div>\n",
       "</body>\n",
       "</html>"
      ]
     },
     "metadata": {},
     "output_type": "display_data"
    }
   ],
   "source": [
    "# Create figure\n",
    "fig = px.bar(y_train.value_counts(),\n",
    "             template='simple_white',\n",
    "             color_discrete_sequence = ['grey']\n",
    "            )\n",
    "\n",
    "# Set Title and x/y axis labels\n",
    "fig.update_layout(\n",
    "    xaxis = dict(\n",
    "        tickvals = [0, 1, 2, 3, 4, 5, 6, 7, 8, 9, 10, 11, 12, 13, 14, 15, 16, 17, 18, 19, 20, 21, 22, 23, 24, 25, 26, 27, 28, 29, 30, 31, 32, 33, 34]\n",
    "    ),\n",
    "    xaxis_title=\"Digit\",\n",
    "    yaxis_title=\"Frequency\",\n",
    "    showlegend = False,\n",
    "    font = dict(\n",
    "            size = 14\n",
    "            ),     \n",
    "    title={\n",
    "        'text': \"Target Distribution\",\n",
    "        'y':0.95,\n",
    "        'x':0.5\n",
    "        }\n",
    "    )\n",
    "\n",
    "# Display\n",
    "fig.show() # for Kaggle version\n",
    "#fig.show(\"svg\") # for GitHub version"
   ]
  },
  {
   "cell_type": "markdown",
   "metadata": {
    "id": "c3AjpAeQ-Ppd"
   },
   "source": [
    "# Data Preparation"
   ]
  },
  {
   "cell_type": "markdown",
   "metadata": {
    "id": "nLoJ1ZHO-Ppe"
   },
   "source": [
    "## Normalization"
   ]
  },
  {
   "cell_type": "markdown",
   "metadata": {
    "id": "FlEvFbYp-Ppe"
   },
   "source": [
    "Normalization:\n",
    "\n",
    "* In order to reduce the impact of illumination differences on image analysis, we perform grayscale normalization.\n",
    "* By normalizing the grayscale values of the images, we can ensure that the CNN is able to more accurately analyze and classify the images.\n",
    "* Normalization can also help to improve the consistency of the image data, making it easier to train the model and achieve better performance."
   ]
  },
  {
   "cell_type": "markdown",
   "metadata": {
    "id": "86-qe2vj-Ppe"
   },
   "source": [
    "CNN speed improvement through normalization:\n",
    "\n",
    "* In addition to improving the accuracy of the CNN, normalization can also have a positive impact on the speed of the model.\n",
    "* By reducing the variation in grayscale values across different images, the CNN can process the data more quickly and efficiently."
   ]
  },
  {
   "cell_type": "code",
   "execution_count": 9,
   "metadata": {
    "colab": {
     "base_uri": "https://localhost:8080/"
    },
    "execution": {
     "iopub.execute_input": "2023-03-24T22:14:47.749795Z",
     "iopub.status.busy": "2023-03-24T22:14:47.749317Z",
     "iopub.status.idle": "2023-03-24T22:14:47.939599Z",
     "shell.execute_reply": "2023-03-24T22:14:47.938373Z",
     "shell.execute_reply.started": "2023-03-24T22:14:47.749754Z"
    },
    "id": "IN7ybHXm-Ppe",
    "outputId": "b507afc1-4fa0-4a3a-a8c7-4df262f33534"
   },
   "outputs": [
    {
     "name": "stdout",
     "output_type": "stream",
     "text": [
      "X_train shape: (209966, 784)\n",
      "test shape: (34966, 784)\n"
     ]
    }
   ],
   "source": [
    "# Normalize the data\n",
    "X_train = X_train / 255.0\n",
    "test = test / 255.0\n",
    "\n",
    "print(f\"X_train shape: {X_train.shape}\")\n",
    "print(f\"test shape: {test.shape}\")"
   ]
  },
  {
   "cell_type": "markdown",
   "metadata": {
    "id": "Kgz1WRkW-Ppf"
   },
   "source": [
    "## Reshape"
   ]
  },
  {
   "cell_type": "markdown",
   "metadata": {
    "id": "kGUh5FNw-Ppf"
   },
   "source": [
    "Reshape:\n",
    "\n",
    "* In order to prepare our image data for use with a neural network, we need to reshape it into 3D matrices.\n",
    "* Our original images are 28x28 pixels in size, so we reshape them into 28x28x1 matrices to add an extra dimension for channels.\n",
    "* This is necessary because Keras, the deep learning library we are using, expects image data to be represented as 3D tensors with dimensions (width, height, channels).\n",
    "* Since our images are grayscale, we only need one channel to represent them, hence the \"1\" in the last dimension of the reshaped matrix."
   ]
  },
  {
   "cell_type": "code",
   "execution_count": 10,
   "metadata": {
    "colab": {
     "base_uri": "https://localhost:8080/"
    },
    "execution": {
     "iopub.execute_input": "2023-03-24T22:14:47.94193Z",
     "iopub.status.busy": "2023-03-24T22:14:47.941491Z",
     "iopub.status.idle": "2023-03-24T22:14:47.949607Z",
     "shell.execute_reply": "2023-03-24T22:14:47.948267Z",
     "shell.execute_reply.started": "2023-03-24T22:14:47.941886Z"
    },
    "id": "M-zt-e5r-Ppf",
    "outputId": "e54a182d-65f9-453c-b74e-319269c03733"
   },
   "outputs": [
    {
     "name": "stdout",
     "output_type": "stream",
     "text": [
      "X_train shape: (209966, 28, 28, 1)\n",
      "test shape: (34966, 28, 28, 1)\n"
     ]
    }
   ],
   "source": [
    "# Reshape\n",
    "X_train = X_train.values.reshape(X_train.shape[0], 28, 28, 1)\n",
    "test = test.values.reshape(test.shape[0], 28, 28, 1)\n",
    "\n",
    "print(f\"X_train shape: {X_train.shape}\")\n",
    "print(f\"test shape: {test.shape}\")"
   ]
  },
  {
   "cell_type": "markdown",
   "metadata": {
    "id": "fVG81i_n-Ppf"
   },
   "source": [
    "## Label Encoding"
   ]
  },
  {
   "cell_type": "markdown",
   "metadata": {
    "id": "q4GfaJ_--Ppf"
   },
   "source": [
    "Label Encoding:\n",
    "\n",
    "* In order to use categorical labels in our neural network, we need to encode them as numerical values.\n",
    "* One common method for doing this is label encoding, where each unique label is assigned a unique integer value.\n",
    "* However, since these numerical labels have an inherent ordering (e.g. 4 is \"greater\" than 2), they may not be suitable for use in certain types of models.\n",
    "* To address this issue, we can use one-hot encoding to represent each label as a binary vector where only the corresponding label index is set to 1, and all other indices are set to 0."
   ]
  },
  {
   "cell_type": "code",
   "execution_count": 11,
   "metadata": {
    "execution": {
     "iopub.execute_input": "2023-03-24T22:14:47.955785Z",
     "iopub.status.busy": "2023-03-24T22:14:47.954522Z",
     "iopub.status.idle": "2023-03-24T22:14:47.962351Z",
     "shell.execute_reply": "2023-03-24T22:14:47.9611Z",
     "shell.execute_reply.started": "2023-03-24T22:14:47.95574Z"
    },
    "id": "liVrWSnQ-Ppg"
   },
   "outputs": [],
   "source": [
    "# One-hot encoding\n",
    "y_train = to_categorical(y_train, num_classes = 35)"
   ]
  },
  {
   "cell_type": "markdown",
   "metadata": {
    "id": "7Z1OFEE5-Ppg"
   },
   "source": [
    "## Train Test Split"
   ]
  },
  {
   "cell_type": "markdown",
   "metadata": {
    "id": "r7EV4Fcl-Ppg"
   },
   "source": [
    "Train Test Split:\n",
    "\n",
    "* In order to evaluate the performance of our model and ensure that it can generalize well to new, unseen data, we need to split our dataset into separate training and testing sets.\n",
    "* This is typically done by randomly selecting a portion of the data to use for testing and setting aside the rest for training.\n",
    "* The size of the test and train sets can vary depending on the size of the dataset and other factors, but a common split is to use 80% of the data for training and 20% for testing."
   ]
  },
  {
   "cell_type": "code",
   "execution_count": 12,
   "metadata": {
    "colab": {
     "base_uri": "https://localhost:8080/"
    },
    "execution": {
     "iopub.execute_input": "2023-03-24T22:14:47.964739Z",
     "iopub.status.busy": "2023-03-24T22:14:47.964071Z",
     "iopub.status.idle": "2023-03-24T22:14:48.355949Z",
     "shell.execute_reply": "2023-03-24T22:14:48.354745Z",
     "shell.execute_reply.started": "2023-03-24T22:14:47.96467Z"
    },
    "id": "pj5fM5eU-Ppg",
    "outputId": "d8a9a774-98ee-4e52-e708-c6d8d90ca72d"
   },
   "outputs": [
    {
     "name": "stdout",
     "output_type": "stream",
     "text": [
      "X_train shape: (167972, 28, 28, 1)\n",
      "y_train shape: (167972, 35)\n",
      "X_val shape: (41994, 28, 28, 1)\n",
      "y_val shape: (41994, 35)\n"
     ]
    }
   ],
   "source": [
    "X_train, X_val, y_train, y_val = train_test_split(X_train, y_train, test_size = 0.2, random_state=11)\n",
    "\n",
    "print(f\"X_train shape: {X_train.shape}\")\n",
    "print(f\"y_train shape: {y_train.shape}\")\n",
    "print(f\"X_val shape: {X_val.shape}\")\n",
    "print(f\"y_val shape: {y_val.shape}\")"
   ]
  },
  {
   "cell_type": "markdown",
   "metadata": {
    "id": "At6Wt50b-Ppg"
   },
   "source": [
    "# Data Augmentation"
   ]
  },
  {
   "cell_type": "markdown",
   "metadata": {
    "id": "q8BsCqzR-Pph"
   },
   "source": [
    "Data augmentation is a commonly used technique to artificially expand the training dataset and reduce overfitting. Some of the common data augmentation techniques used in image recognition tasks are:\n",
    "\n",
    "* Rotation: rotating the image by a certain degree to simulate variations in writing angles.\n",
    "* Translation: shifting the image vertically or horizontally to simulate variations in position.\n",
    "* Zooming: zooming in or out of the image to simulate variations in writing size.\n",
    "* Shearing: distorting the image by shearing along the x or y-axis to simulate variations in writing style.\n",
    "\n",
    "By applying these transformations randomly to the existing training images, we can create new training images that are similar to the original ones but have small variations, making the model more robust and less likely to overfit to the training data."
   ]
  },
  {
   "cell_type": "code",
   "execution_count": 13,
   "metadata": {
    "execution": {
     "iopub.execute_input": "2023-03-24T22:14:48.358495Z",
     "iopub.status.busy": "2023-03-24T22:14:48.3575Z",
     "iopub.status.idle": "2023-03-24T22:14:48.445771Z",
     "shell.execute_reply": "2023-03-24T22:14:48.444617Z",
     "shell.execute_reply.started": "2023-03-24T22:14:48.358452Z"
    },
    "id": "B26uR38R-Pph"
   },
   "outputs": [],
   "source": [
    "datagen = ImageDataGenerator(\n",
    "    rotation_range=10,  \n",
    "    zoom_range = 0.10,  \n",
    "    width_shift_range=0.1, \n",
    "    height_shift_range=0.1\n",
    ")\n",
    "\n",
    "datagen.fit(X_train)"
   ]
  },
  {
   "cell_type": "markdown",
   "metadata": {
    "id": "hLvXMS1t-Pph"
   },
   "source": [
    "# CNN Building"
   ]
  },
  {
   "cell_type": "markdown",
   "metadata": {
    "id": "HXp5duhn-Pph"
   },
   "source": [
    "## CNN Architecture"
   ]
  },
  {
   "cell_type": "markdown",
   "metadata": {
    "id": "hwX40c_e-Pph"
   },
   "source": [
    "CNN Architecture:\n",
    "\n",
    "1. Convolutional Layer:\n",
    "    * The first layer in our CNN is a Conv2D layer, which applies a set of learnable filters to the input image.\n",
    "    * Each filter convolves over the input image, producing a feature map that captures different local features of the image.\n",
    "    * In this model, I have chosen to use 32 filters for the first two Conv2D layers and 64 filters for the last two layers.\n",
    "    * The size of the filters (kernel size) determines the size of the receptive field of the filter and the level of detail that it can capture.\n",
    "    \n",
    "    \n",
    "2. Batch Normalization Layer:\n",
    "    * Batch normalization is a technique used to normalize the inputs of each layer, improving the training speed and performance of the model.\n",
    "    * In this model, I have added a BatchNormalization layer after each Conv2D layer and before the activation function.\n",
    "    * This helps to stabilize the distribution of the inputs to each layer and reduces overfitting.\n",
    "     \n",
    "      \n",
    "3. Activation Function:\n",
    "    * In this model, I have used ReLU (Rectified Linear Unit) activation function in the Conv2D and Dense layers.\n",
    "    * The ReLU activation function adds non-linearity to the network, allowing it to learn more complex features.  \n",
    "    \n",
    "    \n",
    "4. Pooling Layer:\n",
    "    * The pooling layer is used to reduce the spatial dimensions of the feature maps produced by the Conv2D layer.\n",
    "    * In this model, I have used MaxPool2D layer, which selects the maximum value within a pool of adjacent pixels and downsamples the feature map.\n",
    "    * By downsampling the feature maps, we can reduce the computational cost and improve the model's ability to generalize by reducing overfitting.\n",
    "    * The size of the pooling window determines the level of downsampling applied to the feature maps.\n",
    "    \n",
    " \n",
    "5. Dropout Layer:\n",
    "    * Dropout is a regularization technique that randomly ignores a proportion of nodes in the layer during training, forcing the network to learn features in a distributed way.\n",
    "    * In this model, I have used Dropout layer to reduce overfitting and improve generalization.\n",
    "    * The proportion of nodes to drop can be set using a dropout rate hyperparameter.\n",
    "    \n",
    "    \n",
    "6. Flatten Layer:\n",
    "    * The Flatten layer is used to convert the final feature maps produced by the Conv2D and pooling layers into a one-dimensional vector.\n",
    "    * This is necessary to connect the CNN to the fully connected layers, which are artificial neural networks (ANN) classifiers.\n",
    "    \n",
    " \n",
    "7. Dense Layer:\n",
    "    * The fully connected layers are used to classify the input image into one of the predefined classes.\n",
    "    * In our model, we have used two Dense layers, one with 128 neurons, to extract high-level features from the flattened feature maps, and one with 10 neurons, to classify the image.\n",
    "    * The final Dense layer has 10 neurons, one for each possible class, and uses softmax activation to output a probability distribution over the classes."
   ]
  },
  {
   "cell_type": "code",
   "execution_count": 14,
   "metadata": {
    "execution": {
     "iopub.execute_input": "2023-03-24T22:14:48.44811Z",
     "iopub.status.busy": "2023-03-24T22:14:48.447678Z",
     "iopub.status.idle": "2023-03-24T22:14:51.452936Z",
     "shell.execute_reply": "2023-03-24T22:14:51.45165Z",
     "shell.execute_reply.started": "2023-03-24T22:14:48.448063Z"
    },
    "id": "bfDbg1u5-Ppi"
   },
   "outputs": [],
   "source": [
    "# Create CNN\n",
    "model = Sequential()\n",
    "        \n",
    "model.add(Conv2D(filters=32, kernel_size=(5,5), \n",
    "                 activation='relu', input_shape=(28,28,1)))\n",
    "model.add(BatchNormalization())\n",
    "model.add(Dropout(0.1))\n",
    "model.add(Conv2D(filters=32, kernel_size=(5,5),\n",
    "                 activation='relu'))\n",
    "model.add(BatchNormalization())\n",
    "model.add(MaxPool2D(pool_size=(2,2)))\n",
    "model.add(Dropout(0.1))\n",
    "\n",
    "\n",
    "model.add(Conv2D(filters=64, kernel_size=(3,3),\n",
    "                 activation='relu'))\n",
    "model.add(BatchNormalization())\n",
    "model.add(Dropout(0.2))\n",
    "model.add(Conv2D(filters=64, kernel_size = (3,3),\n",
    "                 activation=\"relu\"))\n",
    "model.add(BatchNormalization())\n",
    "model.add(MaxPool2D(pool_size=(2,2)))\n",
    "model.add(Dropout(0.2))\n",
    "\n",
    "\n",
    "model.add(Flatten())\n",
    "model.add(Dense(128, activation='relu'))\n",
    "model.add(Dropout(0.5))\n",
    "\n",
    "model.add(Dense(35, activation='softmax'))"
   ]
  },
  {
   "cell_type": "code",
   "execution_count": 15,
   "metadata": {
    "colab": {
     "base_uri": "https://localhost:8080/"
    },
    "id": "5KSZnhga_bqq",
    "outputId": "1eae3057-bbb4-4e87-d069-6ed775ab03fd"
   },
   "outputs": [
    {
     "name": "stdout",
     "output_type": "stream",
     "text": [
      "Model: \"sequential\"\n",
      "_________________________________________________________________\n",
      " Layer (type)                Output Shape              Param #   \n",
      "=================================================================\n",
      " conv2d (Conv2D)             (None, 24, 24, 32)        832       \n",
      "                                                                 \n",
      " batch_normalization (BatchN  (None, 24, 24, 32)       128       \n",
      " ormalization)                                                   \n",
      "                                                                 \n",
      " dropout (Dropout)           (None, 24, 24, 32)        0         \n",
      "                                                                 \n",
      " conv2d_1 (Conv2D)           (None, 20, 20, 32)        25632     \n",
      "                                                                 \n",
      " batch_normalization_1 (Batc  (None, 20, 20, 32)       128       \n",
      " hNormalization)                                                 \n",
      "                                                                 \n",
      " max_pooling2d (MaxPooling2D  (None, 10, 10, 32)       0         \n",
      " )                                                               \n",
      "                                                                 \n",
      " dropout_1 (Dropout)         (None, 10, 10, 32)        0         \n",
      "                                                                 \n",
      " conv2d_2 (Conv2D)           (None, 8, 8, 64)          18496     \n",
      "                                                                 \n",
      " batch_normalization_2 (Batc  (None, 8, 8, 64)         256       \n",
      " hNormalization)                                                 \n",
      "                                                                 \n",
      " dropout_2 (Dropout)         (None, 8, 8, 64)          0         \n",
      "                                                                 \n",
      " conv2d_3 (Conv2D)           (None, 6, 6, 64)          36928     \n",
      "                                                                 \n",
      " batch_normalization_3 (Batc  (None, 6, 6, 64)         256       \n",
      " hNormalization)                                                 \n",
      "                                                                 \n",
      " max_pooling2d_1 (MaxPooling  (None, 3, 3, 64)         0         \n",
      " 2D)                                                             \n",
      "                                                                 \n",
      " dropout_3 (Dropout)         (None, 3, 3, 64)          0         \n",
      "                                                                 \n",
      " flatten (Flatten)           (None, 576)               0         \n",
      "                                                                 \n",
      " dense (Dense)               (None, 128)               73856     \n",
      "                                                                 \n",
      " dropout_4 (Dropout)         (None, 128)               0         \n",
      "                                                                 \n",
      " dense_1 (Dense)             (None, 35)                4515      \n",
      "                                                                 \n",
      "=================================================================\n",
      "Total params: 161,027\n",
      "Trainable params: 160,643\n",
      "Non-trainable params: 384\n",
      "_________________________________________________________________\n"
     ]
    }
   ],
   "source": [
    "model.summary()"
   ]
  },
  {
   "cell_type": "markdown",
   "metadata": {
    "id": "w4isRS-k-Ppi"
   },
   "source": [
    "## Set up Optimizer and Annealer"
   ]
  },
  {
   "cell_type": "markdown",
   "metadata": {
    "id": "dWXX-UhB-Ppi"
   },
   "source": [
    "Now that we have added layers to our model, we need to define a scoring function, a loss function, and an optimizer algorithm.\n",
    "* For this project, we will use the Adam optimizer and cross-entropy loss function.\n",
    "* To further improve our model's performance, we can also incorporate a learning rate annealer. This will gradually reduce the learning rate during training, allowing our model to converge more efficiently and reach better results.\n",
    "* We can choose an appropriate annealing method, such as reducing the learning rate by a factor after a certain number of epochs or when the validation loss plateaus. By using an annealer, we can fine-tune the learning process and achieve better accuracy with our model."
   ]
  },
  {
   "cell_type": "code",
   "execution_count": 16,
   "metadata": {
    "execution": {
     "iopub.execute_input": "2023-03-24T22:14:51.455029Z",
     "iopub.status.busy": "2023-03-24T22:14:51.454606Z",
     "iopub.status.idle": "2023-03-24T22:14:51.475164Z",
     "shell.execute_reply": "2023-03-24T22:14:51.474012Z",
     "shell.execute_reply.started": "2023-03-24T22:14:51.454984Z"
    },
    "id": "bT68djML-Ppi"
   },
   "outputs": [],
   "source": [
    "# Compile the model\n",
    "model.compile(optimizer=\"adam\", loss=\"categorical_crossentropy\", metrics=[\"accuracy\"])"
   ]
  },
  {
   "cell_type": "code",
   "execution_count": 17,
   "metadata": {
    "execution": {
     "iopub.execute_input": "2023-03-24T22:14:51.478623Z",
     "iopub.status.busy": "2023-03-24T22:14:51.477563Z",
     "iopub.status.idle": "2023-03-24T22:14:51.484091Z",
     "shell.execute_reply": "2023-03-24T22:14:51.482857Z",
     "shell.execute_reply.started": "2023-03-24T22:14:51.478574Z"
    },
    "id": "TPKok84O-Ppj"
   },
   "outputs": [],
   "source": [
    "# Set annealer\n",
    "annealer = LearningRateScheduler(lambda x: 1e-3 * 0.95 ** x)"
   ]
  },
  {
   "cell_type": "markdown",
   "metadata": {
    "id": "j-xlNmNU-Ppj"
   },
   "source": [
    "## Fit the Model"
   ]
  },
  {
   "cell_type": "code",
   "execution_count": 18,
   "metadata": {
    "_kg_hide-output": true,
    "colab": {
     "base_uri": "https://localhost:8080/"
    },
    "execution": {
     "iopub.execute_input": "2023-03-24T22:14:51.486175Z",
     "iopub.status.busy": "2023-03-24T22:14:51.485633Z",
     "iopub.status.idle": "2023-03-24T22:23:19.032777Z",
     "shell.execute_reply": "2023-03-24T22:23:19.031671Z",
     "shell.execute_reply.started": "2023-03-24T22:14:51.486134Z"
    },
    "id": "kV3Iv9DO-Ppj",
    "outputId": "937f472e-803a-46c6-f99c-71ed9d49ee3b"
   },
   "outputs": [
    {
     "name": "stdout",
     "output_type": "stream",
     "text": [
      "Epoch 1/200\n",
      "1312/1312 - 71s - loss: 1.5151 - accuracy: 0.5354 - val_loss: 0.3615 - val_accuracy: 0.8762 - lr: 0.0010 - 71s/epoch - 54ms/step\n",
      "Epoch 2/200\n",
      "1312/1312 - 54s - loss: 0.5252 - accuracy: 0.8304 - val_loss: 0.2263 - val_accuracy: 0.9274 - lr: 9.5000e-04 - 54s/epoch - 41ms/step\n",
      "Epoch 3/200\n",
      "1312/1312 - 54s - loss: 0.3816 - accuracy: 0.8816 - val_loss: 0.2062 - val_accuracy: 0.9362 - lr: 9.0250e-04 - 54s/epoch - 41ms/step\n",
      "Epoch 4/200\n",
      "1312/1312 - 54s - loss: 0.3189 - accuracy: 0.9032 - val_loss: 0.1554 - val_accuracy: 0.9515 - lr: 8.5737e-04 - 54s/epoch - 41ms/step\n",
      "Epoch 5/200\n",
      "1312/1312 - 54s - loss: 0.2818 - accuracy: 0.9145 - val_loss: 0.1337 - val_accuracy: 0.9609 - lr: 8.1451e-04 - 54s/epoch - 41ms/step\n",
      "Epoch 6/200\n",
      "1312/1312 - 54s - loss: 0.2591 - accuracy: 0.9229 - val_loss: 0.1082 - val_accuracy: 0.9675 - lr: 7.7378e-04 - 54s/epoch - 41ms/step\n",
      "Epoch 7/200\n",
      "1312/1312 - 54s - loss: 0.2396 - accuracy: 0.9285 - val_loss: 0.1074 - val_accuracy: 0.9697 - lr: 7.3509e-04 - 54s/epoch - 41ms/step\n",
      "Epoch 8/200\n",
      "1312/1312 - 54s - loss: 0.2257 - accuracy: 0.9333 - val_loss: 0.1165 - val_accuracy: 0.9671 - lr: 6.9834e-04 - 54s/epoch - 42ms/step\n",
      "Epoch 9/200\n",
      "1312/1312 - 53s - loss: 0.2197 - accuracy: 0.9357 - val_loss: 0.1040 - val_accuracy: 0.9708 - lr: 6.6342e-04 - 53s/epoch - 40ms/step\n",
      "Epoch 10/200\n",
      "1312/1312 - 52s - loss: 0.2069 - accuracy: 0.9391 - val_loss: 0.1236 - val_accuracy: 0.9663 - lr: 6.3025e-04 - 52s/epoch - 40ms/step\n",
      "Epoch 11/200\n",
      "1312/1312 - 52s - loss: 0.1985 - accuracy: 0.9419 - val_loss: 0.1076 - val_accuracy: 0.9703 - lr: 5.9874e-04 - 52s/epoch - 39ms/step\n",
      "Epoch 12/200\n",
      "1312/1312 - 52s - loss: 0.1918 - accuracy: 0.9441 - val_loss: 0.1085 - val_accuracy: 0.9696 - lr: 5.6880e-04 - 52s/epoch - 39ms/step\n",
      "Epoch 13/200\n",
      "1312/1312 - 53s - loss: 0.1852 - accuracy: 0.9456 - val_loss: 0.0976 - val_accuracy: 0.9730 - lr: 5.4036e-04 - 53s/epoch - 40ms/step\n",
      "Epoch 14/200\n",
      "1312/1312 - 52s - loss: 0.1809 - accuracy: 0.9472 - val_loss: 0.0882 - val_accuracy: 0.9748 - lr: 5.1334e-04 - 52s/epoch - 40ms/step\n",
      "Epoch 15/200\n",
      "1312/1312 - 52s - loss: 0.1768 - accuracy: 0.9491 - val_loss: 0.0883 - val_accuracy: 0.9763 - lr: 4.8767e-04 - 52s/epoch - 39ms/step\n",
      "Epoch 16/200\n",
      "1312/1312 - 54s - loss: 0.1708 - accuracy: 0.9497 - val_loss: 0.0846 - val_accuracy: 0.9771 - lr: 4.6329e-04 - 54s/epoch - 41ms/step\n",
      "Epoch 17/200\n",
      "1312/1312 - 54s - loss: 0.1698 - accuracy: 0.9508 - val_loss: 0.0819 - val_accuracy: 0.9778 - lr: 4.4013e-04 - 54s/epoch - 41ms/step\n",
      "Epoch 18/200\n",
      "1312/1312 - 55s - loss: 0.1669 - accuracy: 0.9509 - val_loss: 0.0811 - val_accuracy: 0.9777 - lr: 4.1812e-04 - 55s/epoch - 42ms/step\n",
      "Epoch 19/200\n",
      "1312/1312 - 54s - loss: 0.1609 - accuracy: 0.9531 - val_loss: 0.0839 - val_accuracy: 0.9776 - lr: 3.9721e-04 - 54s/epoch - 41ms/step\n",
      "Epoch 20/200\n",
      "1312/1312 - 53s - loss: 0.1579 - accuracy: 0.9541 - val_loss: 0.0789 - val_accuracy: 0.9793 - lr: 3.7735e-04 - 53s/epoch - 41ms/step\n",
      "Epoch 21/200\n",
      "1312/1312 - 53s - loss: 0.1560 - accuracy: 0.9541 - val_loss: 0.0877 - val_accuracy: 0.9768 - lr: 3.5849e-04 - 53s/epoch - 40ms/step\n",
      "Epoch 22/200\n",
      "1312/1312 - 54s - loss: 0.1542 - accuracy: 0.9556 - val_loss: 0.0887 - val_accuracy: 0.9756 - lr: 3.4056e-04 - 54s/epoch - 41ms/step\n",
      "Epoch 23/200\n",
      "1312/1312 - 54s - loss: 0.1513 - accuracy: 0.9558 - val_loss: 0.0868 - val_accuracy: 0.9768 - lr: 3.2353e-04 - 54s/epoch - 41ms/step\n",
      "Epoch 24/200\n",
      "1312/1312 - 55s - loss: 0.1507 - accuracy: 0.9562 - val_loss: 0.0758 - val_accuracy: 0.9791 - lr: 3.0736e-04 - 55s/epoch - 42ms/step\n",
      "Epoch 25/200\n",
      "1312/1312 - 52s - loss: 0.1470 - accuracy: 0.9572 - val_loss: 0.0775 - val_accuracy: 0.9792 - lr: 2.9199e-04 - 52s/epoch - 40ms/step\n",
      "Epoch 26/200\n",
      "1312/1312 - 53s - loss: 0.1457 - accuracy: 0.9576 - val_loss: 0.0774 - val_accuracy: 0.9794 - lr: 2.7739e-04 - 53s/epoch - 40ms/step\n",
      "Epoch 27/200\n",
      "1312/1312 - 53s - loss: 0.1434 - accuracy: 0.9587 - val_loss: 0.0742 - val_accuracy: 0.9799 - lr: 2.6352e-04 - 53s/epoch - 40ms/step\n",
      "Epoch 28/200\n",
      "1312/1312 - 52s - loss: 0.1418 - accuracy: 0.9584 - val_loss: 0.0727 - val_accuracy: 0.9808 - lr: 2.5034e-04 - 52s/epoch - 40ms/step\n",
      "Epoch 29/200\n",
      "1312/1312 - 53s - loss: 0.1393 - accuracy: 0.9594 - val_loss: 0.0768 - val_accuracy: 0.9793 - lr: 2.3783e-04 - 53s/epoch - 41ms/step\n",
      "Epoch 30/200\n",
      "1312/1312 - 53s - loss: 0.1410 - accuracy: 0.9586 - val_loss: 0.0750 - val_accuracy: 0.9807 - lr: 2.2594e-04 - 53s/epoch - 40ms/step\n",
      "Epoch 31/200\n",
      "1312/1312 - 53s - loss: 0.1379 - accuracy: 0.9599 - val_loss: 0.0720 - val_accuracy: 0.9805 - lr: 2.1464e-04 - 53s/epoch - 40ms/step\n",
      "Epoch 32/200\n",
      "1312/1312 - 55s - loss: 0.1372 - accuracy: 0.9601 - val_loss: 0.0727 - val_accuracy: 0.9807 - lr: 2.0391e-04 - 55s/epoch - 42ms/step\n",
      "Epoch 33/200\n",
      "1312/1312 - 53s - loss: 0.1346 - accuracy: 0.9607 - val_loss: 0.0707 - val_accuracy: 0.9810 - lr: 1.9371e-04 - 53s/epoch - 41ms/step\n",
      "Epoch 34/200\n",
      "1312/1312 - 53s - loss: 0.1328 - accuracy: 0.9614 - val_loss: 0.0734 - val_accuracy: 0.9805 - lr: 1.8403e-04 - 53s/epoch - 41ms/step\n",
      "Epoch 35/200\n",
      "1312/1312 - 53s - loss: 0.1341 - accuracy: 0.9609 - val_loss: 0.0737 - val_accuracy: 0.9802 - lr: 1.7482e-04 - 53s/epoch - 40ms/step\n",
      "Epoch 36/200\n",
      "1312/1312 - 52s - loss: 0.1325 - accuracy: 0.9616 - val_loss: 0.0739 - val_accuracy: 0.9799 - lr: 1.6608e-04 - 52s/epoch - 40ms/step\n",
      "Epoch 37/200\n",
      "1312/1312 - 53s - loss: 0.1310 - accuracy: 0.9619 - val_loss: 0.0727 - val_accuracy: 0.9806 - lr: 1.5778e-04 - 53s/epoch - 41ms/step\n",
      "Epoch 38/200\n",
      "1312/1312 - 52s - loss: 0.1315 - accuracy: 0.9614 - val_loss: 0.0694 - val_accuracy: 0.9816 - lr: 1.4989e-04 - 52s/epoch - 40ms/step\n",
      "Epoch 39/200\n",
      "1312/1312 - 52s - loss: 0.1303 - accuracy: 0.9615 - val_loss: 0.0696 - val_accuracy: 0.9815 - lr: 1.4240e-04 - 52s/epoch - 40ms/step\n",
      "Epoch 40/200\n",
      "1312/1312 - 52s - loss: 0.1295 - accuracy: 0.9623 - val_loss: 0.0699 - val_accuracy: 0.9819 - lr: 1.3528e-04 - 52s/epoch - 40ms/step\n",
      "Epoch 41/200\n",
      "1312/1312 - 53s - loss: 0.1274 - accuracy: 0.9632 - val_loss: 0.0685 - val_accuracy: 0.9817 - lr: 1.2851e-04 - 53s/epoch - 40ms/step\n",
      "Epoch 42/200\n",
      "1312/1312 - 52s - loss: 0.1273 - accuracy: 0.9631 - val_loss: 0.0692 - val_accuracy: 0.9816 - lr: 1.2209e-04 - 52s/epoch - 39ms/step\n",
      "Epoch 43/200\n",
      "1312/1312 - 52s - loss: 0.1256 - accuracy: 0.9632 - val_loss: 0.0715 - val_accuracy: 0.9811 - lr: 1.1598e-04 - 52s/epoch - 39ms/step\n",
      "Epoch 44/200\n",
      "1312/1312 - 52s - loss: 0.1259 - accuracy: 0.9631 - val_loss: 0.0692 - val_accuracy: 0.9820 - lr: 1.1018e-04 - 52s/epoch - 40ms/step\n",
      "Epoch 45/200\n",
      "1312/1312 - 53s - loss: 0.1285 - accuracy: 0.9628 - val_loss: 0.0689 - val_accuracy: 0.9819 - lr: 1.0467e-04 - 53s/epoch - 41ms/step\n",
      "Epoch 46/200\n",
      "1312/1312 - 54s - loss: 0.1257 - accuracy: 0.9631 - val_loss: 0.0693 - val_accuracy: 0.9821 - lr: 9.9440e-05 - 54s/epoch - 42ms/step\n",
      "Epoch 47/200\n",
      "1312/1312 - 55s - loss: 0.1238 - accuracy: 0.9636 - val_loss: 0.0693 - val_accuracy: 0.9820 - lr: 9.4468e-05 - 55s/epoch - 42ms/step\n",
      "Epoch 48/200\n",
      "1312/1312 - 55s - loss: 0.1240 - accuracy: 0.9638 - val_loss: 0.0696 - val_accuracy: 0.9820 - lr: 8.9745e-05 - 55s/epoch - 42ms/step\n",
      "Epoch 49/200\n",
      "1312/1312 - 53s - loss: 0.1229 - accuracy: 0.9642 - val_loss: 0.0687 - val_accuracy: 0.9823 - lr: 8.5258e-05 - 53s/epoch - 40ms/step\n",
      "Epoch 50/200\n",
      "1312/1312 - 55s - loss: 0.1238 - accuracy: 0.9641 - val_loss: 0.0683 - val_accuracy: 0.9822 - lr: 8.0995e-05 - 55s/epoch - 42ms/step\n",
      "Epoch 51/200\n",
      "1312/1312 - 53s - loss: 0.1210 - accuracy: 0.9641 - val_loss: 0.0677 - val_accuracy: 0.9823 - lr: 7.6945e-05 - 53s/epoch - 41ms/step\n",
      "Epoch 52/200\n",
      "1312/1312 - 55s - loss: 0.1219 - accuracy: 0.9643 - val_loss: 0.0682 - val_accuracy: 0.9821 - lr: 7.3098e-05 - 55s/epoch - 42ms/step\n",
      "Epoch 53/200\n",
      "1312/1312 - 54s - loss: 0.1235 - accuracy: 0.9641 - val_loss: 0.0668 - val_accuracy: 0.9829 - lr: 6.9443e-05 - 54s/epoch - 41ms/step\n",
      "Epoch 54/200\n",
      "1312/1312 - 56s - loss: 0.1205 - accuracy: 0.9648 - val_loss: 0.0676 - val_accuracy: 0.9827 - lr: 6.5971e-05 - 56s/epoch - 42ms/step\n",
      "Epoch 55/200\n",
      "1312/1312 - 52s - loss: 0.1199 - accuracy: 0.9650 - val_loss: 0.0679 - val_accuracy: 0.9825 - lr: 6.2672e-05 - 52s/epoch - 40ms/step\n",
      "Epoch 56/200\n",
      "1312/1312 - 55s - loss: 0.1221 - accuracy: 0.9651 - val_loss: 0.0683 - val_accuracy: 0.9827 - lr: 5.9539e-05 - 55s/epoch - 42ms/step\n",
      "Epoch 57/200\n",
      "1312/1312 - 55s - loss: 0.1189 - accuracy: 0.9654 - val_loss: 0.0661 - val_accuracy: 0.9827 - lr: 5.6562e-05 - 55s/epoch - 42ms/step\n",
      "Epoch 58/200\n",
      "1312/1312 - 54s - loss: 0.1187 - accuracy: 0.9652 - val_loss: 0.0675 - val_accuracy: 0.9826 - lr: 5.3734e-05 - 54s/epoch - 41ms/step\n",
      "Epoch 59/200\n",
      "1312/1312 - 55s - loss: 0.1219 - accuracy: 0.9647 - val_loss: 0.0675 - val_accuracy: 0.9824 - lr: 5.1047e-05 - 55s/epoch - 42ms/step\n",
      "Epoch 60/200\n",
      "1312/1312 - 56s - loss: 0.1194 - accuracy: 0.9649 - val_loss: 0.0674 - val_accuracy: 0.9828 - lr: 4.8495e-05 - 56s/epoch - 42ms/step\n",
      "Epoch 61/200\n",
      "1312/1312 - 56s - loss: 0.1201 - accuracy: 0.9649 - val_loss: 0.0682 - val_accuracy: 0.9826 - lr: 4.6070e-05 - 56s/epoch - 43ms/step\n",
      "Epoch 62/200\n",
      "1312/1312 - 54s - loss: 0.1195 - accuracy: 0.9647 - val_loss: 0.0672 - val_accuracy: 0.9827 - lr: 4.3766e-05 - 54s/epoch - 41ms/step\n",
      "Epoch 63/200\n",
      "1312/1312 - 54s - loss: 0.1176 - accuracy: 0.9653 - val_loss: 0.0673 - val_accuracy: 0.9826 - lr: 4.1578e-05 - 54s/epoch - 41ms/step\n",
      "Epoch 64/200\n",
      "1312/1312 - 54s - loss: 0.1176 - accuracy: 0.9654 - val_loss: 0.0675 - val_accuracy: 0.9825 - lr: 3.9499e-05 - 54s/epoch - 41ms/step\n",
      "Epoch 65/200\n",
      "1312/1312 - 54s - loss: 0.1172 - accuracy: 0.9651 - val_loss: 0.0672 - val_accuracy: 0.9828 - lr: 3.7524e-05 - 54s/epoch - 41ms/step\n",
      "Epoch 66/200\n",
      "1312/1312 - 57s - loss: 0.1175 - accuracy: 0.9658 - val_loss: 0.0670 - val_accuracy: 0.9824 - lr: 3.5648e-05 - 57s/epoch - 43ms/step\n",
      "Epoch 67/200\n",
      "1312/1312 - 56s - loss: 0.1185 - accuracy: 0.9655 - val_loss: 0.0676 - val_accuracy: 0.9823 - lr: 3.3866e-05 - 56s/epoch - 43ms/step\n",
      "Epoch 68/200\n",
      "1312/1312 - 54s - loss: 0.1179 - accuracy: 0.9660 - val_loss: 0.0654 - val_accuracy: 0.9832 - lr: 3.2172e-05 - 54s/epoch - 41ms/step\n",
      "Epoch 69/200\n",
      "1312/1312 - 56s - loss: 0.1182 - accuracy: 0.9656 - val_loss: 0.0667 - val_accuracy: 0.9832 - lr: 3.0564e-05 - 56s/epoch - 42ms/step\n",
      "Epoch 70/200\n",
      "1312/1312 - 56s - loss: 0.1190 - accuracy: 0.9653 - val_loss: 0.0668 - val_accuracy: 0.9830 - lr: 2.9035e-05 - 56s/epoch - 42ms/step\n",
      "Epoch 71/200\n",
      "1312/1312 - 54s - loss: 0.1189 - accuracy: 0.9653 - val_loss: 0.0671 - val_accuracy: 0.9827 - lr: 2.7584e-05 - 54s/epoch - 41ms/step\n",
      "Epoch 72/200\n",
      "1312/1312 - 53s - loss: 0.1168 - accuracy: 0.9661 - val_loss: 0.0670 - val_accuracy: 0.9827 - lr: 2.6205e-05 - 53s/epoch - 40ms/step\n",
      "Epoch 73/200\n",
      "1312/1312 - 53s - loss: 0.1161 - accuracy: 0.9662 - val_loss: 0.0667 - val_accuracy: 0.9827 - lr: 2.4894e-05 - 53s/epoch - 40ms/step\n",
      "Epoch 74/200\n",
      "1312/1312 - 55s - loss: 0.1149 - accuracy: 0.9663 - val_loss: 0.0670 - val_accuracy: 0.9828 - lr: 2.3650e-05 - 55s/epoch - 42ms/step\n",
      "Epoch 75/200\n",
      "1312/1312 - 53s - loss: 0.1163 - accuracy: 0.9662 - val_loss: 0.0668 - val_accuracy: 0.9827 - lr: 2.2467e-05 - 53s/epoch - 41ms/step\n",
      "Epoch 76/200\n",
      "1312/1312 - 54s - loss: 0.1162 - accuracy: 0.9661 - val_loss: 0.0671 - val_accuracy: 0.9826 - lr: 2.1344e-05 - 54s/epoch - 41ms/step\n",
      "Epoch 77/200\n",
      "1312/1312 - 54s - loss: 0.1178 - accuracy: 0.9659 - val_loss: 0.0668 - val_accuracy: 0.9827 - lr: 2.0277e-05 - 54s/epoch - 41ms/step\n",
      "Epoch 78/200\n",
      "1312/1312 - 53s - loss: 0.1180 - accuracy: 0.9654 - val_loss: 0.0673 - val_accuracy: 0.9826 - lr: 1.9263e-05 - 53s/epoch - 41ms/step\n",
      "Epoch 79/200\n",
      "1312/1312 - 54s - loss: 0.1172 - accuracy: 0.9659 - val_loss: 0.0668 - val_accuracy: 0.9826 - lr: 1.8300e-05 - 54s/epoch - 41ms/step\n",
      "Epoch 80/200\n",
      "1312/1312 - 56s - loss: 0.1165 - accuracy: 0.9660 - val_loss: 0.0668 - val_accuracy: 0.9830 - lr: 1.7385e-05 - 56s/epoch - 42ms/step\n",
      "Epoch 81/200\n",
      "1312/1312 - 53s - loss: 0.1147 - accuracy: 0.9667 - val_loss: 0.0665 - val_accuracy: 0.9829 - lr: 1.6515e-05 - 53s/epoch - 41ms/step\n",
      "Epoch 82/200\n",
      "1312/1312 - 55s - loss: 0.1181 - accuracy: 0.9657 - val_loss: 0.0658 - val_accuracy: 0.9830 - lr: 1.5690e-05 - 55s/epoch - 42ms/step\n",
      "Epoch 83/200\n",
      "1312/1312 - 55s - loss: 0.1175 - accuracy: 0.9659 - val_loss: 0.0666 - val_accuracy: 0.9826 - lr: 1.4905e-05 - 55s/epoch - 42ms/step\n",
      "Epoch 84/200\n",
      "1312/1312 - 55s - loss: 0.1172 - accuracy: 0.9658 - val_loss: 0.0666 - val_accuracy: 0.9828 - lr: 1.4160e-05 - 55s/epoch - 42ms/step\n",
      "Epoch 85/200\n",
      "1312/1312 - 55s - loss: 0.1152 - accuracy: 0.9667 - val_loss: 0.0664 - val_accuracy: 0.9829 - lr: 1.3452e-05 - 55s/epoch - 42ms/step\n",
      "Epoch 86/200\n",
      "1312/1312 - 53s - loss: 0.1156 - accuracy: 0.9668 - val_loss: 0.0659 - val_accuracy: 0.9829 - lr: 1.2779e-05 - 53s/epoch - 40ms/step\n",
      "Epoch 87/200\n",
      "1312/1312 - 54s - loss: 0.1144 - accuracy: 0.9663 - val_loss: 0.0661 - val_accuracy: 0.9830 - lr: 1.2140e-05 - 54s/epoch - 42ms/step\n",
      "Epoch 88/200\n",
      "1312/1312 - 54s - loss: 0.1167 - accuracy: 0.9656 - val_loss: 0.0658 - val_accuracy: 0.9828 - lr: 1.1533e-05 - 54s/epoch - 41ms/step\n",
      "Epoch 89/200\n",
      "1312/1312 - 52s - loss: 0.1161 - accuracy: 0.9665 - val_loss: 0.0665 - val_accuracy: 0.9829 - lr: 1.0957e-05 - 52s/epoch - 40ms/step\n",
      "Epoch 90/200\n",
      "1312/1312 - 52s - loss: 0.1140 - accuracy: 0.9659 - val_loss: 0.0660 - val_accuracy: 0.9831 - lr: 1.0409e-05 - 52s/epoch - 40ms/step\n",
      "Epoch 91/200\n",
      "1312/1312 - 54s - loss: 0.1170 - accuracy: 0.9661 - val_loss: 0.0659 - val_accuracy: 0.9829 - lr: 9.8884e-06 - 54s/epoch - 41ms/step\n",
      "Epoch 92/200\n",
      "1312/1312 - 53s - loss: 0.1154 - accuracy: 0.9662 - val_loss: 0.0663 - val_accuracy: 0.9828 - lr: 9.3939e-06 - 53s/epoch - 40ms/step\n",
      "Epoch 93/200\n",
      "1312/1312 - 55s - loss: 0.1141 - accuracy: 0.9664 - val_loss: 0.0666 - val_accuracy: 0.9826 - lr: 8.9242e-06 - 55s/epoch - 42ms/step\n",
      "Epoch 94/200\n",
      "1312/1312 - 54s - loss: 0.1157 - accuracy: 0.9659 - val_loss: 0.0664 - val_accuracy: 0.9828 - lr: 8.4780e-06 - 54s/epoch - 41ms/step\n",
      "Epoch 95/200\n",
      "1312/1312 - 51s - loss: 0.1164 - accuracy: 0.9660 - val_loss: 0.0659 - val_accuracy: 0.9829 - lr: 8.0541e-06 - 51s/epoch - 39ms/step\n",
      "Epoch 96/200\n",
      "1312/1312 - 53s - loss: 0.1174 - accuracy: 0.9661 - val_loss: 0.0659 - val_accuracy: 0.9829 - lr: 7.6514e-06 - 53s/epoch - 40ms/step\n",
      "Epoch 97/200\n",
      "1312/1312 - 55s - loss: 0.1165 - accuracy: 0.9658 - val_loss: 0.0659 - val_accuracy: 0.9827 - lr: 7.2689e-06 - 55s/epoch - 42ms/step\n",
      "Epoch 98/200\n",
      "1312/1312 - 53s - loss: 0.1162 - accuracy: 0.9664 - val_loss: 0.0658 - val_accuracy: 0.9827 - lr: 6.9054e-06 - 53s/epoch - 40ms/step\n",
      "Epoch 99/200\n",
      "1312/1312 - 53s - loss: 0.1140 - accuracy: 0.9667 - val_loss: 0.0658 - val_accuracy: 0.9828 - lr: 6.5601e-06 - 53s/epoch - 41ms/step\n",
      "Epoch 100/200\n",
      "1312/1312 - 55s - loss: 0.1149 - accuracy: 0.9665 - val_loss: 0.0664 - val_accuracy: 0.9827 - lr: 6.2321e-06 - 55s/epoch - 42ms/step\n",
      "Epoch 101/200\n",
      "1312/1312 - 54s - loss: 0.1146 - accuracy: 0.9662 - val_loss: 0.0662 - val_accuracy: 0.9828 - lr: 5.9205e-06 - 54s/epoch - 41ms/step\n",
      "Epoch 102/200\n",
      "1312/1312 - 55s - loss: 0.1163 - accuracy: 0.9663 - val_loss: 0.0665 - val_accuracy: 0.9828 - lr: 5.6245e-06 - 55s/epoch - 42ms/step\n",
      "Epoch 103/200\n",
      "1312/1312 - 55s - loss: 0.1144 - accuracy: 0.9660 - val_loss: 0.0663 - val_accuracy: 0.9828 - lr: 5.3433e-06 - 55s/epoch - 42ms/step\n",
      "Epoch 104/200\n",
      "1312/1312 - 53s - loss: 0.1137 - accuracy: 0.9664 - val_loss: 0.0663 - val_accuracy: 0.9827 - lr: 5.0761e-06 - 53s/epoch - 40ms/step\n",
      "Epoch 105/200\n",
      "1312/1312 - 54s - loss: 0.1155 - accuracy: 0.9660 - val_loss: 0.0662 - val_accuracy: 0.9828 - lr: 4.8223e-06 - 54s/epoch - 41ms/step\n",
      "Epoch 106/200\n",
      "1312/1312 - 56s - loss: 0.1147 - accuracy: 0.9662 - val_loss: 0.0662 - val_accuracy: 0.9828 - lr: 4.5812e-06 - 56s/epoch - 42ms/step\n",
      "Epoch 107/200\n",
      "1312/1312 - 54s - loss: 0.1165 - accuracy: 0.9664 - val_loss: 0.0663 - val_accuracy: 0.9829 - lr: 4.3521e-06 - 54s/epoch - 41ms/step\n",
      "Epoch 108/200\n",
      "1312/1312 - 54s - loss: 0.1129 - accuracy: 0.9671 - val_loss: 0.0663 - val_accuracy: 0.9827 - lr: 4.1345e-06 - 54s/epoch - 41ms/step\n",
      "Epoch 109/200\n",
      "1312/1312 - 53s - loss: 0.1153 - accuracy: 0.9665 - val_loss: 0.0663 - val_accuracy: 0.9827 - lr: 3.9278e-06 - 53s/epoch - 40ms/step\n",
      "Epoch 110/200\n",
      "1312/1312 - 54s - loss: 0.1156 - accuracy: 0.9663 - val_loss: 0.0660 - val_accuracy: 0.9827 - lr: 3.7314e-06 - 54s/epoch - 41ms/step\n",
      "Epoch 111/200\n",
      "1312/1312 - 53s - loss: 0.1122 - accuracy: 0.9671 - val_loss: 0.0661 - val_accuracy: 0.9829 - lr: 3.5448e-06 - 53s/epoch - 41ms/step\n",
      "Epoch 112/200\n",
      "1312/1312 - 55s - loss: 0.1152 - accuracy: 0.9661 - val_loss: 0.0662 - val_accuracy: 0.9829 - lr: 3.3676e-06 - 55s/epoch - 42ms/step\n",
      "Epoch 113/200\n",
      "1312/1312 - 54s - loss: 0.1142 - accuracy: 0.9665 - val_loss: 0.0663 - val_accuracy: 0.9828 - lr: 3.1992e-06 - 54s/epoch - 41ms/step\n",
      "Epoch 114/200\n",
      "1312/1312 - 53s - loss: 0.1153 - accuracy: 0.9665 - val_loss: 0.0663 - val_accuracy: 0.9829 - lr: 3.0393e-06 - 53s/epoch - 40ms/step\n",
      "Epoch 115/200\n",
      "1312/1312 - 52s - loss: 0.1154 - accuracy: 0.9658 - val_loss: 0.0666 - val_accuracy: 0.9828 - lr: 2.8873e-06 - 52s/epoch - 40ms/step\n",
      "Epoch 116/200\n",
      "1312/1312 - 54s - loss: 0.1137 - accuracy: 0.9668 - val_loss: 0.0665 - val_accuracy: 0.9828 - lr: 2.7429e-06 - 54s/epoch - 41ms/step\n",
      "Epoch 117/200\n",
      "1312/1312 - 55s - loss: 0.1167 - accuracy: 0.9658 - val_loss: 0.0665 - val_accuracy: 0.9828 - lr: 2.6058e-06 - 55s/epoch - 42ms/step\n",
      "Epoch 118/200\n",
      "1312/1312 - 55s - loss: 0.1144 - accuracy: 0.9661 - val_loss: 0.0667 - val_accuracy: 0.9828 - lr: 2.4755e-06 - 55s/epoch - 42ms/step\n",
      "Epoch 119/200\n",
      "1312/1312 - 53s - loss: 0.1164 - accuracy: 0.9660 - val_loss: 0.0662 - val_accuracy: 0.9829 - lr: 2.3517e-06 - 53s/epoch - 41ms/step\n",
      "Epoch 120/200\n",
      "1312/1312 - 53s - loss: 0.1129 - accuracy: 0.9667 - val_loss: 0.0663 - val_accuracy: 0.9829 - lr: 2.2341e-06 - 53s/epoch - 41ms/step\n",
      "Epoch 121/200\n",
      "1312/1312 - 54s - loss: 0.1153 - accuracy: 0.9663 - val_loss: 0.0663 - val_accuracy: 0.9829 - lr: 2.1224e-06 - 54s/epoch - 41ms/step\n",
      "Epoch 122/200\n",
      "1312/1312 - 54s - loss: 0.1160 - accuracy: 0.9662 - val_loss: 0.0665 - val_accuracy: 0.9828 - lr: 2.0163e-06 - 54s/epoch - 41ms/step\n",
      "Epoch 123/200\n",
      "1312/1312 - 54s - loss: 0.1147 - accuracy: 0.9662 - val_loss: 0.0664 - val_accuracy: 0.9829 - lr: 1.9155e-06 - 54s/epoch - 41ms/step\n",
      "Epoch 124/200\n",
      "1312/1312 - 54s - loss: 0.1130 - accuracy: 0.9671 - val_loss: 0.0666 - val_accuracy: 0.9828 - lr: 1.8197e-06 - 54s/epoch - 41ms/step\n",
      "Epoch 125/200\n",
      "1312/1312 - 54s - loss: 0.1137 - accuracy: 0.9670 - val_loss: 0.0662 - val_accuracy: 0.9828 - lr: 1.7287e-06 - 54s/epoch - 41ms/step\n",
      "Epoch 126/200\n",
      "1312/1312 - 56s - loss: 0.1142 - accuracy: 0.9665 - val_loss: 0.0665 - val_accuracy: 0.9829 - lr: 1.6423e-06 - 56s/epoch - 42ms/step\n",
      "Epoch 127/200\n",
      "1312/1312 - 55s - loss: 0.1146 - accuracy: 0.9661 - val_loss: 0.0664 - val_accuracy: 0.9829 - lr: 1.5602e-06 - 55s/epoch - 42ms/step\n",
      "Epoch 128/200\n",
      "1312/1312 - 55s - loss: 0.1141 - accuracy: 0.9666 - val_loss: 0.0663 - val_accuracy: 0.9830 - lr: 1.4822e-06 - 55s/epoch - 42ms/step\n",
      "Epoch 129/200\n",
      "1312/1312 - 55s - loss: 0.1146 - accuracy: 0.9665 - val_loss: 0.0664 - val_accuracy: 0.9829 - lr: 1.4081e-06 - 55s/epoch - 42ms/step\n",
      "Epoch 130/200\n",
      "1312/1312 - 54s - loss: 0.1134 - accuracy: 0.9665 - val_loss: 0.0663 - val_accuracy: 0.9830 - lr: 1.3377e-06 - 54s/epoch - 41ms/step\n",
      "Epoch 131/200\n",
      "1312/1312 - 52s - loss: 0.1146 - accuracy: 0.9665 - val_loss: 0.0667 - val_accuracy: 0.9829 - lr: 1.2708e-06 - 52s/epoch - 40ms/step\n",
      "Epoch 132/200\n",
      "1312/1312 - 54s - loss: 0.1142 - accuracy: 0.9662 - val_loss: 0.0663 - val_accuracy: 0.9830 - lr: 1.2072e-06 - 54s/epoch - 41ms/step\n",
      "Epoch 133/200\n",
      "1312/1312 - 53s - loss: 0.1143 - accuracy: 0.9663 - val_loss: 0.0665 - val_accuracy: 0.9829 - lr: 1.1469e-06 - 53s/epoch - 41ms/step\n",
      "Epoch 134/200\n",
      "1312/1312 - 55s - loss: 0.1140 - accuracy: 0.9664 - val_loss: 0.0665 - val_accuracy: 0.9829 - lr: 1.0895e-06 - 55s/epoch - 42ms/step\n",
      "Epoch 135/200\n",
      "1312/1312 - 53s - loss: 0.1171 - accuracy: 0.9657 - val_loss: 0.0662 - val_accuracy: 0.9830 - lr: 1.0351e-06 - 53s/epoch - 40ms/step\n",
      "Epoch 136/200\n",
      "1312/1312 - 54s - loss: 0.1160 - accuracy: 0.9663 - val_loss: 0.0662 - val_accuracy: 0.9831 - lr: 9.8330e-07 - 54s/epoch - 41ms/step\n",
      "Epoch 137/200\n",
      "1312/1312 - 55s - loss: 0.1133 - accuracy: 0.9666 - val_loss: 0.0662 - val_accuracy: 0.9830 - lr: 9.3414e-07 - 55s/epoch - 42ms/step\n",
      "Epoch 138/200\n",
      "1312/1312 - 53s - loss: 0.1123 - accuracy: 0.9673 - val_loss: 0.0661 - val_accuracy: 0.9831 - lr: 8.8743e-07 - 53s/epoch - 41ms/step\n",
      "Epoch 139/200\n",
      "1312/1312 - 54s - loss: 0.1143 - accuracy: 0.9665 - val_loss: 0.0664 - val_accuracy: 0.9829 - lr: 8.4306e-07 - 54s/epoch - 41ms/step\n",
      "Epoch 140/200\n",
      "1312/1312 - 53s - loss: 0.1149 - accuracy: 0.9666 - val_loss: 0.0662 - val_accuracy: 0.9829 - lr: 8.0091e-07 - 53s/epoch - 40ms/step\n",
      "Epoch 141/200\n",
      "1312/1312 - 53s - loss: 0.1132 - accuracy: 0.9666 - val_loss: 0.0662 - val_accuracy: 0.9829 - lr: 7.6086e-07 - 53s/epoch - 40ms/step\n",
      "Epoch 142/200\n",
      "1312/1312 - 53s - loss: 0.1155 - accuracy: 0.9662 - val_loss: 0.0667 - val_accuracy: 0.9828 - lr: 7.2282e-07 - 53s/epoch - 40ms/step\n",
      "Epoch 143/200\n",
      "1312/1312 - 53s - loss: 0.1152 - accuracy: 0.9666 - val_loss: 0.0665 - val_accuracy: 0.9828 - lr: 6.8668e-07 - 53s/epoch - 41ms/step\n",
      "Epoch 144/200\n",
      "1312/1312 - 54s - loss: 0.1150 - accuracy: 0.9661 - val_loss: 0.0665 - val_accuracy: 0.9829 - lr: 6.5234e-07 - 54s/epoch - 41ms/step\n",
      "Epoch 145/200\n",
      "1312/1312 - 55s - loss: 0.1138 - accuracy: 0.9669 - val_loss: 0.0662 - val_accuracy: 0.9829 - lr: 6.1973e-07 - 55s/epoch - 42ms/step\n",
      "Epoch 146/200\n",
      "1312/1312 - 53s - loss: 0.1129 - accuracy: 0.9666 - val_loss: 0.0665 - val_accuracy: 0.9829 - lr: 5.8874e-07 - 53s/epoch - 41ms/step\n",
      "Epoch 147/200\n",
      "1312/1312 - 53s - loss: 0.1149 - accuracy: 0.9663 - val_loss: 0.0665 - val_accuracy: 0.9829 - lr: 5.5930e-07 - 53s/epoch - 41ms/step\n",
      "Epoch 148/200\n",
      "1312/1312 - 53s - loss: 0.1143 - accuracy: 0.9668 - val_loss: 0.0664 - val_accuracy: 0.9830 - lr: 5.3134e-07 - 53s/epoch - 40ms/step\n",
      "Epoch 149/200\n",
      "1312/1312 - 53s - loss: 0.1144 - accuracy: 0.9663 - val_loss: 0.0660 - val_accuracy: 0.9830 - lr: 5.0477e-07 - 53s/epoch - 41ms/step\n",
      "Epoch 150/200\n",
      "1312/1312 - 53s - loss: 0.1165 - accuracy: 0.9661 - val_loss: 0.0662 - val_accuracy: 0.9829 - lr: 4.7953e-07 - 53s/epoch - 40ms/step\n",
      "Epoch 151/200\n",
      "1312/1312 - 55s - loss: 0.1132 - accuracy: 0.9671 - val_loss: 0.0666 - val_accuracy: 0.9828 - lr: 4.5555e-07 - 55s/epoch - 42ms/step\n",
      "Epoch 152/200\n",
      "1312/1312 - 53s - loss: 0.1135 - accuracy: 0.9668 - val_loss: 0.0663 - val_accuracy: 0.9829 - lr: 4.3278e-07 - 53s/epoch - 40ms/step\n",
      "Epoch 153/200\n",
      "1312/1312 - 53s - loss: 0.1140 - accuracy: 0.9669 - val_loss: 0.0665 - val_accuracy: 0.9830 - lr: 4.1114e-07 - 53s/epoch - 41ms/step\n",
      "Epoch 154/200\n",
      "1312/1312 - 53s - loss: 0.1140 - accuracy: 0.9669 - val_loss: 0.0666 - val_accuracy: 0.9828 - lr: 3.9058e-07 - 53s/epoch - 40ms/step\n",
      "Epoch 155/200\n",
      "1312/1312 - 53s - loss: 0.1154 - accuracy: 0.9664 - val_loss: 0.0663 - val_accuracy: 0.9828 - lr: 3.7105e-07 - 53s/epoch - 40ms/step\n",
      "Epoch 156/200\n",
      "1312/1312 - 55s - loss: 0.1136 - accuracy: 0.9665 - val_loss: 0.0663 - val_accuracy: 0.9830 - lr: 3.5250e-07 - 55s/epoch - 42ms/step\n",
      "Epoch 157/200\n",
      "1312/1312 - 53s - loss: 0.1138 - accuracy: 0.9664 - val_loss: 0.0664 - val_accuracy: 0.9830 - lr: 3.3487e-07 - 53s/epoch - 40ms/step\n",
      "Epoch 158/200\n",
      "1312/1312 - 53s - loss: 0.1153 - accuracy: 0.9663 - val_loss: 0.0662 - val_accuracy: 0.9829 - lr: 3.1813e-07 - 53s/epoch - 40ms/step\n",
      "Epoch 159/200\n",
      "1312/1312 - 55s - loss: 0.1153 - accuracy: 0.9669 - val_loss: 0.0663 - val_accuracy: 0.9829 - lr: 3.0222e-07 - 55s/epoch - 42ms/step\n",
      "Epoch 160/200\n",
      "1312/1312 - 57s - loss: 0.1141 - accuracy: 0.9664 - val_loss: 0.0661 - val_accuracy: 0.9829 - lr: 2.8711e-07 - 57s/epoch - 43ms/step\n",
      "Epoch 161/200\n",
      "1312/1312 - 52s - loss: 0.1150 - accuracy: 0.9661 - val_loss: 0.0660 - val_accuracy: 0.9830 - lr: 2.7276e-07 - 52s/epoch - 40ms/step\n",
      "Epoch 162/200\n",
      "1312/1312 - 53s - loss: 0.1127 - accuracy: 0.9668 - val_loss: 0.0661 - val_accuracy: 0.9829 - lr: 2.5912e-07 - 53s/epoch - 40ms/step\n",
      "Epoch 163/200\n",
      "1312/1312 - 56s - loss: 0.1134 - accuracy: 0.9667 - val_loss: 0.0666 - val_accuracy: 0.9828 - lr: 2.4616e-07 - 56s/epoch - 42ms/step\n",
      "Epoch 164/200\n",
      "1312/1312 - 56s - loss: 0.1145 - accuracy: 0.9662 - val_loss: 0.0662 - val_accuracy: 0.9830 - lr: 2.3386e-07 - 56s/epoch - 43ms/step\n",
      "Epoch 165/200\n",
      "1312/1312 - 53s - loss: 0.1121 - accuracy: 0.9671 - val_loss: 0.0661 - val_accuracy: 0.9830 - lr: 2.2216e-07 - 53s/epoch - 40ms/step\n",
      "Epoch 166/200\n",
      "1312/1312 - 69s - loss: 0.1130 - accuracy: 0.9666 - val_loss: 0.0662 - val_accuracy: 0.9830 - lr: 2.1105e-07 - 69s/epoch - 52ms/step\n",
      "Epoch 167/200\n",
      "1312/1312 - 57s - loss: 0.1153 - accuracy: 0.9658 - val_loss: 0.0660 - val_accuracy: 0.9830 - lr: 2.0050e-07 - 57s/epoch - 43ms/step\n",
      "Epoch 168/200\n",
      "1312/1312 - 57s - loss: 0.1136 - accuracy: 0.9670 - val_loss: 0.0661 - val_accuracy: 0.9829 - lr: 1.9048e-07 - 57s/epoch - 43ms/step\n",
      "Epoch 169/200\n",
      "1312/1312 - 55s - loss: 0.1145 - accuracy: 0.9664 - val_loss: 0.0662 - val_accuracy: 0.9830 - lr: 1.8095e-07 - 55s/epoch - 42ms/step\n",
      "Epoch 170/200\n",
      "1312/1312 - 55s - loss: 0.1155 - accuracy: 0.9666 - val_loss: 0.0660 - val_accuracy: 0.9830 - lr: 1.7191e-07 - 55s/epoch - 42ms/step\n",
      "Epoch 171/200\n",
      "1312/1312 - 56s - loss: 0.1156 - accuracy: 0.9664 - val_loss: 0.0663 - val_accuracy: 0.9830 - lr: 1.6331e-07 - 56s/epoch - 42ms/step\n",
      "Epoch 172/200\n",
      "1312/1312 - 55s - loss: 0.1132 - accuracy: 0.9669 - val_loss: 0.0661 - val_accuracy: 0.9830 - lr: 1.5514e-07 - 55s/epoch - 42ms/step\n",
      "Epoch 173/200\n",
      "1312/1312 - 53s - loss: 0.1132 - accuracy: 0.9672 - val_loss: 0.0663 - val_accuracy: 0.9829 - lr: 1.4739e-07 - 53s/epoch - 41ms/step\n",
      "Epoch 174/200\n",
      "1312/1312 - 53s - loss: 0.1170 - accuracy: 0.9657 - val_loss: 0.0662 - val_accuracy: 0.9829 - lr: 1.4002e-07 - 53s/epoch - 40ms/step\n",
      "Epoch 175/200\n",
      "1312/1312 - 51s - loss: 0.1135 - accuracy: 0.9666 - val_loss: 0.0665 - val_accuracy: 0.9828 - lr: 1.3302e-07 - 51s/epoch - 39ms/step\n",
      "Epoch 176/200\n",
      "1312/1312 - 55s - loss: 0.1152 - accuracy: 0.9659 - val_loss: 0.0664 - val_accuracy: 0.9829 - lr: 1.2637e-07 - 55s/epoch - 42ms/step\n",
      "Epoch 177/200\n",
      "1312/1312 - 52s - loss: 0.1158 - accuracy: 0.9660 - val_loss: 0.0664 - val_accuracy: 0.9828 - lr: 1.2005e-07 - 52s/epoch - 40ms/step\n",
      "Epoch 178/200\n",
      "1312/1312 - 53s - loss: 0.1148 - accuracy: 0.9663 - val_loss: 0.0663 - val_accuracy: 0.9829 - lr: 1.1405e-07 - 53s/epoch - 41ms/step\n",
      "Epoch 179/200\n",
      "1312/1312 - 55s - loss: 0.1154 - accuracy: 0.9664 - val_loss: 0.0661 - val_accuracy: 0.9830 - lr: 1.0834e-07 - 55s/epoch - 42ms/step\n",
      "Epoch 180/200\n",
      "1312/1312 - 52s - loss: 0.1167 - accuracy: 0.9662 - val_loss: 0.0662 - val_accuracy: 0.9829 - lr: 1.0293e-07 - 52s/epoch - 40ms/step\n",
      "Epoch 181/200\n",
      "1312/1312 - 55s - loss: 0.1166 - accuracy: 0.9665 - val_loss: 0.0662 - val_accuracy: 0.9830 - lr: 9.7780e-08 - 55s/epoch - 42ms/step\n",
      "Epoch 182/200\n",
      "1312/1312 - 53s - loss: 0.1156 - accuracy: 0.9660 - val_loss: 0.0660 - val_accuracy: 0.9830 - lr: 9.2891e-08 - 53s/epoch - 41ms/step\n",
      "Epoch 183/200\n",
      "1312/1312 - 52s - loss: 0.1131 - accuracy: 0.9667 - val_loss: 0.0662 - val_accuracy: 0.9830 - lr: 8.8246e-08 - 52s/epoch - 40ms/step\n",
      "Epoch 184/200\n",
      "1312/1312 - 52s - loss: 0.1141 - accuracy: 0.9666 - val_loss: 0.0661 - val_accuracy: 0.9829 - lr: 8.3834e-08 - 52s/epoch - 40ms/step\n",
      "Epoch 185/200\n",
      "1312/1312 - 55s - loss: 0.1147 - accuracy: 0.9666 - val_loss: 0.0661 - val_accuracy: 0.9828 - lr: 7.9642e-08 - 55s/epoch - 42ms/step\n",
      "Epoch 186/200\n",
      "1312/1312 - 53s - loss: 0.1149 - accuracy: 0.9663 - val_loss: 0.0662 - val_accuracy: 0.9829 - lr: 7.5660e-08 - 53s/epoch - 40ms/step\n",
      "Epoch 187/200\n",
      "1312/1312 - 53s - loss: 0.1149 - accuracy: 0.9666 - val_loss: 0.0660 - val_accuracy: 0.9830 - lr: 7.1877e-08 - 53s/epoch - 40ms/step\n",
      "Epoch 188/200\n",
      "1312/1312 - 52s - loss: 0.1152 - accuracy: 0.9663 - val_loss: 0.0661 - val_accuracy: 0.9830 - lr: 6.8283e-08 - 52s/epoch - 40ms/step\n",
      "Epoch 189/200\n",
      "1312/1312 - 54s - loss: 0.1143 - accuracy: 0.9665 - val_loss: 0.0662 - val_accuracy: 0.9830 - lr: 6.4869e-08 - 54s/epoch - 41ms/step\n",
      "Epoch 190/200\n",
      "1312/1312 - 53s - loss: 0.1147 - accuracy: 0.9663 - val_loss: 0.0665 - val_accuracy: 0.9829 - lr: 6.1626e-08 - 53s/epoch - 41ms/step\n",
      "Epoch 191/200\n",
      "1312/1312 - 52s - loss: 0.1119 - accuracy: 0.9676 - val_loss: 0.0663 - val_accuracy: 0.9830 - lr: 5.8544e-08 - 52s/epoch - 40ms/step\n",
      "Epoch 192/200\n",
      "1312/1312 - 55s - loss: 0.1151 - accuracy: 0.9667 - val_loss: 0.0663 - val_accuracy: 0.9829 - lr: 5.5617e-08 - 55s/epoch - 42ms/step\n",
      "Epoch 193/200\n",
      "1312/1312 - 54s - loss: 0.1148 - accuracy: 0.9662 - val_loss: 0.0663 - val_accuracy: 0.9829 - lr: 5.2836e-08 - 54s/epoch - 41ms/step\n",
      "Epoch 194/200\n",
      "1312/1312 - 53s - loss: 0.1137 - accuracy: 0.9668 - val_loss: 0.0662 - val_accuracy: 0.9831 - lr: 5.0194e-08 - 53s/epoch - 40ms/step\n",
      "Epoch 195/200\n",
      "1312/1312 - 55s - loss: 0.1134 - accuracy: 0.9665 - val_loss: 0.0660 - val_accuracy: 0.9830 - lr: 4.7685e-08 - 55s/epoch - 42ms/step\n",
      "Epoch 196/200\n",
      "1312/1312 - 52s - loss: 0.1137 - accuracy: 0.9666 - val_loss: 0.0666 - val_accuracy: 0.9828 - lr: 4.5301e-08 - 52s/epoch - 40ms/step\n",
      "Epoch 197/200\n",
      "1312/1312 - 54s - loss: 0.1157 - accuracy: 0.9659 - val_loss: 0.0662 - val_accuracy: 0.9829 - lr: 4.3035e-08 - 54s/epoch - 41ms/step\n",
      "Epoch 198/200\n",
      "1312/1312 - 54s - loss: 0.1123 - accuracy: 0.9672 - val_loss: 0.0662 - val_accuracy: 0.9830 - lr: 4.0884e-08 - 54s/epoch - 41ms/step\n",
      "Epoch 199/200\n",
      "1312/1312 - 55s - loss: 0.1114 - accuracy: 0.9671 - val_loss: 0.0663 - val_accuracy: 0.9830 - lr: 3.8840e-08 - 55s/epoch - 42ms/step\n",
      "Epoch 200/200\n",
      "1312/1312 - 53s - loss: 0.1156 - accuracy: 0.9663 - val_loss: 0.0661 - val_accuracy: 0.9830 - lr: 3.6898e-08 - 53s/epoch - 40ms/step\n"
     ]
    }
   ],
   "source": [
    "# set epochs and batch_size\n",
    "epochs = 200\n",
    "batch_size = 128\n",
    "\n",
    "# Fit the model\n",
    "history = model.fit(datagen.flow(X_train,y_train, batch_size=batch_size), \n",
    "                    epochs = epochs, validation_data = (X_val,y_val),\n",
    "                    verbose = 2, steps_per_epoch=X_train.shape[0] // batch_size,\n",
    "                    callbacks=[annealer],)"
   ]
  },
  {
   "cell_type": "code",
   "execution_count": 21,
   "metadata": {
    "id": "kKbptKTQomvy"
   },
   "outputs": [],
   "source": [
    "model.save(\"model.h5\")"
   ]
  },
  {
   "cell_type": "code",
   "execution_count": 22,
   "metadata": {
    "id": "tUToFs2GopoD"
   },
   "outputs": [],
   "source": [
    "!cp model.h5 /content/drive/MyDrive/Model/"
   ]
  },
  {
   "cell_type": "code",
   "execution_count": 19,
   "metadata": {
    "execution": {
     "iopub.execute_input": "2023-03-24T22:38:04.696339Z",
     "iopub.status.busy": "2023-03-24T22:38:04.695555Z",
     "iopub.status.idle": "2023-03-24T22:38:04.702926Z",
     "shell.execute_reply": "2023-03-24T22:38:04.701711Z",
     "shell.execute_reply.started": "2023-03-24T22:38:04.696297Z"
    },
    "id": "b2uOPGD5-Ppj"
   },
   "outputs": [],
   "source": [
    "history_df = pd.DataFrame(history.history)"
   ]
  },
  {
   "cell_type": "code",
   "execution_count": 20,
   "metadata": {
    "colab": {
     "base_uri": "https://localhost:8080/",
     "height": 423
    },
    "execution": {
     "iopub.execute_input": "2023-03-24T22:49:43.736789Z",
     "iopub.status.busy": "2023-03-24T22:49:43.736253Z",
     "iopub.status.idle": "2023-03-24T22:49:44.122833Z",
     "shell.execute_reply": "2023-03-24T22:49:44.121573Z",
     "shell.execute_reply.started": "2023-03-24T22:49:43.736712Z"
    },
    "id": "fZDYmtmp-Ppj",
    "outputId": "73f558b6-2f1c-4aee-839b-ef08379dcba1"
   },
   "outputs": [
    {
     "data": {
      "image/png": "[encoded data removed]",
      "text/plain": [
       "<Figure size 1400x800 with 1 Axes>"
      ]
     },
     "metadata": {},
     "output_type": "display_data"
    },
    {
     "name": "stdout",
     "output_type": "stream",
     "text": [
      "Minimum validation loss: 0.06536959111690521\n"
     ]
    }
   ],
   "source": [
    "plt.figure(figsize = (14, 8))\n",
    "sns.set_style('white')\n",
    "\n",
    "plt.plot(history.history['loss'], color='k', label=\"Training loss\")\n",
    "plt.plot(history.history['val_loss'], color='r', label=\"Validation loss\")\n",
    "\n",
    "plt.legend(['Training Loss', 'Validation Loss'])\n",
    "\n",
    "sns.despine()\n",
    "plt.show()\n",
    "\n",
    "print(\"Minimum validation loss: {}\".format(history_df['val_loss'].min()))"
   ]
  },
  {
   "cell_type": "code",
   "execution_count": 23,
   "metadata": {
    "colab": {
     "base_uri": "https://localhost:8080/",
     "height": 423
    },
    "execution": {
     "iopub.execute_input": "2023-03-24T22:51:37.478354Z",
     "iopub.status.busy": "2023-03-24T22:51:37.477678Z",
     "iopub.status.idle": "2023-03-24T22:51:37.842082Z",
     "shell.execute_reply": "2023-03-24T22:51:37.840732Z",
     "shell.execute_reply.started": "2023-03-24T22:51:37.478313Z"
    },
    "id": "Aw8dxq-F-Ppk",
    "outputId": "1869b29a-efd5-4249-a2d7-a709ff4564e8"
   },
   "outputs": [
    {
     "data": {
      "image/png": "[encoded data removed]",
      "text/plain": [
       "<Figure size 1400x800 with 1 Axes>"
      ]
     },
     "metadata": {},
     "output_type": "display_data"
    },
    {
     "name": "stdout",
     "output_type": "stream",
     "text": [
      "Maximum validation accuracy: 0.983211874961853\n"
     ]
    }
   ],
   "source": [
    "plt.figure(figsize = (14, 8))\n",
    "sns.set_style('white')\n",
    "\n",
    "plt.plot(history.history['accuracy'], color='k', label=\"Training accuracy\")\n",
    "plt.plot(history.history['val_accuracy'], color='r', label=\"Validation accuracy\")\n",
    "\n",
    "plt.legend(['Training Accuracy', 'Validation Accuracy'])\n",
    "\n",
    "sns.despine()\n",
    "plt.show()\n",
    "\n",
    "print(\"Maximum validation accuracy: {}\".format(history_df['val_accuracy'].max()))"
   ]
  },
  {
   "cell_type": "markdown",
   "metadata": {
    "id": "r5qFLw0V-Ppk"
   },
   "source": [
    "# Prediction"
   ]
  },
  {
   "cell_type": "code",
   "execution_count": 24,
   "metadata": {
    "colab": {
     "base_uri": "https://localhost:8080/"
    },
    "execution": {
     "iopub.execute_input": "2023-03-24T22:53:57.172659Z",
     "iopub.status.busy": "2023-03-24T22:53:57.172116Z",
     "iopub.status.idle": "2023-03-24T22:54:00.365992Z",
     "shell.execute_reply": "2023-03-24T22:54:00.364632Z",
     "shell.execute_reply.started": "2023-03-24T22:53:57.172621Z"
    },
    "id": "57kcTEx1-Ppk",
    "outputId": "71d9490b-c317-4f6b-ae27-21d536a26c83"
   },
   "outputs": [
    {
     "name": "stdout",
     "output_type": "stream",
     "text": [
      "1093/1093 [==============================] - 4s 4ms/step\n"
     ]
    }
   ],
   "source": [
    "# predict results\n",
    "results = model.predict(test)\n",
    "\n",
    "# select the indix with the maximum probability\n",
    "results = np.argmax(results,axis = 1)\n",
    "\n",
    "results = pd.Series(results,name=\"Label\")"
   ]
  },
  {
   "cell_type": "code",
   "execution_count": 25,
   "metadata": {
    "execution": {
     "iopub.execute_input": "2023-03-24T22:55:40.64284Z",
     "iopub.status.busy": "2023-03-24T22:55:40.642198Z",
     "iopub.status.idle": "2023-03-24T22:55:40.686404Z",
     "shell.execute_reply": "2023-03-24T22:55:40.68532Z",
     "shell.execute_reply.started": "2023-03-24T22:55:40.642795Z"
    },
    "id": "GnCgyzEf-Ppk"
   },
   "outputs": [],
   "source": [
    "submissions=pd.DataFrame({\"ImageId\": list(range(1,len(results)+1)),\n",
    "                         \"Label\": results})\n",
    "submissions.to_csv(\"submission.csv\", index=False, header=True)"
   ]
  }
 ],
 "metadata": {
  "accelerator": "GPU",
  "colab": {
   "provenance": []
  },
  "gpuClass": "standard",
  "kernelspec": {
   "display_name": "Python 3 (ipykernel)",
   "language": "python",
   "name": "python3"
  },
  "language_info": {
   "codemirror_mode": {
    "name": "ipython",
    "version": 3
   },
   "file_extension": ".py",
   "mimetype": "text/x-python",
   "name": "python",
   "nbconvert_exporter": "python",
   "pygments_lexer": "ipython3",
   "version": "3.9.13"
  }
 },
 "nbformat": 4,
 "nbformat_minor": 1
}
